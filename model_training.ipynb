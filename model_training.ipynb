{
 "cells": [
  {
   "cell_type": "markdown",
   "metadata": {},
   "source": [
    "# 23/01/2024 - Hand Gesture Recognition\n",
    "\n",
    "---\n"
   ]
  },
  {
   "cell_type": "markdown",
   "metadata": {},
   "source": [
    "# Setup\n"
   ]
  },
  {
   "cell_type": "markdown",
   "metadata": {},
   "source": [
    "## Install Dependencies\n"
   ]
  },
  {
   "cell_type": "code",
   "execution_count": 58,
   "metadata": {
    "vscode": {
     "languageId": "shellscript"
    }
   },
   "outputs": [
    {
     "name": "stdout",
     "output_type": "stream",
     "text": [
      "Requirement already satisfied: pandas in /Users/louislecouturier/miniconda3/envs/kinected/lib/python3.11/site-packages (from -r requirements.txt (line 1)) (2.1.4)\n",
      "Requirement already satisfied: opencv-python in /Users/louislecouturier/miniconda3/envs/kinected/lib/python3.11/site-packages (from -r requirements.txt (line 2)) (4.8.1.78)\n",
      "Requirement already satisfied: mediapipe in /Users/louislecouturier/miniconda3/envs/kinected/lib/python3.11/site-packages (from -r requirements.txt (line 3)) (0.10.9)\n",
      "Requirement already satisfied: scikit-learn in /Users/louislecouturier/miniconda3/envs/kinected/lib/python3.11/site-packages (from -r requirements.txt (line 4)) (1.3.2)\n",
      "Requirement already satisfied: matplotlib in /Users/louislecouturier/miniconda3/envs/kinected/lib/python3.11/site-packages (from -r requirements.txt (line 5)) (3.8.2)\n",
      "Requirement already satisfied: numpy in /Users/louislecouturier/miniconda3/envs/kinected/lib/python3.11/site-packages (from -r requirements.txt (line 6)) (1.26.2)\n",
      "Requirement already satisfied: tensorflow in /Users/louislecouturier/miniconda3/envs/kinected/lib/python3.11/site-packages (from -r requirements.txt (line 7)) (2.15.0)\n",
      "Requirement already satisfied: joblib in /Users/louislecouturier/miniconda3/envs/kinected/lib/python3.11/site-packages (from -r requirements.txt (line 8)) (1.3.2)\n",
      "Requirement already satisfied: keyboard in /Users/louislecouturier/miniconda3/envs/kinected/lib/python3.11/site-packages (from -r requirements.txt (line 9)) (0.13.5)\n",
      "Requirement already satisfied: python-dateutil>=2.8.2 in /Users/louislecouturier/miniconda3/envs/kinected/lib/python3.11/site-packages (from pandas->-r requirements.txt (line 1)) (2.8.2)\n",
      "Requirement already satisfied: pytz>=2020.1 in /Users/louislecouturier/miniconda3/envs/kinected/lib/python3.11/site-packages (from pandas->-r requirements.txt (line 1)) (2023.3.post1)\n",
      "Requirement already satisfied: tzdata>=2022.1 in /Users/louislecouturier/miniconda3/envs/kinected/lib/python3.11/site-packages (from pandas->-r requirements.txt (line 1)) (2023.3)\n",
      "Requirement already satisfied: absl-py in /Users/louislecouturier/miniconda3/envs/kinected/lib/python3.11/site-packages (from mediapipe->-r requirements.txt (line 3)) (2.0.0)\n",
      "Requirement already satisfied: attrs>=19.1.0 in /Users/louislecouturier/miniconda3/envs/kinected/lib/python3.11/site-packages (from mediapipe->-r requirements.txt (line 3)) (23.1.0)\n",
      "Requirement already satisfied: flatbuffers>=2.0 in /Users/louislecouturier/miniconda3/envs/kinected/lib/python3.11/site-packages (from mediapipe->-r requirements.txt (line 3)) (23.5.26)\n",
      "Requirement already satisfied: opencv-contrib-python in /Users/louislecouturier/miniconda3/envs/kinected/lib/python3.11/site-packages (from mediapipe->-r requirements.txt (line 3)) (4.8.1.78)\n",
      "Requirement already satisfied: protobuf<4,>=3.11 in /Users/louislecouturier/miniconda3/envs/kinected/lib/python3.11/site-packages (from mediapipe->-r requirements.txt (line 3)) (3.20.3)\n",
      "Requirement already satisfied: sounddevice>=0.4.4 in /Users/louislecouturier/miniconda3/envs/kinected/lib/python3.11/site-packages (from mediapipe->-r requirements.txt (line 3)) (0.4.6)\n",
      "Requirement already satisfied: scipy>=1.5.0 in /Users/louislecouturier/miniconda3/envs/kinected/lib/python3.11/site-packages (from scikit-learn->-r requirements.txt (line 4)) (1.11.4)\n",
      "Requirement already satisfied: threadpoolctl>=2.0.0 in /Users/louislecouturier/miniconda3/envs/kinected/lib/python3.11/site-packages (from scikit-learn->-r requirements.txt (line 4)) (3.2.0)\n",
      "Requirement already satisfied: contourpy>=1.0.1 in /Users/louislecouturier/miniconda3/envs/kinected/lib/python3.11/site-packages (from matplotlib->-r requirements.txt (line 5)) (1.2.0)\n",
      "Requirement already satisfied: cycler>=0.10 in /Users/louislecouturier/miniconda3/envs/kinected/lib/python3.11/site-packages (from matplotlib->-r requirements.txt (line 5)) (0.12.1)\n",
      "Requirement already satisfied: fonttools>=4.22.0 in /Users/louislecouturier/miniconda3/envs/kinected/lib/python3.11/site-packages (from matplotlib->-r requirements.txt (line 5)) (4.46.0)\n",
      "Requirement already satisfied: kiwisolver>=1.3.1 in /Users/louislecouturier/miniconda3/envs/kinected/lib/python3.11/site-packages (from matplotlib->-r requirements.txt (line 5)) (1.4.5)\n",
      "Requirement already satisfied: packaging>=20.0 in /Users/louislecouturier/miniconda3/envs/kinected/lib/python3.11/site-packages (from matplotlib->-r requirements.txt (line 5)) (23.2)\n",
      "Requirement already satisfied: pillow>=8 in /Users/louislecouturier/miniconda3/envs/kinected/lib/python3.11/site-packages (from matplotlib->-r requirements.txt (line 5)) (10.0.1)\n",
      "Requirement already satisfied: pyparsing>=2.3.1 in /Users/louislecouturier/miniconda3/envs/kinected/lib/python3.11/site-packages (from matplotlib->-r requirements.txt (line 5)) (3.1.1)\n",
      "Requirement already satisfied: tensorflow-macos==2.15.0 in /Users/louislecouturier/miniconda3/envs/kinected/lib/python3.11/site-packages (from tensorflow->-r requirements.txt (line 7)) (2.15.0)\n",
      "Requirement already satisfied: astunparse>=1.6.0 in /Users/louislecouturier/miniconda3/envs/kinected/lib/python3.11/site-packages (from tensorflow-macos==2.15.0->tensorflow->-r requirements.txt (line 7)) (1.6.3)\n",
      "Requirement already satisfied: gast!=0.5.0,!=0.5.1,!=0.5.2,>=0.2.1 in /Users/louislecouturier/miniconda3/envs/kinected/lib/python3.11/site-packages (from tensorflow-macos==2.15.0->tensorflow->-r requirements.txt (line 7)) (0.5.4)\n",
      "Requirement already satisfied: google-pasta>=0.1.1 in /Users/louislecouturier/miniconda3/envs/kinected/lib/python3.11/site-packages (from tensorflow-macos==2.15.0->tensorflow->-r requirements.txt (line 7)) (0.2.0)\n",
      "Requirement already satisfied: h5py>=2.9.0 in /Users/louislecouturier/miniconda3/envs/kinected/lib/python3.11/site-packages (from tensorflow-macos==2.15.0->tensorflow->-r requirements.txt (line 7)) (3.10.0)\n",
      "Requirement already satisfied: libclang>=13.0.0 in /Users/louislecouturier/miniconda3/envs/kinected/lib/python3.11/site-packages (from tensorflow-macos==2.15.0->tensorflow->-r requirements.txt (line 7)) (16.0.6)\n",
      "Requirement already satisfied: ml-dtypes~=0.2.0 in /Users/louislecouturier/miniconda3/envs/kinected/lib/python3.11/site-packages (from tensorflow-macos==2.15.0->tensorflow->-r requirements.txt (line 7)) (0.2.0)\n",
      "Requirement already satisfied: opt-einsum>=2.3.2 in /Users/louislecouturier/miniconda3/envs/kinected/lib/python3.11/site-packages (from tensorflow-macos==2.15.0->tensorflow->-r requirements.txt (line 7)) (3.3.0)\n",
      "Requirement already satisfied: setuptools in /Users/louislecouturier/miniconda3/envs/kinected/lib/python3.11/site-packages (from tensorflow-macos==2.15.0->tensorflow->-r requirements.txt (line 7)) (68.2.2)\n",
      "Requirement already satisfied: six>=1.12.0 in /Users/louislecouturier/miniconda3/envs/kinected/lib/python3.11/site-packages (from tensorflow-macos==2.15.0->tensorflow->-r requirements.txt (line 7)) (1.16.0)\n",
      "Requirement already satisfied: termcolor>=1.1.0 in /Users/louislecouturier/miniconda3/envs/kinected/lib/python3.11/site-packages (from tensorflow-macos==2.15.0->tensorflow->-r requirements.txt (line 7)) (2.4.0)\n",
      "Requirement already satisfied: typing-extensions>=3.6.6 in /Users/louislecouturier/miniconda3/envs/kinected/lib/python3.11/site-packages (from tensorflow-macos==2.15.0->tensorflow->-r requirements.txt (line 7)) (4.9.0)\n",
      "Requirement already satisfied: wrapt<1.15,>=1.11.0 in /Users/louislecouturier/miniconda3/envs/kinected/lib/python3.11/site-packages (from tensorflow-macos==2.15.0->tensorflow->-r requirements.txt (line 7)) (1.14.1)\n",
      "Requirement already satisfied: tensorflow-io-gcs-filesystem>=0.23.1 in /Users/louislecouturier/miniconda3/envs/kinected/lib/python3.11/site-packages (from tensorflow-macos==2.15.0->tensorflow->-r requirements.txt (line 7)) (0.34.0)\n",
      "Requirement already satisfied: grpcio<2.0,>=1.24.3 in /Users/louislecouturier/miniconda3/envs/kinected/lib/python3.11/site-packages (from tensorflow-macos==2.15.0->tensorflow->-r requirements.txt (line 7)) (1.60.0)\n",
      "Requirement already satisfied: tensorboard<2.16,>=2.15 in /Users/louislecouturier/miniconda3/envs/kinected/lib/python3.11/site-packages (from tensorflow-macos==2.15.0->tensorflow->-r requirements.txt (line 7)) (2.15.1)\n",
      "Requirement already satisfied: tensorflow-estimator<2.16,>=2.15.0 in /Users/louislecouturier/miniconda3/envs/kinected/lib/python3.11/site-packages (from tensorflow-macos==2.15.0->tensorflow->-r requirements.txt (line 7)) (2.15.0)\n",
      "Requirement already satisfied: keras<2.16,>=2.15.0 in /Users/louislecouturier/miniconda3/envs/kinected/lib/python3.11/site-packages (from tensorflow-macos==2.15.0->tensorflow->-r requirements.txt (line 7)) (2.15.0)\n",
      "Requirement already satisfied: pyobjc in /Users/louislecouturier/miniconda3/envs/kinected/lib/python3.11/site-packages (from keyboard->-r requirements.txt (line 9)) (10.1)\n",
      "Requirement already satisfied: CFFI>=1.0 in /Users/louislecouturier/miniconda3/envs/kinected/lib/python3.11/site-packages (from sounddevice>=0.4.4->mediapipe->-r requirements.txt (line 3)) (1.16.0)\n",
      "Requirement already satisfied: pyobjc-core==10.1 in /Users/louislecouturier/miniconda3/envs/kinected/lib/python3.11/site-packages (from pyobjc->keyboard->-r requirements.txt (line 9)) (10.1)\n",
      "Requirement already satisfied: pyobjc-framework-AddressBook==10.1 in /Users/louislecouturier/miniconda3/envs/kinected/lib/python3.11/site-packages (from pyobjc->keyboard->-r requirements.txt (line 9)) (10.1)\n",
      "Requirement already satisfied: pyobjc-framework-AppleScriptKit==10.1 in /Users/louislecouturier/miniconda3/envs/kinected/lib/python3.11/site-packages (from pyobjc->keyboard->-r requirements.txt (line 9)) (10.1)\n",
      "Requirement already satisfied: pyobjc-framework-ApplicationServices==10.1 in /Users/louislecouturier/miniconda3/envs/kinected/lib/python3.11/site-packages (from pyobjc->keyboard->-r requirements.txt (line 9)) (10.1)\n",
      "Requirement already satisfied: pyobjc-framework-Automator==10.1 in /Users/louislecouturier/miniconda3/envs/kinected/lib/python3.11/site-packages (from pyobjc->keyboard->-r requirements.txt (line 9)) (10.1)\n",
      "Requirement already satisfied: pyobjc-framework-CFNetwork==10.1 in /Users/louislecouturier/miniconda3/envs/kinected/lib/python3.11/site-packages (from pyobjc->keyboard->-r requirements.txt (line 9)) (10.1)\n",
      "Requirement already satisfied: pyobjc-framework-Cocoa==10.1 in /Users/louislecouturier/miniconda3/envs/kinected/lib/python3.11/site-packages (from pyobjc->keyboard->-r requirements.txt (line 9)) (10.1)\n",
      "Requirement already satisfied: pyobjc-framework-CoreAudio==10.1 in /Users/louislecouturier/miniconda3/envs/kinected/lib/python3.11/site-packages (from pyobjc->keyboard->-r requirements.txt (line 9)) (10.1)\n",
      "Requirement already satisfied: pyobjc-framework-CoreAudioKit==10.1 in /Users/louislecouturier/miniconda3/envs/kinected/lib/python3.11/site-packages (from pyobjc->keyboard->-r requirements.txt (line 9)) (10.1)\n",
      "Requirement already satisfied: pyobjc-framework-CoreData==10.1 in /Users/louislecouturier/miniconda3/envs/kinected/lib/python3.11/site-packages (from pyobjc->keyboard->-r requirements.txt (line 9)) (10.1)\n",
      "Requirement already satisfied: pyobjc-framework-CoreMIDI==10.1 in /Users/louislecouturier/miniconda3/envs/kinected/lib/python3.11/site-packages (from pyobjc->keyboard->-r requirements.txt (line 9)) (10.1)\n",
      "Requirement already satisfied: pyobjc-framework-CoreServices==10.1 in /Users/louislecouturier/miniconda3/envs/kinected/lib/python3.11/site-packages (from pyobjc->keyboard->-r requirements.txt (line 9)) (10.1)\n",
      "Requirement already satisfied: pyobjc-framework-CoreText==10.1 in /Users/louislecouturier/miniconda3/envs/kinected/lib/python3.11/site-packages (from pyobjc->keyboard->-r requirements.txt (line 9)) (10.1)\n",
      "Requirement already satisfied: pyobjc-framework-DiscRecording==10.1 in /Users/louislecouturier/miniconda3/envs/kinected/lib/python3.11/site-packages (from pyobjc->keyboard->-r requirements.txt (line 9)) (10.1)\n",
      "Requirement already satisfied: pyobjc-framework-DiscRecordingUI==10.1 in /Users/louislecouturier/miniconda3/envs/kinected/lib/python3.11/site-packages (from pyobjc->keyboard->-r requirements.txt (line 9)) (10.1)\n",
      "Requirement already satisfied: pyobjc-framework-DiskArbitration==10.1 in /Users/louislecouturier/miniconda3/envs/kinected/lib/python3.11/site-packages (from pyobjc->keyboard->-r requirements.txt (line 9)) (10.1)\n",
      "Requirement already satisfied: pyobjc-framework-DVDPlayback==10.1 in /Users/louislecouturier/miniconda3/envs/kinected/lib/python3.11/site-packages (from pyobjc->keyboard->-r requirements.txt (line 9)) (10.1)\n",
      "Requirement already satisfied: pyobjc-framework-ExceptionHandling==10.1 in /Users/louislecouturier/miniconda3/envs/kinected/lib/python3.11/site-packages (from pyobjc->keyboard->-r requirements.txt (line 9)) (10.1)\n",
      "Requirement already satisfied: pyobjc-framework-InstallerPlugins==10.1 in /Users/louislecouturier/miniconda3/envs/kinected/lib/python3.11/site-packages (from pyobjc->keyboard->-r requirements.txt (line 9)) (10.1)\n",
      "Requirement already satisfied: pyobjc-framework-IOBluetooth==10.1 in /Users/louislecouturier/miniconda3/envs/kinected/lib/python3.11/site-packages (from pyobjc->keyboard->-r requirements.txt (line 9)) (10.1)\n",
      "Requirement already satisfied: pyobjc-framework-IOBluetoothUI==10.1 in /Users/louislecouturier/miniconda3/envs/kinected/lib/python3.11/site-packages (from pyobjc->keyboard->-r requirements.txt (line 9)) (10.1)\n",
      "Requirement already satisfied: pyobjc-framework-LatentSemanticMapping==10.1 in /Users/louislecouturier/miniconda3/envs/kinected/lib/python3.11/site-packages (from pyobjc->keyboard->-r requirements.txt (line 9)) (10.1)\n",
      "Requirement already satisfied: pyobjc-framework-LaunchServices==10.1 in /Users/louislecouturier/miniconda3/envs/kinected/lib/python3.11/site-packages (from pyobjc->keyboard->-r requirements.txt (line 9)) (10.1)\n",
      "Requirement already satisfied: pyobjc-framework-OSAKit==10.1 in /Users/louislecouturier/miniconda3/envs/kinected/lib/python3.11/site-packages (from pyobjc->keyboard->-r requirements.txt (line 9)) (10.1)\n",
      "Requirement already satisfied: pyobjc-framework-PreferencePanes==10.1 in /Users/louislecouturier/miniconda3/envs/kinected/lib/python3.11/site-packages (from pyobjc->keyboard->-r requirements.txt (line 9)) (10.1)\n",
      "Requirement already satisfied: pyobjc-framework-Quartz==10.1 in /Users/louislecouturier/miniconda3/envs/kinected/lib/python3.11/site-packages (from pyobjc->keyboard->-r requirements.txt (line 9)) (10.1)\n",
      "Requirement already satisfied: pyobjc-framework-ScreenSaver==10.1 in /Users/louislecouturier/miniconda3/envs/kinected/lib/python3.11/site-packages (from pyobjc->keyboard->-r requirements.txt (line 9)) (10.1)\n",
      "Requirement already satisfied: pyobjc-framework-Security==10.1 in /Users/louislecouturier/miniconda3/envs/kinected/lib/python3.11/site-packages (from pyobjc->keyboard->-r requirements.txt (line 9)) (10.1)\n",
      "Requirement already satisfied: pyobjc-framework-SecurityFoundation==10.1 in /Users/louislecouturier/miniconda3/envs/kinected/lib/python3.11/site-packages (from pyobjc->keyboard->-r requirements.txt (line 9)) (10.1)\n",
      "Requirement already satisfied: pyobjc-framework-SecurityInterface==10.1 in /Users/louislecouturier/miniconda3/envs/kinected/lib/python3.11/site-packages (from pyobjc->keyboard->-r requirements.txt (line 9)) (10.1)\n",
      "Requirement already satisfied: pyobjc-framework-SearchKit==10.1 in /Users/louislecouturier/miniconda3/envs/kinected/lib/python3.11/site-packages (from pyobjc->keyboard->-r requirements.txt (line 9)) (10.1)\n",
      "Requirement already satisfied: pyobjc-framework-SyncServices==10.1 in /Users/louislecouturier/miniconda3/envs/kinected/lib/python3.11/site-packages (from pyobjc->keyboard->-r requirements.txt (line 9)) (10.1)\n",
      "Requirement already satisfied: pyobjc-framework-SystemConfiguration==10.1 in /Users/louislecouturier/miniconda3/envs/kinected/lib/python3.11/site-packages (from pyobjc->keyboard->-r requirements.txt (line 9)) (10.1)\n",
      "Requirement already satisfied: pyobjc-framework-WebKit==10.1 in /Users/louislecouturier/miniconda3/envs/kinected/lib/python3.11/site-packages (from pyobjc->keyboard->-r requirements.txt (line 9)) (10.1)\n",
      "Requirement already satisfied: pyobjc-framework-AppleScriptObjC==10.1 in /Users/louislecouturier/miniconda3/envs/kinected/lib/python3.11/site-packages (from pyobjc->keyboard->-r requirements.txt (line 9)) (10.1)\n",
      "Requirement already satisfied: pyobjc-framework-CoreLocation==10.1 in /Users/louislecouturier/miniconda3/envs/kinected/lib/python3.11/site-packages (from pyobjc->keyboard->-r requirements.txt (line 9)) (10.1)\n",
      "Requirement already satisfied: pyobjc-framework-CoreWLAN==10.1 in /Users/louislecouturier/miniconda3/envs/kinected/lib/python3.11/site-packages (from pyobjc->keyboard->-r requirements.txt (line 9)) (10.1)\n",
      "Requirement already satisfied: pyobjc-framework-ImageCaptureCore==10.1 in /Users/louislecouturier/miniconda3/envs/kinected/lib/python3.11/site-packages (from pyobjc->keyboard->-r requirements.txt (line 9)) (10.1)\n",
      "Requirement already satisfied: pyobjc-framework-IOSurface==10.1 in /Users/louislecouturier/miniconda3/envs/kinected/lib/python3.11/site-packages (from pyobjc->keyboard->-r requirements.txt (line 9)) (10.1)\n",
      "Requirement already satisfied: pyobjc-framework-NetFS==10.1 in /Users/louislecouturier/miniconda3/envs/kinected/lib/python3.11/site-packages (from pyobjc->keyboard->-r requirements.txt (line 9)) (10.1)\n",
      "Requirement already satisfied: pyobjc-framework-OpenDirectory==10.1 in /Users/louislecouturier/miniconda3/envs/kinected/lib/python3.11/site-packages (from pyobjc->keyboard->-r requirements.txt (line 9)) (10.1)\n",
      "Requirement already satisfied: pyobjc-framework-ServiceManagement==10.1 in /Users/louislecouturier/miniconda3/envs/kinected/lib/python3.11/site-packages (from pyobjc->keyboard->-r requirements.txt (line 9)) (10.1)\n",
      "Requirement already satisfied: pyobjc-framework-iTunesLibrary==10.1 in /Users/louislecouturier/miniconda3/envs/kinected/lib/python3.11/site-packages (from pyobjc->keyboard->-r requirements.txt (line 9)) (10.1)\n",
      "Requirement already satisfied: pyobjc-framework-AVFoundation==10.1 in /Users/louislecouturier/miniconda3/envs/kinected/lib/python3.11/site-packages (from pyobjc->keyboard->-r requirements.txt (line 9)) (10.1)\n",
      "Requirement already satisfied: pyobjc-framework-CoreMedia==10.1 in /Users/louislecouturier/miniconda3/envs/kinected/lib/python3.11/site-packages (from pyobjc->keyboard->-r requirements.txt (line 9)) (10.1)\n",
      "Requirement already satisfied: pyobjc-framework-CoreMediaIO==10.1 in /Users/louislecouturier/miniconda3/envs/kinected/lib/python3.11/site-packages (from pyobjc->keyboard->-r requirements.txt (line 9)) (10.1)\n",
      "Requirement already satisfied: pyobjc-framework-StoreKit==10.1 in /Users/louislecouturier/miniconda3/envs/kinected/lib/python3.11/site-packages (from pyobjc->keyboard->-r requirements.txt (line 9)) (10.1)\n",
      "Requirement already satisfied: pyobjc-framework-SceneKit==10.1 in /Users/louislecouturier/miniconda3/envs/kinected/lib/python3.11/site-packages (from pyobjc->keyboard->-r requirements.txt (line 9)) (10.1)\n",
      "Requirement already satisfied: pyobjc-framework-libdispatch==10.1 in /Users/louislecouturier/miniconda3/envs/kinected/lib/python3.11/site-packages (from pyobjc->keyboard->-r requirements.txt (line 9)) (10.1)\n",
      "Requirement already satisfied: pyobjc-framework-libxpc==10.1 in /Users/louislecouturier/miniconda3/envs/kinected/lib/python3.11/site-packages (from pyobjc->keyboard->-r requirements.txt (line 9)) (10.1)\n",
      "Requirement already satisfied: pyobjc-framework-AudioVideoBridging==10.1 in /Users/louislecouturier/miniconda3/envs/kinected/lib/python3.11/site-packages (from pyobjc->keyboard->-r requirements.txt (line 9)) (10.1)\n",
      "Requirement already satisfied: pyobjc-framework-Accounts==10.1 in /Users/louislecouturier/miniconda3/envs/kinected/lib/python3.11/site-packages (from pyobjc->keyboard->-r requirements.txt (line 9)) (10.1)\n",
      "Requirement already satisfied: pyobjc-framework-EventKit==10.1 in /Users/louislecouturier/miniconda3/envs/kinected/lib/python3.11/site-packages (from pyobjc->keyboard->-r requirements.txt (line 9)) (10.1)\n",
      "Requirement already satisfied: pyobjc-framework-GameCenter==10.1 in /Users/louislecouturier/miniconda3/envs/kinected/lib/python3.11/site-packages (from pyobjc->keyboard->-r requirements.txt (line 9)) (10.1)\n",
      "Requirement already satisfied: pyobjc-framework-Social==10.1 in /Users/louislecouturier/miniconda3/envs/kinected/lib/python3.11/site-packages (from pyobjc->keyboard->-r requirements.txt (line 9)) (10.1)\n",
      "Requirement already satisfied: pyobjc-framework-GameKit==10.1 in /Users/louislecouturier/miniconda3/envs/kinected/lib/python3.11/site-packages (from pyobjc->keyboard->-r requirements.txt (line 9)) (10.1)\n",
      "Requirement already satisfied: pyobjc-framework-VideoToolbox==10.1 in /Users/louislecouturier/miniconda3/envs/kinected/lib/python3.11/site-packages (from pyobjc->keyboard->-r requirements.txt (line 9)) (10.1)\n",
      "Requirement already satisfied: pyobjc-framework-AVKit==10.1 in /Users/louislecouturier/miniconda3/envs/kinected/lib/python3.11/site-packages (from pyobjc->keyboard->-r requirements.txt (line 9)) (10.1)\n",
      "Requirement already satisfied: pyobjc-framework-GameController==10.1 in /Users/louislecouturier/miniconda3/envs/kinected/lib/python3.11/site-packages (from pyobjc->keyboard->-r requirements.txt (line 9)) (10.1)\n",
      "Requirement already satisfied: pyobjc-framework-MapKit==10.1 in /Users/louislecouturier/miniconda3/envs/kinected/lib/python3.11/site-packages (from pyobjc->keyboard->-r requirements.txt (line 9)) (10.1)\n",
      "Requirement already satisfied: pyobjc-framework-MediaAccessibility==10.1 in /Users/louislecouturier/miniconda3/envs/kinected/lib/python3.11/site-packages (from pyobjc->keyboard->-r requirements.txt (line 9)) (10.1)\n",
      "Requirement already satisfied: pyobjc-framework-MediaLibrary==10.1 in /Users/louislecouturier/miniconda3/envs/kinected/lib/python3.11/site-packages (from pyobjc->keyboard->-r requirements.txt (line 9)) (10.1)\n",
      "Requirement already satisfied: pyobjc-framework-MediaToolbox==10.1 in /Users/louislecouturier/miniconda3/envs/kinected/lib/python3.11/site-packages (from pyobjc->keyboard->-r requirements.txt (line 9)) (10.1)\n",
      "Requirement already satisfied: pyobjc-framework-SpriteKit==10.1 in /Users/louislecouturier/miniconda3/envs/kinected/lib/python3.11/site-packages (from pyobjc->keyboard->-r requirements.txt (line 9)) (10.1)\n",
      "Requirement already satisfied: pyobjc-framework-CloudKit==10.1 in /Users/louislecouturier/miniconda3/envs/kinected/lib/python3.11/site-packages (from pyobjc->keyboard->-r requirements.txt (line 9)) (10.1)\n",
      "Requirement already satisfied: pyobjc-framework-CoreBluetooth==10.1 in /Users/louislecouturier/miniconda3/envs/kinected/lib/python3.11/site-packages (from pyobjc->keyboard->-r requirements.txt (line 9)) (10.1)\n",
      "Requirement already satisfied: pyobjc-framework-CryptoTokenKit==10.1 in /Users/louislecouturier/miniconda3/envs/kinected/lib/python3.11/site-packages (from pyobjc->keyboard->-r requirements.txt (line 9)) (10.1)\n",
      "Requirement already satisfied: pyobjc-framework-FinderSync==10.1 in /Users/louislecouturier/miniconda3/envs/kinected/lib/python3.11/site-packages (from pyobjc->keyboard->-r requirements.txt (line 9)) (10.1)\n",
      "Requirement already satisfied: pyobjc-framework-LocalAuthentication==10.1 in /Users/louislecouturier/miniconda3/envs/kinected/lib/python3.11/site-packages (from pyobjc->keyboard->-r requirements.txt (line 9)) (10.1)\n",
      "Requirement already satisfied: pyobjc-framework-MultipeerConnectivity==10.1 in /Users/louislecouturier/miniconda3/envs/kinected/lib/python3.11/site-packages (from pyobjc->keyboard->-r requirements.txt (line 9)) (10.1)\n",
      "Requirement already satisfied: pyobjc-framework-NotificationCenter==10.1 in /Users/louislecouturier/miniconda3/envs/kinected/lib/python3.11/site-packages (from pyobjc->keyboard->-r requirements.txt (line 9)) (10.1)\n",
      "Requirement already satisfied: pyobjc-framework-Contacts==10.1 in /Users/louislecouturier/miniconda3/envs/kinected/lib/python3.11/site-packages (from pyobjc->keyboard->-r requirements.txt (line 9)) (10.1)\n",
      "Requirement already satisfied: pyobjc-framework-ContactsUI==10.1 in /Users/louislecouturier/miniconda3/envs/kinected/lib/python3.11/site-packages (from pyobjc->keyboard->-r requirements.txt (line 9)) (10.1)\n",
      "Requirement already satisfied: pyobjc-framework-Metal==10.1 in /Users/louislecouturier/miniconda3/envs/kinected/lib/python3.11/site-packages (from pyobjc->keyboard->-r requirements.txt (line 9)) (10.1)\n",
      "Requirement already satisfied: pyobjc-framework-MetalKit==10.1 in /Users/louislecouturier/miniconda3/envs/kinected/lib/python3.11/site-packages (from pyobjc->keyboard->-r requirements.txt (line 9)) (10.1)\n",
      "Requirement already satisfied: pyobjc-framework-ModelIO==10.1 in /Users/louislecouturier/miniconda3/envs/kinected/lib/python3.11/site-packages (from pyobjc->keyboard->-r requirements.txt (line 9)) (10.1)\n",
      "Requirement already satisfied: pyobjc-framework-NetworkExtension==10.1 in /Users/louislecouturier/miniconda3/envs/kinected/lib/python3.11/site-packages (from pyobjc->keyboard->-r requirements.txt (line 9)) (10.1)\n",
      "Requirement already satisfied: pyobjc-framework-Photos==10.1 in /Users/louislecouturier/miniconda3/envs/kinected/lib/python3.11/site-packages (from pyobjc->keyboard->-r requirements.txt (line 9)) (10.1)\n",
      "Requirement already satisfied: pyobjc-framework-PhotosUI==10.1 in /Users/louislecouturier/miniconda3/envs/kinected/lib/python3.11/site-packages (from pyobjc->keyboard->-r requirements.txt (line 9)) (10.1)\n",
      "Requirement already satisfied: pyobjc-framework-GameplayKit==10.1 in /Users/louislecouturier/miniconda3/envs/kinected/lib/python3.11/site-packages (from pyobjc->keyboard->-r requirements.txt (line 9)) (10.1)\n",
      "Requirement already satisfied: pyobjc-framework-Intents==10.1 in /Users/louislecouturier/miniconda3/envs/kinected/lib/python3.11/site-packages (from pyobjc->keyboard->-r requirements.txt (line 9)) (10.1)\n",
      "Requirement already satisfied: pyobjc-framework-MediaPlayer==10.1 in /Users/louislecouturier/miniconda3/envs/kinected/lib/python3.11/site-packages (from pyobjc->keyboard->-r requirements.txt (line 9)) (10.1)\n",
      "Requirement already satisfied: pyobjc-framework-SafariServices==10.1 in /Users/louislecouturier/miniconda3/envs/kinected/lib/python3.11/site-packages (from pyobjc->keyboard->-r requirements.txt (line 9)) (10.1)\n",
      "Requirement already satisfied: pyobjc-framework-ColorSync==10.1 in /Users/louislecouturier/miniconda3/envs/kinected/lib/python3.11/site-packages (from pyobjc->keyboard->-r requirements.txt (line 9)) (10.1)\n",
      "Requirement already satisfied: pyobjc-framework-CoreML==10.1 in /Users/louislecouturier/miniconda3/envs/kinected/lib/python3.11/site-packages (from pyobjc->keyboard->-r requirements.txt (line 9)) (10.1)\n",
      "Requirement already satisfied: pyobjc-framework-CoreSpotlight==10.1 in /Users/louislecouturier/miniconda3/envs/kinected/lib/python3.11/site-packages (from pyobjc->keyboard->-r requirements.txt (line 9)) (10.1)\n",
      "Requirement already satisfied: pyobjc-framework-ExternalAccessory==10.1 in /Users/louislecouturier/miniconda3/envs/kinected/lib/python3.11/site-packages (from pyobjc->keyboard->-r requirements.txt (line 9)) (10.1)\n",
      "Requirement already satisfied: pyobjc-framework-MetalPerformanceShaders==10.1 in /Users/louislecouturier/miniconda3/envs/kinected/lib/python3.11/site-packages (from pyobjc->keyboard->-r requirements.txt (line 9)) (10.1)\n",
      "Requirement already satisfied: pyobjc-framework-Vision==10.1 in /Users/louislecouturier/miniconda3/envs/kinected/lib/python3.11/site-packages (from pyobjc->keyboard->-r requirements.txt (line 9)) (10.1)\n",
      "Requirement already satisfied: pyobjc-framework-AdSupport==10.1 in /Users/louislecouturier/miniconda3/envs/kinected/lib/python3.11/site-packages (from pyobjc->keyboard->-r requirements.txt (line 9)) (10.1)\n",
      "Requirement already satisfied: pyobjc-framework-BusinessChat==10.1 in /Users/louislecouturier/miniconda3/envs/kinected/lib/python3.11/site-packages (from pyobjc->keyboard->-r requirements.txt (line 9)) (10.1)\n",
      "Requirement already satisfied: pyobjc-framework-NaturalLanguage==10.1 in /Users/louislecouturier/miniconda3/envs/kinected/lib/python3.11/site-packages (from pyobjc->keyboard->-r requirements.txt (line 9)) (10.1)\n",
      "Requirement already satisfied: pyobjc-framework-Network==10.1 in /Users/louislecouturier/miniconda3/envs/kinected/lib/python3.11/site-packages (from pyobjc->keyboard->-r requirements.txt (line 9)) (10.1)\n",
      "Requirement already satisfied: pyobjc-framework-UserNotifications==10.1 in /Users/louislecouturier/miniconda3/envs/kinected/lib/python3.11/site-packages (from pyobjc->keyboard->-r requirements.txt (line 9)) (10.1)\n",
      "Requirement already satisfied: pyobjc-framework-VideoSubscriberAccount==10.1 in /Users/louislecouturier/miniconda3/envs/kinected/lib/python3.11/site-packages (from pyobjc->keyboard->-r requirements.txt (line 9)) (10.1)\n",
      "Requirement already satisfied: pyobjc-framework-AuthenticationServices==10.1 in /Users/louislecouturier/miniconda3/envs/kinected/lib/python3.11/site-packages (from pyobjc->keyboard->-r requirements.txt (line 9)) (10.1)\n",
      "Requirement already satisfied: pyobjc-framework-AutomaticAssessmentConfiguration==10.1 in /Users/louislecouturier/miniconda3/envs/kinected/lib/python3.11/site-packages (from pyobjc->keyboard->-r requirements.txt (line 9)) (10.1)\n",
      "Requirement already satisfied: pyobjc-framework-CoreHaptics==10.1 in /Users/louislecouturier/miniconda3/envs/kinected/lib/python3.11/site-packages (from pyobjc->keyboard->-r requirements.txt (line 9)) (10.1)\n",
      "Requirement already satisfied: pyobjc-framework-CoreMotion==10.1 in /Users/louislecouturier/miniconda3/envs/kinected/lib/python3.11/site-packages (from pyobjc->keyboard->-r requirements.txt (line 9)) (10.1)\n",
      "Requirement already satisfied: pyobjc-framework-DeviceCheck==10.1 in /Users/louislecouturier/miniconda3/envs/kinected/lib/python3.11/site-packages (from pyobjc->keyboard->-r requirements.txt (line 9)) (10.1)\n",
      "Requirement already satisfied: pyobjc-framework-ExecutionPolicy==10.1 in /Users/louislecouturier/miniconda3/envs/kinected/lib/python3.11/site-packages (from pyobjc->keyboard->-r requirements.txt (line 9)) (10.1)\n",
      "Requirement already satisfied: pyobjc-framework-FileProvider==10.1 in /Users/louislecouturier/miniconda3/envs/kinected/lib/python3.11/site-packages (from pyobjc->keyboard->-r requirements.txt (line 9)) (10.1)\n",
      "Requirement already satisfied: pyobjc-framework-FileProviderUI==10.1 in /Users/louislecouturier/miniconda3/envs/kinected/lib/python3.11/site-packages (from pyobjc->keyboard->-r requirements.txt (line 9)) (10.1)\n",
      "Requirement already satisfied: pyobjc-framework-LinkPresentation==10.1 in /Users/louislecouturier/miniconda3/envs/kinected/lib/python3.11/site-packages (from pyobjc->keyboard->-r requirements.txt (line 9)) (10.1)\n",
      "Requirement already satisfied: pyobjc-framework-OSLog==10.1 in /Users/louislecouturier/miniconda3/envs/kinected/lib/python3.11/site-packages (from pyobjc->keyboard->-r requirements.txt (line 9)) (10.1)\n",
      "Requirement already satisfied: pyobjc-framework-PencilKit==10.1 in /Users/louislecouturier/miniconda3/envs/kinected/lib/python3.11/site-packages (from pyobjc->keyboard->-r requirements.txt (line 9)) (10.1)\n",
      "Requirement already satisfied: pyobjc-framework-PushKit==10.1 in /Users/louislecouturier/miniconda3/envs/kinected/lib/python3.11/site-packages (from pyobjc->keyboard->-r requirements.txt (line 9)) (10.1)\n",
      "Requirement already satisfied: pyobjc-framework-QuickLookThumbnailing==10.1 in /Users/louislecouturier/miniconda3/envs/kinected/lib/python3.11/site-packages (from pyobjc->keyboard->-r requirements.txt (line 9)) (10.1)\n",
      "Requirement already satisfied: pyobjc-framework-Speech==10.1 in /Users/louislecouturier/miniconda3/envs/kinected/lib/python3.11/site-packages (from pyobjc->keyboard->-r requirements.txt (line 9)) (10.1)\n",
      "Requirement already satisfied: pyobjc-framework-SoundAnalysis==10.1 in /Users/louislecouturier/miniconda3/envs/kinected/lib/python3.11/site-packages (from pyobjc->keyboard->-r requirements.txt (line 9)) (10.1)\n",
      "Requirement already satisfied: pyobjc-framework-SystemExtensions==10.1 in /Users/louislecouturier/miniconda3/envs/kinected/lib/python3.11/site-packages (from pyobjc->keyboard->-r requirements.txt (line 9)) (10.1)\n",
      "Requirement already satisfied: pyobjc-framework-Accessibility==10.1 in /Users/louislecouturier/miniconda3/envs/kinected/lib/python3.11/site-packages (from pyobjc->keyboard->-r requirements.txt (line 9)) (10.1)\n",
      "Requirement already satisfied: pyobjc-framework-AdServices==10.1 in /Users/louislecouturier/miniconda3/envs/kinected/lib/python3.11/site-packages (from pyobjc->keyboard->-r requirements.txt (line 9)) (10.1)\n",
      "Requirement already satisfied: pyobjc-framework-AppTrackingTransparency==10.1 in /Users/louislecouturier/miniconda3/envs/kinected/lib/python3.11/site-packages (from pyobjc->keyboard->-r requirements.txt (line 9)) (10.1)\n",
      "Requirement already satisfied: pyobjc-framework-CallKit==10.1 in /Users/louislecouturier/miniconda3/envs/kinected/lib/python3.11/site-packages (from pyobjc->keyboard->-r requirements.txt (line 9)) (10.1)\n",
      "Requirement already satisfied: pyobjc-framework-ClassKit==10.1 in /Users/louislecouturier/miniconda3/envs/kinected/lib/python3.11/site-packages (from pyobjc->keyboard->-r requirements.txt (line 9)) (10.1)\n",
      "Requirement already satisfied: pyobjc-framework-KernelManagement==10.1 in /Users/louislecouturier/miniconda3/envs/kinected/lib/python3.11/site-packages (from pyobjc->keyboard->-r requirements.txt (line 9)) (10.1)\n",
      "Requirement already satisfied: pyobjc-framework-MetalPerformanceShadersGraph==10.1 in /Users/louislecouturier/miniconda3/envs/kinected/lib/python3.11/site-packages (from pyobjc->keyboard->-r requirements.txt (line 9)) (10.1)\n",
      "Requirement already satisfied: pyobjc-framework-MLCompute==10.1 in /Users/louislecouturier/miniconda3/envs/kinected/lib/python3.11/site-packages (from pyobjc->keyboard->-r requirements.txt (line 9)) (10.1)\n",
      "Requirement already satisfied: pyobjc-framework-PassKit==10.1 in /Users/louislecouturier/miniconda3/envs/kinected/lib/python3.11/site-packages (from pyobjc->keyboard->-r requirements.txt (line 9)) (10.1)\n",
      "Requirement already satisfied: pyobjc-framework-ReplayKit==10.1 in /Users/louislecouturier/miniconda3/envs/kinected/lib/python3.11/site-packages (from pyobjc->keyboard->-r requirements.txt (line 9)) (10.1)\n",
      "Requirement already satisfied: pyobjc-framework-ScreenTime==10.1 in /Users/louislecouturier/miniconda3/envs/kinected/lib/python3.11/site-packages (from pyobjc->keyboard->-r requirements.txt (line 9)) (10.1)\n",
      "Requirement already satisfied: pyobjc-framework-UniformTypeIdentifiers==10.1 in /Users/louislecouturier/miniconda3/envs/kinected/lib/python3.11/site-packages (from pyobjc->keyboard->-r requirements.txt (line 9)) (10.1)\n",
      "Requirement already satisfied: pyobjc-framework-UserNotificationsUI==10.1 in /Users/louislecouturier/miniconda3/envs/kinected/lib/python3.11/site-packages (from pyobjc->keyboard->-r requirements.txt (line 9)) (10.1)\n",
      "Requirement already satisfied: pyobjc-framework-Virtualization==10.1 in /Users/louislecouturier/miniconda3/envs/kinected/lib/python3.11/site-packages (from pyobjc->keyboard->-r requirements.txt (line 9)) (10.1)\n",
      "Requirement already satisfied: pyobjc-framework-DataDetection==10.1 in /Users/louislecouturier/miniconda3/envs/kinected/lib/python3.11/site-packages (from pyobjc->keyboard->-r requirements.txt (line 9)) (10.1)\n",
      "Requirement already satisfied: pyobjc-framework-IntentsUI==10.1 in /Users/louislecouturier/miniconda3/envs/kinected/lib/python3.11/site-packages (from pyobjc->keyboard->-r requirements.txt (line 9)) (10.1)\n",
      "Requirement already satisfied: pyobjc-framework-LocalAuthenticationEmbeddedUI==10.1 in /Users/louislecouturier/miniconda3/envs/kinected/lib/python3.11/site-packages (from pyobjc->keyboard->-r requirements.txt (line 9)) (10.1)\n",
      "Requirement already satisfied: pyobjc-framework-MailKit==10.1 in /Users/louislecouturier/miniconda3/envs/kinected/lib/python3.11/site-packages (from pyobjc->keyboard->-r requirements.txt (line 9)) (10.1)\n",
      "Requirement already satisfied: pyobjc-framework-MetricKit==10.1 in /Users/louislecouturier/miniconda3/envs/kinected/lib/python3.11/site-packages (from pyobjc->keyboard->-r requirements.txt (line 9)) (10.1)\n",
      "Requirement already satisfied: pyobjc-framework-PHASE==10.1 in /Users/louislecouturier/miniconda3/envs/kinected/lib/python3.11/site-packages (from pyobjc->keyboard->-r requirements.txt (line 9)) (10.1)\n",
      "Requirement already satisfied: pyobjc-framework-ShazamKit==10.1 in /Users/louislecouturier/miniconda3/envs/kinected/lib/python3.11/site-packages (from pyobjc->keyboard->-r requirements.txt (line 9)) (10.1)\n",
      "Requirement already satisfied: pyobjc-framework-ScreenCaptureKit==10.1 in /Users/louislecouturier/miniconda3/envs/kinected/lib/python3.11/site-packages (from pyobjc->keyboard->-r requirements.txt (line 9)) (10.1)\n",
      "Requirement already satisfied: pyobjc-framework-AVRouting==10.1 in /Users/louislecouturier/miniconda3/envs/kinected/lib/python3.11/site-packages (from pyobjc->keyboard->-r requirements.txt (line 9)) (10.1)\n",
      "Requirement already satisfied: pyobjc-framework-BackgroundAssets==10.1 in /Users/louislecouturier/miniconda3/envs/kinected/lib/python3.11/site-packages (from pyobjc->keyboard->-r requirements.txt (line 9)) (10.1)\n",
      "Requirement already satisfied: pyobjc-framework-ExtensionKit==10.1 in /Users/louislecouturier/miniconda3/envs/kinected/lib/python3.11/site-packages (from pyobjc->keyboard->-r requirements.txt (line 9)) (10.1)\n",
      "Requirement already satisfied: pyobjc-framework-HealthKit==10.1 in /Users/louislecouturier/miniconda3/envs/kinected/lib/python3.11/site-packages (from pyobjc->keyboard->-r requirements.txt (line 9)) (10.1)\n",
      "Requirement already satisfied: pyobjc-framework-MetalFX==10.1 in /Users/louislecouturier/miniconda3/envs/kinected/lib/python3.11/site-packages (from pyobjc->keyboard->-r requirements.txt (line 9)) (10.1)\n",
      "Requirement already satisfied: pyobjc-framework-SafetyKit==10.1 in /Users/louislecouturier/miniconda3/envs/kinected/lib/python3.11/site-packages (from pyobjc->keyboard->-r requirements.txt (line 9)) (10.1)\n",
      "Requirement already satisfied: pyobjc-framework-SharedWithYouCore==10.1 in /Users/louislecouturier/miniconda3/envs/kinected/lib/python3.11/site-packages (from pyobjc->keyboard->-r requirements.txt (line 9)) (10.1)\n",
      "Requirement already satisfied: pyobjc-framework-SharedWithYou==10.1 in /Users/louislecouturier/miniconda3/envs/kinected/lib/python3.11/site-packages (from pyobjc->keyboard->-r requirements.txt (line 9)) (10.1)\n",
      "Requirement already satisfied: pyobjc-framework-ThreadNetwork==10.1 in /Users/louislecouturier/miniconda3/envs/kinected/lib/python3.11/site-packages (from pyobjc->keyboard->-r requirements.txt (line 9)) (10.1)\n",
      "Requirement already satisfied: pyobjc-framework-Cinematic==10.1 in /Users/louislecouturier/miniconda3/envs/kinected/lib/python3.11/site-packages (from pyobjc->keyboard->-r requirements.txt (line 9)) (10.1)\n",
      "Requirement already satisfied: pyobjc-framework-SensitiveContentAnalysis==10.1 in /Users/louislecouturier/miniconda3/envs/kinected/lib/python3.11/site-packages (from pyobjc->keyboard->-r requirements.txt (line 9)) (10.1)\n",
      "Requirement already satisfied: pyobjc-framework-Symbols==10.1 in /Users/louislecouturier/miniconda3/envs/kinected/lib/python3.11/site-packages (from pyobjc->keyboard->-r requirements.txt (line 9)) (10.1)\n",
      "Requirement already satisfied: pyobjc-framework-CalendarStore==10.1 in /Users/louislecouturier/miniconda3/envs/kinected/lib/python3.11/site-packages (from pyobjc->keyboard->-r requirements.txt (line 9)) (10.1)\n",
      "Requirement already satisfied: pyobjc-framework-Collaboration==10.1 in /Users/louislecouturier/miniconda3/envs/kinected/lib/python3.11/site-packages (from pyobjc->keyboard->-r requirements.txt (line 9)) (10.1)\n",
      "Requirement already satisfied: pyobjc-framework-DictionaryServices==10.1 in /Users/louislecouturier/miniconda3/envs/kinected/lib/python3.11/site-packages (from pyobjc->keyboard->-r requirements.txt (line 9)) (10.1)\n",
      "Requirement already satisfied: pyobjc-framework-FSEvents==10.1 in /Users/louislecouturier/miniconda3/envs/kinected/lib/python3.11/site-packages (from pyobjc->keyboard->-r requirements.txt (line 9)) (10.1)\n",
      "Requirement already satisfied: pyobjc-framework-InputMethodKit==10.1 in /Users/louislecouturier/miniconda3/envs/kinected/lib/python3.11/site-packages (from pyobjc->keyboard->-r requirements.txt (line 9)) (10.1)\n",
      "Requirement already satisfied: pyobjc-framework-InstantMessage==10.1 in /Users/louislecouturier/miniconda3/envs/kinected/lib/python3.11/site-packages (from pyobjc->keyboard->-r requirements.txt (line 9)) (10.1)\n",
      "Requirement already satisfied: pyobjc-framework-ScriptingBridge==10.1 in /Users/louislecouturier/miniconda3/envs/kinected/lib/python3.11/site-packages (from pyobjc->keyboard->-r requirements.txt (line 9)) (10.1)\n",
      "Requirement already satisfied: wheel<1.0,>=0.23.0 in /Users/louislecouturier/miniconda3/envs/kinected/lib/python3.11/site-packages (from astunparse>=1.6.0->tensorflow-macos==2.15.0->tensorflow->-r requirements.txt (line 7)) (0.42.0)\n",
      "Requirement already satisfied: pycparser in /Users/louislecouturier/miniconda3/envs/kinected/lib/python3.11/site-packages (from CFFI>=1.0->sounddevice>=0.4.4->mediapipe->-r requirements.txt (line 3)) (2.21)\n",
      "Requirement already satisfied: google-auth<3,>=1.6.3 in /Users/louislecouturier/miniconda3/envs/kinected/lib/python3.11/site-packages (from tensorboard<2.16,>=2.15->tensorflow-macos==2.15.0->tensorflow->-r requirements.txt (line 7)) (2.25.2)\n",
      "Requirement already satisfied: google-auth-oauthlib<2,>=0.5 in /Users/louislecouturier/miniconda3/envs/kinected/lib/python3.11/site-packages (from tensorboard<2.16,>=2.15->tensorflow-macos==2.15.0->tensorflow->-r requirements.txt (line 7)) (1.2.0)\n",
      "Requirement already satisfied: markdown>=2.6.8 in /Users/louislecouturier/miniconda3/envs/kinected/lib/python3.11/site-packages (from tensorboard<2.16,>=2.15->tensorflow-macos==2.15.0->tensorflow->-r requirements.txt (line 7)) (3.5.1)\n",
      "Requirement already satisfied: requests<3,>=2.21.0 in /Users/louislecouturier/miniconda3/envs/kinected/lib/python3.11/site-packages (from tensorboard<2.16,>=2.15->tensorflow-macos==2.15.0->tensorflow->-r requirements.txt (line 7)) (2.31.0)\n",
      "Requirement already satisfied: tensorboard-data-server<0.8.0,>=0.7.0 in /Users/louislecouturier/miniconda3/envs/kinected/lib/python3.11/site-packages (from tensorboard<2.16,>=2.15->tensorflow-macos==2.15.0->tensorflow->-r requirements.txt (line 7)) (0.7.2)\n",
      "Requirement already satisfied: werkzeug>=1.0.1 in /Users/louislecouturier/miniconda3/envs/kinected/lib/python3.11/site-packages (from tensorboard<2.16,>=2.15->tensorflow-macos==2.15.0->tensorflow->-r requirements.txt (line 7)) (3.0.1)\n",
      "Requirement already satisfied: cachetools<6.0,>=2.0.0 in /Users/louislecouturier/miniconda3/envs/kinected/lib/python3.11/site-packages (from google-auth<3,>=1.6.3->tensorboard<2.16,>=2.15->tensorflow-macos==2.15.0->tensorflow->-r requirements.txt (line 7)) (5.3.2)\n",
      "Requirement already satisfied: pyasn1-modules>=0.2.1 in /Users/louislecouturier/miniconda3/envs/kinected/lib/python3.11/site-packages (from google-auth<3,>=1.6.3->tensorboard<2.16,>=2.15->tensorflow-macos==2.15.0->tensorflow->-r requirements.txt (line 7)) (0.3.0)\n",
      "Requirement already satisfied: rsa<5,>=3.1.4 in /Users/louislecouturier/miniconda3/envs/kinected/lib/python3.11/site-packages (from google-auth<3,>=1.6.3->tensorboard<2.16,>=2.15->tensorflow-macos==2.15.0->tensorflow->-r requirements.txt (line 7)) (4.9)\n",
      "Requirement already satisfied: requests-oauthlib>=0.7.0 in /Users/louislecouturier/miniconda3/envs/kinected/lib/python3.11/site-packages (from google-auth-oauthlib<2,>=0.5->tensorboard<2.16,>=2.15->tensorflow-macos==2.15.0->tensorflow->-r requirements.txt (line 7)) (1.3.1)\n",
      "Requirement already satisfied: charset-normalizer<4,>=2 in /Users/louislecouturier/miniconda3/envs/kinected/lib/python3.11/site-packages (from requests<3,>=2.21.0->tensorboard<2.16,>=2.15->tensorflow-macos==2.15.0->tensorflow->-r requirements.txt (line 7)) (2.0.4)\n",
      "Requirement already satisfied: idna<4,>=2.5 in /Users/louislecouturier/miniconda3/envs/kinected/lib/python3.11/site-packages (from requests<3,>=2.21.0->tensorboard<2.16,>=2.15->tensorflow-macos==2.15.0->tensorflow->-r requirements.txt (line 7)) (3.4)\n",
      "Requirement already satisfied: urllib3<3,>=1.21.1 in /Users/louislecouturier/miniconda3/envs/kinected/lib/python3.11/site-packages (from requests<3,>=2.21.0->tensorboard<2.16,>=2.15->tensorflow-macos==2.15.0->tensorflow->-r requirements.txt (line 7)) (1.26.18)\n",
      "Requirement already satisfied: certifi>=2017.4.17 in /Users/louislecouturier/miniconda3/envs/kinected/lib/python3.11/site-packages (from requests<3,>=2.21.0->tensorboard<2.16,>=2.15->tensorflow-macos==2.15.0->tensorflow->-r requirements.txt (line 7)) (2023.11.17)\n",
      "Requirement already satisfied: MarkupSafe>=2.1.1 in /Users/louislecouturier/miniconda3/envs/kinected/lib/python3.11/site-packages (from werkzeug>=1.0.1->tensorboard<2.16,>=2.15->tensorflow-macos==2.15.0->tensorflow->-r requirements.txt (line 7)) (2.1.1)\n",
      "Requirement already satisfied: pyasn1<0.6.0,>=0.4.6 in /Users/louislecouturier/miniconda3/envs/kinected/lib/python3.11/site-packages (from pyasn1-modules>=0.2.1->google-auth<3,>=1.6.3->tensorboard<2.16,>=2.15->tensorflow-macos==2.15.0->tensorflow->-r requirements.txt (line 7)) (0.5.1)\n",
      "Requirement already satisfied: oauthlib>=3.0.0 in /Users/louislecouturier/miniconda3/envs/kinected/lib/python3.11/site-packages (from requests-oauthlib>=0.7.0->google-auth-oauthlib<2,>=0.5->tensorboard<2.16,>=2.15->tensorflow-macos==2.15.0->tensorflow->-r requirements.txt (line 7)) (3.2.2)\n",
      "Note: you may need to restart the kernel to use updated packages.\n"
     ]
    }
   ],
   "source": [
    "pip install -r requirements.txt"
   ]
  },
  {
   "cell_type": "markdown",
   "metadata": {},
   "source": [
    "## Import libraries\n"
   ]
  },
  {
   "cell_type": "code",
   "execution_count": 59,
   "metadata": {},
   "outputs": [],
   "source": [
    "import pandas as pd\n",
    "import tensorflow as tf\n",
    "import matplotlib.pyplot as plt\n",
    "\n",
    "import time\n",
    "import os"
   ]
  },
  {
   "cell_type": "code",
   "execution_count": 60,
   "metadata": {},
   "outputs": [],
   "source": [
    "tf.get_logger().setLevel(\"ERROR\")"
   ]
  },
  {
   "cell_type": "code",
   "execution_count": 61,
   "metadata": {},
   "outputs": [
    {
     "name": "stdout",
     "output_type": "stream",
     "text": [
      "The tensorboard extension is already loaded. To reload it, use:\n",
      "  %reload_ext tensorboard\n"
     ]
    }
   ],
   "source": [
    "%load_ext tensorboard"
   ]
  },
  {
   "cell_type": "code",
   "execution_count": 62,
   "metadata": {},
   "outputs": [
    {
     "data": {
      "text/plain": [
       "Reusing TensorBoard on port 6006 (pid 8742), started 0:11:52 ago. (Use '!kill 8742' to kill it.)"
      ]
     },
     "metadata": {},
     "output_type": "display_data"
    },
    {
     "data": {
      "text/html": [
       "\n",
       "      <iframe id=\"tensorboard-frame-4aa4ab901d2bdb09\" width=\"100%\" height=\"800\" frameborder=\"0\">\n",
       "      </iframe>\n",
       "      <script>\n",
       "        (function() {\n",
       "          const frame = document.getElementById(\"tensorboard-frame-4aa4ab901d2bdb09\");\n",
       "          const url = new URL(\"http://localhost\");\n",
       "          const port = 6006;\n",
       "          if (port) {\n",
       "            url.port = port;\n",
       "          }\n",
       "          frame.src = url;\n",
       "        })();\n",
       "      </script>\n",
       "    "
      ],
      "text/plain": [
       "<IPython.core.display.HTML object>"
      ]
     },
     "metadata": {},
     "output_type": "display_data"
    }
   ],
   "source": [
    "%tensorboard --logdir logs/fit"
   ]
  },
  {
   "cell_type": "markdown",
   "metadata": {},
   "source": [
    "# Data Preprocessing\n"
   ]
  },
  {
   "cell_type": "code",
   "execution_count": 63,
   "metadata": {},
   "outputs": [],
   "source": [
    "DATASET_PATH = \"./datasets/distance_and_angles_gestures_dataset.csv\""
   ]
  },
  {
   "cell_type": "markdown",
   "metadata": {},
   "source": [
    "### Read CSV and split inputs from labels\n"
   ]
  },
  {
   "cell_type": "code",
   "execution_count": 64,
   "metadata": {},
   "outputs": [
    {
     "data": {
      "text/plain": [
       "(42, 1)"
      ]
     },
     "execution_count": 64,
     "metadata": {},
     "output_type": "execute_result"
    }
   ],
   "source": [
    "from helpers.data import write_labels\n",
    "\n",
    "dataset = pd.read_csv(DATASET_PATH)\n",
    "\n",
    "labels = dataset[\"label\"]\n",
    "inputs = dataset.drop(\"label\", axis=1)\n",
    "\n",
    "inputs = inputs.astype(\"float32\").to_numpy()\n",
    "X = inputs.reshape((inputs.shape[0], inputs.shape[1], 1))\n",
    "\n",
    "dummies = pd.get_dummies(\n",
    "    labels\n",
    ")  # Creates a df of labels as categorical (ex : closed = [1, 0, 0, ..., 0])\n",
    "\n",
    "classes = dummies.columns.to_list()\n",
    "write_labels(\"./\", classes)\n",
    "\n",
    "labels = dummies.to_numpy().astype(\"float32\")\n",
    "\n",
    "X[0].shape"
   ]
  },
  {
   "cell_type": "markdown",
   "metadata": {},
   "source": [
    "### Split data into training and testing sets\n"
   ]
  },
  {
   "cell_type": "code",
   "execution_count": 65,
   "metadata": {},
   "outputs": [
    {
     "name": "stdout",
     "output_type": "stream",
     "text": [
      "Total dataset size : 93304\n",
      "====================================\n",
      "Train dataset size : 74643\n",
      "Test dataset size : 18661\n"
     ]
    }
   ],
   "source": [
    "from sklearn.model_selection import train_test_split\n",
    "\n",
    "x_train, x_test, y_train, y_test = train_test_split(\n",
    "    X, labels, test_size=0.2, random_state=42\n",
    ")\n",
    "print(f\"Total dataset size : {len(X)}\")\n",
    "print(\"====================================\")\n",
    "\n",
    "print(f\"Train dataset size : {len(x_train)}\")\n",
    "print(f\"Test dataset size : {len(x_test)}\")"
   ]
  },
  {
   "cell_type": "code",
   "execution_count": 66,
   "metadata": {},
   "outputs": [
    {
     "name": "stdout",
     "output_type": "stream",
     "text": [
      "Input is of shape : 42\n",
      "Output is of shape : 8\n"
     ]
    }
   ],
   "source": [
    "input_shape = X.shape[1]\n",
    "output_shape = len(classes)\n",
    "print(f\"Input is of shape : {input_shape}\")\n",
    "print(f\"Output is of shape : {output_shape}\")"
   ]
  },
  {
   "cell_type": "markdown",
   "metadata": {},
   "source": [
    "# Create the model\n"
   ]
  },
  {
   "cell_type": "code",
   "execution_count": 67,
   "metadata": {},
   "outputs": [],
   "source": [
    "LOAD_MODEL = False\n",
    "MODEL_LOAD_PATH = \"./models\"\n",
    "\n",
    "LEARNING_RATE = 0.001\n",
    "DROPOUT = 0.1"
   ]
  },
  {
   "cell_type": "code",
   "execution_count": 68,
   "metadata": {},
   "outputs": [],
   "source": [
    "from tensorflow.keras.models import Sequential, load_model\n",
    "from tensorflow.keras.layers import Input, Dense, Dropout, BatchNormalization\n",
    "from tensorflow.keras.optimizers import Adam\n",
    "from tensorflow.keras.callbacks import ModelCheckpoint\n",
    "\n",
    "from helpers.misc import get_model_name\n",
    "\n",
    "model_name = \"\"\n",
    "\n",
    "\n",
    "if LOAD_MODEL:\n",
    "    model_name = MODEL_LOAD_PATH.split(\"/\")[-1].split(\".\")[0]\n",
    "    model = load_model(MODEL_LOAD_PATH)\n",
    "\n",
    "else:\n",
    "    model_name = get_model_name()\n",
    "\n",
    "    model = Sequential(\n",
    "        [\n",
    "            Input(shape=[input_shape]),\n",
    "            #\n",
    "            Dense(32, activation=\"relu\"),\n",
    "            # BatchNormalization(),\n",
    "            Dropout(rate=DROPOUT),\n",
    "            #\n",
    "            Dense(32, activation=\"relu\"),\n",
    "            # BatchNormalization(),\n",
    "            Dropout(rate=DROPOUT),\n",
    "            #\n",
    "            Dense(units=output_shape, activation=\"softmax\"),\n",
    "        ]\n",
    "    )\n",
    "\n",
    "    optimizer = Adam(learning_rate=LEARNING_RATE)\n",
    "\n",
    "    checkpointer_callback = ModelCheckpoint(\n",
    "        filepath=f\"models/{model_name}/{model_name}.hdf5\",\n",
    "        monitor=\"val_loss\",\n",
    "        verbose=False,\n",
    "        save_best_only=True,\n",
    "    )\n",
    "\n",
    "    model.summary()\n",
    "\n",
    "    model.compile(\n",
    "        optimizer=optimizer, loss=\"categorical_crossentropy\", metrics=[\"accuracy\"]\n",
    "    )"
   ]
  },
  {
   "cell_type": "code",
   "execution_count": null,
   "metadata": {},
   "outputs": [],
   "source": [
    "from tensorflow.keras.callbacks import TensorBoard\n",
    "import datetime\n",
    "\n",
    "log_dir = (\n",
    "    \"logs/fit/\" + datetime.datetime.now().strftime(\"%Y%m%d-%H%M%S\") + \" - \" + model_name\n",
    ")\n",
    "tensorboard_callback = TensorBoard(log_dir=log_dir, histogram_freq=1)"
   ]
  },
  {
   "cell_type": "code",
   "execution_count": null,
   "metadata": {},
   "outputs": [],
   "source": [
    "MODEL_METRICS_PATH = f\"./models/{model_name}/training.log\""
   ]
  },
  {
   "cell_type": "code",
   "execution_count": null,
   "metadata": {},
   "outputs": [],
   "source": [
    "from tensorflow.keras.callbacks import CSVLogger\n",
    "\n",
    "csv_logger_callback = CSVLogger(MODEL_METRICS_PATH, separator=\",\", append=True)"
   ]
  },
  {
   "cell_type": "code",
   "execution_count": null,
   "metadata": {},
   "outputs": [],
   "source": [
    "os.makedirs(f\"./models/{model_name}\", exist_ok=True)"
   ]
  },
  {
   "cell_type": "markdown",
   "metadata": {},
   "source": [
    "# Model Training\n"
   ]
  },
  {
   "cell_type": "markdown",
   "metadata": {},
   "source": [
    "### Hyperparameters\n"
   ]
  },
  {
   "cell_type": "code",
   "execution_count": null,
   "metadata": {},
   "outputs": [],
   "source": [
    "SAVE_MODEL_PATH = f\"./models/{model_name}\"\n",
    "LOAD_MODEL = False\n",
    "\n",
    "NUM_EPOCHS = 100\n",
    "\n",
    "VALIDATION_SPLIT = 0.2\n",
    "\n",
    "BATCH_SIZE = 16\n",
    "VERBOSE = 2"
   ]
  },
  {
   "cell_type": "code",
   "execution_count": null,
   "metadata": {},
   "outputs": [
    {
     "name": "stdout",
     "output_type": "stream",
     "text": [
      "Training model 3232...\n",
      "\n",
      "Epoch 1/100\n"
     ]
    },
    {
     "name": "stdout",
     "output_type": "stream",
     "text": [
      "3733/3733 - 3s - loss: 0.4892 - accuracy: 0.8619 - val_loss: 0.5639 - val_accuracy: 0.8402 - 3s/epoch - 749us/step\n",
      "Epoch 2/100\n"
     ]
    },
    {
     "name": "stderr",
     "output_type": "stream",
     "text": [
      "/Users/louislecouturier/miniconda3/envs/kinected/lib/python3.11/site-packages/keras/src/engine/training.py:3103: UserWarning: You are saving your model as an HDF5 file via `model.save()`. This file format is considered legacy. We recommend using instead the native Keras format, e.g. `model.save('my_model.keras')`.\n",
      "  saving_api.save_model(\n"
     ]
    },
    {
     "name": "stdout",
     "output_type": "stream",
     "text": [
      "3733/3733 - 2s - loss: 0.3920 - accuracy: 0.8911 - val_loss: 0.4035 - val_accuracy: 0.8821 - 2s/epoch - 611us/step\n",
      "Epoch 3/100\n",
      "3733/3733 - 2s - loss: 0.3597 - accuracy: 0.8975 - val_loss: 0.3998 - val_accuracy: 0.8798 - 2s/epoch - 571us/step\n",
      "Epoch 4/100\n",
      "3733/3733 - 2s - loss: 0.3407 - accuracy: 0.9035 - val_loss: 0.4302 - val_accuracy: 0.8651 - 2s/epoch - 552us/step\n",
      "Epoch 5/100\n",
      "3733/3733 - 2s - loss: 0.3408 - accuracy: 0.9033 - val_loss: 0.4063 - val_accuracy: 0.8852 - 2s/epoch - 555us/step\n",
      "Epoch 6/100\n",
      "3733/3733 - 2s - loss: 0.3420 - accuracy: 0.9001 - val_loss: 0.3542 - val_accuracy: 0.8925 - 2s/epoch - 538us/step\n",
      "Epoch 7/100\n",
      "3733/3733 - 2s - loss: 0.3297 - accuracy: 0.9054 - val_loss: 0.4881 - val_accuracy: 0.8453 - 2s/epoch - 539us/step\n",
      "Epoch 8/100\n",
      "3733/3733 - 2s - loss: 0.3238 - accuracy: 0.9072 - val_loss: 0.4658 - val_accuracy: 0.8684 - 2s/epoch - 539us/step\n",
      "Epoch 9/100\n",
      "3733/3733 - 2s - loss: 0.3153 - accuracy: 0.9085 - val_loss: 0.4205 - val_accuracy: 0.8743 - 2s/epoch - 542us/step\n",
      "Epoch 10/100\n",
      "3733/3733 - 2s - loss: 0.3167 - accuracy: 0.9091 - val_loss: 0.2870 - val_accuracy: 0.9171 - 2s/epoch - 585us/step\n",
      "Epoch 11/100\n",
      "3733/3733 - 2s - loss: 0.3125 - accuracy: 0.9095 - val_loss: 0.3829 - val_accuracy: 0.8898 - 2s/epoch - 546us/step\n",
      "Epoch 12/100\n",
      "3733/3733 - 2s - loss: 0.3072 - accuracy: 0.9111 - val_loss: 0.5800 - val_accuracy: 0.8368 - 2s/epoch - 541us/step\n",
      "Epoch 13/100\n",
      "3733/3733 - 2s - loss: 0.3045 - accuracy: 0.9114 - val_loss: 0.5582 - val_accuracy: 0.8339 - 2s/epoch - 532us/step\n",
      "Epoch 14/100\n",
      "3733/3733 - 2s - loss: 0.3090 - accuracy: 0.9107 - val_loss: 0.4158 - val_accuracy: 0.8792 - 2s/epoch - 529us/step\n",
      "Epoch 15/100\n",
      "3733/3733 - 2s - loss: 0.3018 - accuracy: 0.9126 - val_loss: 0.5184 - val_accuracy: 0.8519 - 2s/epoch - 534us/step\n",
      "Epoch 16/100\n",
      "3733/3733 - 2s - loss: 0.2970 - accuracy: 0.9124 - val_loss: 0.3011 - val_accuracy: 0.9147 - 2s/epoch - 535us/step\n",
      "Epoch 17/100\n",
      "3733/3733 - 2s - loss: 0.2973 - accuracy: 0.9134 - val_loss: 1.7460 - val_accuracy: 0.6022 - 2s/epoch - 539us/step\n",
      "Epoch 18/100\n",
      "3733/3733 - 2s - loss: 0.3212 - accuracy: 0.9094 - val_loss: 0.3334 - val_accuracy: 0.9047 - 2s/epoch - 546us/step\n",
      "Epoch 19/100\n",
      "3733/3733 - 2s - loss: 0.3187 - accuracy: 0.9085 - val_loss: 0.3060 - val_accuracy: 0.9112 - 2s/epoch - 529us/step\n",
      "Epoch 20/100\n",
      "3733/3733 - 2s - loss: 0.3184 - accuracy: 0.9084 - val_loss: 0.3046 - val_accuracy: 0.9172 - 2s/epoch - 534us/step\n",
      "Epoch 21/100\n",
      "3733/3733 - 2s - loss: 0.3134 - accuracy: 0.9094 - val_loss: 0.2687 - val_accuracy: 0.9220 - 2s/epoch - 538us/step\n",
      "Epoch 22/100\n",
      "3733/3733 - 2s - loss: 0.3127 - accuracy: 0.9092 - val_loss: 0.3701 - val_accuracy: 0.8828 - 2s/epoch - 531us/step\n",
      "Epoch 23/100\n",
      "3733/3733 - 2s - loss: 0.3535 - accuracy: 0.8988 - val_loss: 0.7477 - val_accuracy: 0.7599 - 2s/epoch - 529us/step\n",
      "Epoch 24/100\n",
      "3733/3733 - 2s - loss: 0.3433 - accuracy: 0.9025 - val_loss: 0.5348 - val_accuracy: 0.8408 - 2s/epoch - 532us/step\n",
      "Epoch 25/100\n",
      "3733/3733 - 2s - loss: 0.3296 - accuracy: 0.9054 - val_loss: 0.4249 - val_accuracy: 0.8801 - 2s/epoch - 548us/step\n",
      "Epoch 26/100\n",
      "3733/3733 - 2s - loss: 0.3190 - accuracy: 0.9080 - val_loss: 0.3187 - val_accuracy: 0.9092 - 2s/epoch - 531us/step\n",
      "Epoch 27/100\n",
      "3733/3733 - 2s - loss: 0.3153 - accuracy: 0.9092 - val_loss: 0.4416 - val_accuracy: 0.8747 - 2s/epoch - 540us/step\n",
      "Epoch 28/100\n",
      "3733/3733 - 2s - loss: 0.3240 - accuracy: 0.9067 - val_loss: 0.3142 - val_accuracy: 0.9121 - 2s/epoch - 531us/step\n",
      "Epoch 29/100\n",
      "3733/3733 - 2s - loss: 0.3150 - accuracy: 0.9083 - val_loss: 0.5092 - val_accuracy: 0.8514 - 2s/epoch - 528us/step\n",
      "Epoch 30/100\n",
      "3733/3733 - 2s - loss: 0.3201 - accuracy: 0.9092 - val_loss: 0.2906 - val_accuracy: 0.9167 - 2s/epoch - 532us/step\n",
      "Epoch 31/100\n",
      "3733/3733 - 2s - loss: 0.3103 - accuracy: 0.9086 - val_loss: 0.6312 - val_accuracy: 0.8148 - 2s/epoch - 525us/step\n",
      "Epoch 32/100\n",
      "3733/3733 - 2s - loss: 0.3066 - accuracy: 0.9108 - val_loss: 0.2915 - val_accuracy: 0.9163 - 2s/epoch - 553us/step\n",
      "Epoch 33/100\n",
      "3733/3733 - 2s - loss: 0.3105 - accuracy: 0.9099 - val_loss: 0.3356 - val_accuracy: 0.8976 - 2s/epoch - 549us/step\n",
      "Epoch 34/100\n",
      "3733/3733 - 2s - loss: 0.3022 - accuracy: 0.9122 - val_loss: 0.2828 - val_accuracy: 0.9145 - 2s/epoch - 554us/step\n",
      "Epoch 35/100\n",
      "3733/3733 - 2s - loss: 0.3033 - accuracy: 0.9136 - val_loss: 0.3247 - val_accuracy: 0.9079 - 2s/epoch - 532us/step\n",
      "Epoch 36/100\n",
      "3733/3733 - 2s - loss: 0.3001 - accuracy: 0.9123 - val_loss: 0.3859 - val_accuracy: 0.8911 - 2s/epoch - 539us/step\n",
      "Epoch 37/100\n",
      "3733/3733 - 2s - loss: 0.3014 - accuracy: 0.9124 - val_loss: 0.4022 - val_accuracy: 0.8879 - 2s/epoch - 536us/step\n",
      "Epoch 38/100\n",
      "3733/3733 - 2s - loss: 0.2992 - accuracy: 0.9129 - val_loss: 0.2682 - val_accuracy: 0.9226 - 2s/epoch - 534us/step\n",
      "Epoch 39/100\n",
      "3733/3733 - 2s - loss: 0.2969 - accuracy: 0.9141 - val_loss: 0.3084 - val_accuracy: 0.9096 - 2s/epoch - 546us/step\n",
      "Epoch 40/100\n",
      "3733/3733 - 2s - loss: 0.2990 - accuracy: 0.9132 - val_loss: 0.3805 - val_accuracy: 0.8991 - 2s/epoch - 532us/step\n",
      "Epoch 41/100\n",
      "3733/3733 - 2s - loss: 0.2970 - accuracy: 0.9142 - val_loss: 0.3299 - val_accuracy: 0.9016 - 2s/epoch - 533us/step\n",
      "Epoch 42/100\n",
      "3733/3733 - 2s - loss: 0.2941 - accuracy: 0.9137 - val_loss: 0.3514 - val_accuracy: 0.8954 - 2s/epoch - 529us/step\n",
      "Epoch 43/100\n",
      "3733/3733 - 2s - loss: 0.2962 - accuracy: 0.9140 - val_loss: 0.2566 - val_accuracy: 0.9265 - 2s/epoch - 530us/step\n",
      "Epoch 44/100\n",
      "3733/3733 - 2s - loss: 0.2923 - accuracy: 0.9146 - val_loss: 0.3908 - val_accuracy: 0.8859 - 2s/epoch - 533us/step\n",
      "Epoch 45/100\n",
      "3733/3733 - 2s - loss: 0.3060 - accuracy: 0.9111 - val_loss: 0.3057 - val_accuracy: 0.9089 - 2s/epoch - 540us/step\n",
      "Epoch 46/100\n",
      "3733/3733 - 2s - loss: 0.2905 - accuracy: 0.9154 - val_loss: 0.2794 - val_accuracy: 0.9204 - 2s/epoch - 550us/step\n",
      "Epoch 47/100\n",
      "3733/3733 - 2s - loss: 0.2950 - accuracy: 0.9143 - val_loss: 0.2981 - val_accuracy: 0.9134 - 2s/epoch - 530us/step\n",
      "Epoch 48/100\n",
      "3733/3733 - 2s - loss: 0.2946 - accuracy: 0.9144 - val_loss: 0.4410 - val_accuracy: 0.8694 - 2s/epoch - 527us/step\n",
      "Epoch 49/100\n",
      "3733/3733 - 2s - loss: 0.2912 - accuracy: 0.9153 - val_loss: 0.3038 - val_accuracy: 0.9133 - 2s/epoch - 535us/step\n",
      "Epoch 50/100\n",
      "3733/3733 - 2s - loss: 0.2960 - accuracy: 0.9139 - val_loss: 0.2938 - val_accuracy: 0.9156 - 2s/epoch - 531us/step\n",
      "Epoch 51/100\n",
      "3733/3733 - 2s - loss: 0.3011 - accuracy: 0.9128 - val_loss: 0.2998 - val_accuracy: 0.9094 - 2s/epoch - 532us/step\n",
      "Epoch 52/100\n",
      "3733/3733 - 2s - loss: 0.2913 - accuracy: 0.9153 - val_loss: 0.3366 - val_accuracy: 0.8990 - 2s/epoch - 533us/step\n",
      "Epoch 53/100\n",
      "3733/3733 - 2s - loss: 0.2885 - accuracy: 0.9149 - val_loss: 0.5311 - val_accuracy: 0.8427 - 2s/epoch - 552us/step\n",
      "Epoch 54/100\n",
      "3733/3733 - 2s - loss: 0.2888 - accuracy: 0.9158 - val_loss: 0.2735 - val_accuracy: 0.9205 - 2s/epoch - 532us/step\n",
      "Epoch 55/100\n",
      "3733/3733 - 2s - loss: 0.2913 - accuracy: 0.9145 - val_loss: 0.2863 - val_accuracy: 0.9214 - 2s/epoch - 527us/step\n",
      "Epoch 56/100\n",
      "3733/3733 - 2s - loss: 0.2864 - accuracy: 0.9158 - val_loss: 0.3305 - val_accuracy: 0.9104 - 2s/epoch - 526us/step\n",
      "Epoch 57/100\n",
      "3733/3733 - 2s - loss: 0.2896 - accuracy: 0.9153 - val_loss: 0.2686 - val_accuracy: 0.9218 - 2s/epoch - 531us/step\n",
      "Epoch 58/100\n",
      "3733/3733 - 2s - loss: 0.2878 - accuracy: 0.9157 - val_loss: 0.5138 - val_accuracy: 0.8501 - 2s/epoch - 533us/step\n",
      "Epoch 59/100\n",
      "3733/3733 - 2s - loss: 0.2891 - accuracy: 0.9151 - val_loss: 0.2581 - val_accuracy: 0.9244 - 2s/epoch - 527us/step\n",
      "Epoch 60/100\n",
      "3733/3733 - 2s - loss: 0.2934 - accuracy: 0.9154 - val_loss: 0.2709 - val_accuracy: 0.9214 - 2s/epoch - 547us/step\n",
      "Epoch 61/100\n",
      "3733/3733 - 2s - loss: 0.2857 - accuracy: 0.9160 - val_loss: 0.3007 - val_accuracy: 0.9135 - 2s/epoch - 532us/step\n",
      "Epoch 62/100\n",
      "3733/3733 - 2s - loss: 0.2862 - accuracy: 0.9161 - val_loss: 0.2829 - val_accuracy: 0.9211 - 2s/epoch - 538us/step\n",
      "Epoch 63/100\n",
      "3733/3733 - 2s - loss: 0.2860 - accuracy: 0.9165 - val_loss: 0.2793 - val_accuracy: 0.9192 - 2s/epoch - 540us/step\n",
      "Epoch 64/100\n",
      "3733/3733 - 2s - loss: 0.2873 - accuracy: 0.9164 - val_loss: 0.5354 - val_accuracy: 0.8417 - 2s/epoch - 573us/step\n",
      "Epoch 65/100\n",
      "3733/3733 - 2s - loss: 0.2874 - accuracy: 0.9156 - val_loss: 0.4619 - val_accuracy: 0.8670 - 2s/epoch - 550us/step\n",
      "Epoch 66/100\n",
      "3733/3733 - 2s - loss: 0.2852 - accuracy: 0.9171 - val_loss: 0.2513 - val_accuracy: 0.9254 - 2s/epoch - 552us/step\n",
      "Epoch 67/100\n",
      "3733/3733 - 2s - loss: 0.2868 - accuracy: 0.9156 - val_loss: 0.2519 - val_accuracy: 0.9252 - 2s/epoch - 663us/step\n",
      "Epoch 68/100\n",
      "3733/3733 - 2s - loss: 0.2869 - accuracy: 0.9162 - val_loss: 0.2763 - val_accuracy: 0.9207 - 2s/epoch - 561us/step\n",
      "Epoch 69/100\n",
      "3733/3733 - 2s - loss: 0.2842 - accuracy: 0.9170 - val_loss: 0.2544 - val_accuracy: 0.9267 - 2s/epoch - 527us/step\n",
      "Epoch 70/100\n",
      "3733/3733 - 2s - loss: 0.2887 - accuracy: 0.9156 - val_loss: 0.2926 - val_accuracy: 0.9158 - 2s/epoch - 536us/step\n",
      "Epoch 71/100\n",
      "3733/3733 - 2s - loss: 0.2827 - accuracy: 0.9172 - val_loss: 0.3105 - val_accuracy: 0.9078 - 2s/epoch - 607us/step\n",
      "Epoch 72/100\n",
      "3733/3733 - 2s - loss: 0.2831 - accuracy: 0.9163 - val_loss: 0.2741 - val_accuracy: 0.9224 - 2s/epoch - 567us/step\n",
      "Epoch 73/100\n",
      "3733/3733 - 2s - loss: 0.2824 - accuracy: 0.9166 - val_loss: 0.2573 - val_accuracy: 0.9234 - 2s/epoch - 533us/step\n",
      "Epoch 74/100\n",
      "3733/3733 - 2s - loss: 0.2864 - accuracy: 0.9172 - val_loss: 0.3462 - val_accuracy: 0.8993 - 2s/epoch - 534us/step\n",
      "Epoch 75/100\n",
      "3733/3733 - 2s - loss: 0.2868 - accuracy: 0.9162 - val_loss: 0.2505 - val_accuracy: 0.9258 - 2s/epoch - 529us/step\n",
      "Epoch 76/100\n",
      "3733/3733 - 2s - loss: 0.2838 - accuracy: 0.9172 - val_loss: 0.2545 - val_accuracy: 0.9232 - 2s/epoch - 524us/step\n",
      "Epoch 77/100\n",
      "3733/3733 - 2s - loss: 0.2842 - accuracy: 0.9166 - val_loss: 0.3800 - val_accuracy: 0.8871 - 2s/epoch - 528us/step\n",
      "Epoch 78/100\n",
      "3733/3733 - 2s - loss: 0.2844 - accuracy: 0.9167 - val_loss: 0.3554 - val_accuracy: 0.8909 - 2s/epoch - 528us/step\n",
      "Epoch 79/100\n",
      "3733/3733 - 2s - loss: 0.2857 - accuracy: 0.9167 - val_loss: 0.3191 - val_accuracy: 0.9060 - 2s/epoch - 525us/step\n",
      "Epoch 80/100\n",
      "3733/3733 - 2s - loss: 0.2818 - accuracy: 0.9164 - val_loss: 0.2898 - val_accuracy: 0.9206 - 2s/epoch - 527us/step\n",
      "Epoch 81/100\n",
      "3733/3733 - 2s - loss: 0.2847 - accuracy: 0.9170 - val_loss: 0.2887 - val_accuracy: 0.9156 - 2s/epoch - 526us/step\n",
      "Epoch 82/100\n",
      "3733/3733 - 2s - loss: 0.2820 - accuracy: 0.9176 - val_loss: 0.2514 - val_accuracy: 0.9270 - 2s/epoch - 526us/step\n",
      "Epoch 83/100\n",
      "3733/3733 - 2s - loss: 0.2863 - accuracy: 0.9159 - val_loss: 0.2620 - val_accuracy: 0.9215 - 2s/epoch - 543us/step\n",
      "Epoch 84/100\n",
      "3733/3733 - 2s - loss: 0.2823 - accuracy: 0.9168 - val_loss: 0.2658 - val_accuracy: 0.9206 - 2s/epoch - 524us/step\n",
      "Epoch 85/100\n",
      "3733/3733 - 2s - loss: 0.2852 - accuracy: 0.9157 - val_loss: 0.2560 - val_accuracy: 0.9239 - 2s/epoch - 524us/step\n",
      "Epoch 86/100\n",
      "3733/3733 - 2s - loss: 0.2835 - accuracy: 0.9177 - val_loss: 0.3585 - val_accuracy: 0.8905 - 2s/epoch - 525us/step\n",
      "Epoch 87/100\n",
      "3733/3733 - 2s - loss: 0.2843 - accuracy: 0.9164 - val_loss: 0.3344 - val_accuracy: 0.8998 - 2s/epoch - 523us/step\n",
      "Epoch 88/100\n",
      "3733/3733 - 2s - loss: 0.2833 - accuracy: 0.9169 - val_loss: 0.2841 - val_accuracy: 0.9140 - 2s/epoch - 525us/step\n",
      "Epoch 89/100\n",
      "3733/3733 - 2s - loss: 0.2834 - accuracy: 0.9160 - val_loss: 0.2923 - val_accuracy: 0.9127 - 2s/epoch - 540us/step\n",
      "Epoch 90/100\n",
      "3733/3733 - 2s - loss: 0.2833 - accuracy: 0.9170 - val_loss: 0.2581 - val_accuracy: 0.9238 - 2s/epoch - 526us/step\n",
      "Epoch 91/100\n",
      "3733/3733 - 2s - loss: 0.2841 - accuracy: 0.9173 - val_loss: 0.3374 - val_accuracy: 0.8989 - 2s/epoch - 542us/step\n",
      "Epoch 92/100\n",
      "3733/3733 - 2s - loss: 0.2822 - accuracy: 0.9179 - val_loss: 0.8704 - val_accuracy: 0.7266 - 2s/epoch - 544us/step\n",
      "Epoch 93/100\n",
      "3733/3733 - 2s - loss: 0.2829 - accuracy: 0.9175 - val_loss: 0.3679 - val_accuracy: 0.8924 - 2s/epoch - 545us/step\n",
      "Epoch 94/100\n",
      "3733/3733 - 2s - loss: 0.2834 - accuracy: 0.9168 - val_loss: 0.2804 - val_accuracy: 0.9199 - 2s/epoch - 546us/step\n",
      "Epoch 95/100\n",
      "3733/3733 - 2s - loss: 0.2828 - accuracy: 0.9164 - val_loss: 0.4160 - val_accuracy: 0.8562 - 2s/epoch - 586us/step\n",
      "Epoch 96/100\n",
      "3733/3733 - 2s - loss: 0.2828 - accuracy: 0.9170 - val_loss: 0.2553 - val_accuracy: 0.9246 - 2s/epoch - 571us/step\n",
      "Epoch 97/100\n",
      "3733/3733 - 2s - loss: 0.2819 - accuracy: 0.9179 - val_loss: 0.2654 - val_accuracy: 0.9221 - 2s/epoch - 530us/step\n",
      "Epoch 98/100\n",
      "3733/3733 - 2s - loss: 0.2830 - accuracy: 0.9170 - val_loss: 0.6259 - val_accuracy: 0.7806 - 2s/epoch - 525us/step\n",
      "Epoch 99/100\n",
      "3733/3733 - 2s - loss: 0.2819 - accuracy: 0.9176 - val_loss: 0.2908 - val_accuracy: 0.9164 - 2s/epoch - 528us/step\n",
      "Epoch 100/100\n",
      "3733/3733 - 2s - loss: 0.2808 - accuracy: 0.9176 - val_loss: 0.2818 - val_accuracy: 0.9167 - 2s/epoch - 544us/step\n",
      "\n",
      "-------------\n",
      "\n",
      "Training complete!\n",
      "Completed 0 epochs in 00:03:22\n"
     ]
    }
   ],
   "source": [
    "from helpers.misc import get_timestamp\n",
    "\n",
    "completed_epochs = 0\n",
    "\n",
    "print(f\"Training model {model_name}...\\n\")\n",
    "start_time = time.time()\n",
    "\n",
    "\n",
    "history = model.fit(\n",
    "    x_train,\n",
    "    y_train,\n",
    "    batch_size=BATCH_SIZE,\n",
    "    epochs=NUM_EPOCHS,\n",
    "    validation_split=VALIDATION_SPLIT,\n",
    "    verbose=VERBOSE,\n",
    "    callbacks=[checkpointer_callback, csv_logger_callback, tensorboard_callback],\n",
    ")\n",
    "\n",
    "\n",
    "training_duration = get_timestamp(time.time() - start_time)\n",
    "\n",
    "print(\"\\n-------------\\n\")\n",
    "print(\"Training complete!\")\n",
    "print(f\"Completed {completed_epochs} epochs in {training_duration}\")"
   ]
  },
  {
   "cell_type": "markdown",
   "metadata": {},
   "source": [
    "## Display model training metrics\n"
   ]
  },
  {
   "cell_type": "code",
   "execution_count": null,
   "metadata": {},
   "outputs": [
    {
     "data": {
      "image/png": "[encoded data removed]",
      "text/plain": [
       "<Figure size 1200x500 with 2 Axes>"
      ]
     },
     "metadata": {},
     "output_type": "display_data"
    }
   ],
   "source": [
    "metrics = pd.read_csv(MODEL_METRICS_PATH)\n",
    "\n",
    "fig, (ax1, ax2) = plt.subplots(1, 2, figsize=(12, 5))\n",
    "\n",
    "ax1.plot(metrics[\"accuracy\"], label=\"accuracy\")\n",
    "ax1.plot(metrics[\"val_accuracy\"], label=\"validation accuracy\")\n",
    "ax1.set_title(\"Accuracy\")\n",
    "\n",
    "ax2.plot(metrics[\"loss\"], label=\"loss\")\n",
    "ax2.plot(metrics[\"val_loss\"], label=\"validation loss\")\n",
    "ax2.set_title(\"Loss\")\n",
    "\n",
    "ax1.legend()\n",
    "ax2.legend()\n",
    "plt.show()"
   ]
  },
  {
   "cell_type": "markdown",
   "metadata": {},
   "source": [
    "## Evaluate the model\n"
   ]
  },
  {
   "cell_type": "code",
   "execution_count": null,
   "metadata": {},
   "outputs": [
    {
     "name": "stdout",
     "output_type": "stream",
     "text": [
      "584/584 - 0s - loss: 0.2882 - accuracy: 0.9186 - 272ms/epoch - 466us/step\n",
      "\n",
      "\n",
      "Perte (Loss) sur l'ensemble de test : 0.2881609797477722\n",
      "Précision (Accuracy) sur l'ensemble de test : 0.9186002612113953\n"
     ]
    }
   ],
   "source": [
    "loss, accuracy = model.evaluate(x_test, y_test, verbose=VERBOSE)\n",
    "\n",
    "\n",
    "print(\"\\n\")\n",
    "print(f\"Perte (Loss) sur l'ensemble de test : {loss}\")\n",
    "print(f\"Précision (Accuracy) sur l'ensemble de test : {accuracy}\")"
   ]
  }
 ],
 "metadata": {
  "kernelspec": {
   "display_name": "kinected",
   "language": "python",
   "name": "python3"
  },
  "language_info": {
   "codemirror_mode": {
    "name": "ipython",
    "version": 3
   },
   "file_extension": ".py",
   "mimetype": "text/x-python",
   "name": "python",
   "nbconvert_exporter": "python",
   "pygments_lexer": "ipython3",
   "version": "3.11.5"
  }
 },
 "nbformat": 4,
 "nbformat_minor": 2
}
