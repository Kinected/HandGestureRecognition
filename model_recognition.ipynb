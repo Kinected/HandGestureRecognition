{
 "cells": [
  {
   "cell_type": "markdown",
   "metadata": {},
   "source": [
    "# Hand gesture recognition\n",
    "\n",
    "---\n"
   ]
  },
  {
   "cell_type": "markdown",
   "metadata": {},
   "source": [
    "## 1. Import packages\n"
   ]
  },
  {
   "cell_type": "code",
   "execution_count": 1,
   "metadata": {
    "vscode": {
     "languageId": "shellscript"
    }
   },
   "outputs": [
    {
     "name": "stdout",
     "output_type": "stream",
     "text": [
      "Requirement already satisfied: pandas in /Users/louislecouturier/miniconda3/envs/kinected/lib/python3.11/site-packages (from -r requirements.txt (line 1)) (2.1.4)\n",
      "Requirement already satisfied: opencv-python in /Users/louislecouturier/miniconda3/envs/kinected/lib/python3.11/site-packages (from -r requirements.txt (line 2)) (4.8.1.78)\n",
      "Requirement already satisfied: mediapipe in /Users/louislecouturier/miniconda3/envs/kinected/lib/python3.11/site-packages (from -r requirements.txt (line 3)) (0.10.9)\n",
      "Requirement already satisfied: scikit-learn in /Users/louislecouturier/miniconda3/envs/kinected/lib/python3.11/site-packages (from -r requirements.txt (line 4)) (1.3.2)\n",
      "Requirement already satisfied: matplotlib in /Users/louislecouturier/miniconda3/envs/kinected/lib/python3.11/site-packages (from -r requirements.txt (line 5)) (3.8.2)\n",
      "Requirement already satisfied: numpy in /Users/louislecouturier/miniconda3/envs/kinected/lib/python3.11/site-packages (from -r requirements.txt (line 6)) (1.26.2)\n",
      "Requirement already satisfied: tensorflow in /Users/louislecouturier/miniconda3/envs/kinected/lib/python3.11/site-packages (from -r requirements.txt (line 7)) (2.15.0)\n",
      "Requirement already satisfied: joblib in /Users/louislecouturier/miniconda3/envs/kinected/lib/python3.11/site-packages (from -r requirements.txt (line 8)) (1.3.2)\n",
      "Requirement already satisfied: keyboard in /Users/louislecouturier/miniconda3/envs/kinected/lib/python3.11/site-packages (from -r requirements.txt (line 9)) (0.13.5)\n",
      "Requirement already satisfied: python-dateutil>=2.8.2 in /Users/louislecouturier/miniconda3/envs/kinected/lib/python3.11/site-packages (from pandas->-r requirements.txt (line 1)) (2.8.2)\n",
      "Requirement already satisfied: pytz>=2020.1 in /Users/louislecouturier/miniconda3/envs/kinected/lib/python3.11/site-packages (from pandas->-r requirements.txt (line 1)) (2023.3.post1)\n",
      "Requirement already satisfied: tzdata>=2022.1 in /Users/louislecouturier/miniconda3/envs/kinected/lib/python3.11/site-packages (from pandas->-r requirements.txt (line 1)) (2023.3)\n",
      "Requirement already satisfied: absl-py in /Users/louislecouturier/miniconda3/envs/kinected/lib/python3.11/site-packages (from mediapipe->-r requirements.txt (line 3)) (2.0.0)\n",
      "Requirement already satisfied: attrs>=19.1.0 in /Users/louislecouturier/miniconda3/envs/kinected/lib/python3.11/site-packages (from mediapipe->-r requirements.txt (line 3)) (23.1.0)\n",
      "Requirement already satisfied: flatbuffers>=2.0 in /Users/louislecouturier/miniconda3/envs/kinected/lib/python3.11/site-packages (from mediapipe->-r requirements.txt (line 3)) (23.5.26)\n",
      "Requirement already satisfied: opencv-contrib-python in /Users/louislecouturier/miniconda3/envs/kinected/lib/python3.11/site-packages (from mediapipe->-r requirements.txt (line 3)) (4.8.1.78)\n",
      "Requirement already satisfied: protobuf<4,>=3.11 in /Users/louislecouturier/miniconda3/envs/kinected/lib/python3.11/site-packages (from mediapipe->-r requirements.txt (line 3)) (3.20.3)\n",
      "Requirement already satisfied: sounddevice>=0.4.4 in /Users/louislecouturier/miniconda3/envs/kinected/lib/python3.11/site-packages (from mediapipe->-r requirements.txt (line 3)) (0.4.6)\n",
      "Requirement already satisfied: scipy>=1.5.0 in /Users/louislecouturier/miniconda3/envs/kinected/lib/python3.11/site-packages (from scikit-learn->-r requirements.txt (line 4)) (1.11.4)\n",
      "Requirement already satisfied: threadpoolctl>=2.0.0 in /Users/louislecouturier/miniconda3/envs/kinected/lib/python3.11/site-packages (from scikit-learn->-r requirements.txt (line 4)) (3.2.0)\n",
      "Requirement already satisfied: contourpy>=1.0.1 in /Users/louislecouturier/miniconda3/envs/kinected/lib/python3.11/site-packages (from matplotlib->-r requirements.txt (line 5)) (1.2.0)\n",
      "Requirement already satisfied: cycler>=0.10 in /Users/louislecouturier/miniconda3/envs/kinected/lib/python3.11/site-packages (from matplotlib->-r requirements.txt (line 5)) (0.12.1)\n",
      "Requirement already satisfied: fonttools>=4.22.0 in /Users/louislecouturier/miniconda3/envs/kinected/lib/python3.11/site-packages (from matplotlib->-r requirements.txt (line 5)) (4.46.0)\n",
      "Requirement already satisfied: kiwisolver>=1.3.1 in /Users/louislecouturier/miniconda3/envs/kinected/lib/python3.11/site-packages (from matplotlib->-r requirements.txt (line 5)) (1.4.5)\n",
      "Requirement already satisfied: packaging>=20.0 in /Users/louislecouturier/miniconda3/envs/kinected/lib/python3.11/site-packages (from matplotlib->-r requirements.txt (line 5)) (23.2)\n",
      "Requirement already satisfied: pillow>=8 in /Users/louislecouturier/miniconda3/envs/kinected/lib/python3.11/site-packages (from matplotlib->-r requirements.txt (line 5)) (10.0.1)\n",
      "Requirement already satisfied: pyparsing>=2.3.1 in /Users/louislecouturier/miniconda3/envs/kinected/lib/python3.11/site-packages (from matplotlib->-r requirements.txt (line 5)) (3.1.1)\n",
      "Requirement already satisfied: tensorflow-macos==2.15.0 in /Users/louislecouturier/miniconda3/envs/kinected/lib/python3.11/site-packages (from tensorflow->-r requirements.txt (line 7)) (2.15.0)\n",
      "Requirement already satisfied: astunparse>=1.6.0 in /Users/louislecouturier/miniconda3/envs/kinected/lib/python3.11/site-packages (from tensorflow-macos==2.15.0->tensorflow->-r requirements.txt (line 7)) (1.6.3)\n",
      "Requirement already satisfied: gast!=0.5.0,!=0.5.1,!=0.5.2,>=0.2.1 in /Users/louislecouturier/miniconda3/envs/kinected/lib/python3.11/site-packages (from tensorflow-macos==2.15.0->tensorflow->-r requirements.txt (line 7)) (0.5.4)\n",
      "Requirement already satisfied: google-pasta>=0.1.1 in /Users/louislecouturier/miniconda3/envs/kinected/lib/python3.11/site-packages (from tensorflow-macos==2.15.0->tensorflow->-r requirements.txt (line 7)) (0.2.0)\n",
      "Requirement already satisfied: h5py>=2.9.0 in /Users/louislecouturier/miniconda3/envs/kinected/lib/python3.11/site-packages (from tensorflow-macos==2.15.0->tensorflow->-r requirements.txt (line 7)) (3.10.0)\n",
      "Requirement already satisfied: libclang>=13.0.0 in /Users/louislecouturier/miniconda3/envs/kinected/lib/python3.11/site-packages (from tensorflow-macos==2.15.0->tensorflow->-r requirements.txt (line 7)) (16.0.6)\n",
      "Requirement already satisfied: ml-dtypes~=0.2.0 in /Users/louislecouturier/miniconda3/envs/kinected/lib/python3.11/site-packages (from tensorflow-macos==2.15.0->tensorflow->-r requirements.txt (line 7)) (0.2.0)\n",
      "Requirement already satisfied: opt-einsum>=2.3.2 in /Users/louislecouturier/miniconda3/envs/kinected/lib/python3.11/site-packages (from tensorflow-macos==2.15.0->tensorflow->-r requirements.txt (line 7)) (3.3.0)\n",
      "Requirement already satisfied: setuptools in /Users/louislecouturier/miniconda3/envs/kinected/lib/python3.11/site-packages (from tensorflow-macos==2.15.0->tensorflow->-r requirements.txt (line 7)) (68.2.2)\n",
      "Requirement already satisfied: six>=1.12.0 in /Users/louislecouturier/miniconda3/envs/kinected/lib/python3.11/site-packages (from tensorflow-macos==2.15.0->tensorflow->-r requirements.txt (line 7)) (1.16.0)\n",
      "Requirement already satisfied: termcolor>=1.1.0 in /Users/louislecouturier/miniconda3/envs/kinected/lib/python3.11/site-packages (from tensorflow-macos==2.15.0->tensorflow->-r requirements.txt (line 7)) (2.4.0)\n",
      "Requirement already satisfied: typing-extensions>=3.6.6 in /Users/louislecouturier/miniconda3/envs/kinected/lib/python3.11/site-packages (from tensorflow-macos==2.15.0->tensorflow->-r requirements.txt (line 7)) (4.9.0)\n",
      "Requirement already satisfied: wrapt<1.15,>=1.11.0 in /Users/louislecouturier/miniconda3/envs/kinected/lib/python3.11/site-packages (from tensorflow-macos==2.15.0->tensorflow->-r requirements.txt (line 7)) (1.14.1)\n",
      "Requirement already satisfied: tensorflow-io-gcs-filesystem>=0.23.1 in /Users/louislecouturier/miniconda3/envs/kinected/lib/python3.11/site-packages (from tensorflow-macos==2.15.0->tensorflow->-r requirements.txt (line 7)) (0.34.0)\n",
      "Requirement already satisfied: grpcio<2.0,>=1.24.3 in /Users/louislecouturier/miniconda3/envs/kinected/lib/python3.11/site-packages (from tensorflow-macos==2.15.0->tensorflow->-r requirements.txt (line 7)) (1.60.0)\n",
      "Requirement already satisfied: tensorboard<2.16,>=2.15 in /Users/louislecouturier/miniconda3/envs/kinected/lib/python3.11/site-packages (from tensorflow-macos==2.15.0->tensorflow->-r requirements.txt (line 7)) (2.15.1)\n",
      "Requirement already satisfied: tensorflow-estimator<2.16,>=2.15.0 in /Users/louislecouturier/miniconda3/envs/kinected/lib/python3.11/site-packages (from tensorflow-macos==2.15.0->tensorflow->-r requirements.txt (line 7)) (2.15.0)\n",
      "Requirement already satisfied: keras<2.16,>=2.15.0 in /Users/louislecouturier/miniconda3/envs/kinected/lib/python3.11/site-packages (from tensorflow-macos==2.15.0->tensorflow->-r requirements.txt (line 7)) (2.15.0)\n",
      "Requirement already satisfied: pyobjc in /Users/louislecouturier/miniconda3/envs/kinected/lib/python3.11/site-packages (from keyboard->-r requirements.txt (line 9)) (10.1)\n",
      "Requirement already satisfied: CFFI>=1.0 in /Users/louislecouturier/miniconda3/envs/kinected/lib/python3.11/site-packages (from sounddevice>=0.4.4->mediapipe->-r requirements.txt (line 3)) (1.16.0)\n",
      "Requirement already satisfied: pyobjc-core==10.1 in /Users/louislecouturier/miniconda3/envs/kinected/lib/python3.11/site-packages (from pyobjc->keyboard->-r requirements.txt (line 9)) (10.1)\n",
      "Requirement already satisfied: pyobjc-framework-AddressBook==10.1 in /Users/louislecouturier/miniconda3/envs/kinected/lib/python3.11/site-packages (from pyobjc->keyboard->-r requirements.txt (line 9)) (10.1)\n",
      "Requirement already satisfied: pyobjc-framework-AppleScriptKit==10.1 in /Users/louislecouturier/miniconda3/envs/kinected/lib/python3.11/site-packages (from pyobjc->keyboard->-r requirements.txt (line 9)) (10.1)\n",
      "Requirement already satisfied: pyobjc-framework-ApplicationServices==10.1 in /Users/louislecouturier/miniconda3/envs/kinected/lib/python3.11/site-packages (from pyobjc->keyboard->-r requirements.txt (line 9)) (10.1)\n",
      "Requirement already satisfied: pyobjc-framework-Automator==10.1 in /Users/louislecouturier/miniconda3/envs/kinected/lib/python3.11/site-packages (from pyobjc->keyboard->-r requirements.txt (line 9)) (10.1)\n",
      "Requirement already satisfied: pyobjc-framework-CFNetwork==10.1 in /Users/louislecouturier/miniconda3/envs/kinected/lib/python3.11/site-packages (from pyobjc->keyboard->-r requirements.txt (line 9)) (10.1)\n",
      "Requirement already satisfied: pyobjc-framework-Cocoa==10.1 in /Users/louislecouturier/miniconda3/envs/kinected/lib/python3.11/site-packages (from pyobjc->keyboard->-r requirements.txt (line 9)) (10.1)\n",
      "Requirement already satisfied: pyobjc-framework-CoreAudio==10.1 in /Users/louislecouturier/miniconda3/envs/kinected/lib/python3.11/site-packages (from pyobjc->keyboard->-r requirements.txt (line 9)) (10.1)\n",
      "Requirement already satisfied: pyobjc-framework-CoreAudioKit==10.1 in /Users/louislecouturier/miniconda3/envs/kinected/lib/python3.11/site-packages (from pyobjc->keyboard->-r requirements.txt (line 9)) (10.1)\n",
      "Requirement already satisfied: pyobjc-framework-CoreData==10.1 in /Users/louislecouturier/miniconda3/envs/kinected/lib/python3.11/site-packages (from pyobjc->keyboard->-r requirements.txt (line 9)) (10.1)\n",
      "Requirement already satisfied: pyobjc-framework-CoreMIDI==10.1 in /Users/louislecouturier/miniconda3/envs/kinected/lib/python3.11/site-packages (from pyobjc->keyboard->-r requirements.txt (line 9)) (10.1)\n",
      "Requirement already satisfied: pyobjc-framework-CoreServices==10.1 in /Users/louislecouturier/miniconda3/envs/kinected/lib/python3.11/site-packages (from pyobjc->keyboard->-r requirements.txt (line 9)) (10.1)\n",
      "Requirement already satisfied: pyobjc-framework-CoreText==10.1 in /Users/louislecouturier/miniconda3/envs/kinected/lib/python3.11/site-packages (from pyobjc->keyboard->-r requirements.txt (line 9)) (10.1)\n",
      "Requirement already satisfied: pyobjc-framework-DiscRecording==10.1 in /Users/louislecouturier/miniconda3/envs/kinected/lib/python3.11/site-packages (from pyobjc->keyboard->-r requirements.txt (line 9)) (10.1)\n",
      "Requirement already satisfied: pyobjc-framework-DiscRecordingUI==10.1 in /Users/louislecouturier/miniconda3/envs/kinected/lib/python3.11/site-packages (from pyobjc->keyboard->-r requirements.txt (line 9)) (10.1)\n",
      "Requirement already satisfied: pyobjc-framework-DiskArbitration==10.1 in /Users/louislecouturier/miniconda3/envs/kinected/lib/python3.11/site-packages (from pyobjc->keyboard->-r requirements.txt (line 9)) (10.1)\n",
      "Requirement already satisfied: pyobjc-framework-DVDPlayback==10.1 in /Users/louislecouturier/miniconda3/envs/kinected/lib/python3.11/site-packages (from pyobjc->keyboard->-r requirements.txt (line 9)) (10.1)\n",
      "Requirement already satisfied: pyobjc-framework-ExceptionHandling==10.1 in /Users/louislecouturier/miniconda3/envs/kinected/lib/python3.11/site-packages (from pyobjc->keyboard->-r requirements.txt (line 9)) (10.1)\n",
      "Requirement already satisfied: pyobjc-framework-InstallerPlugins==10.1 in /Users/louislecouturier/miniconda3/envs/kinected/lib/python3.11/site-packages (from pyobjc->keyboard->-r requirements.txt (line 9)) (10.1)\n",
      "Requirement already satisfied: pyobjc-framework-IOBluetooth==10.1 in /Users/louislecouturier/miniconda3/envs/kinected/lib/python3.11/site-packages (from pyobjc->keyboard->-r requirements.txt (line 9)) (10.1)\n",
      "Requirement already satisfied: pyobjc-framework-IOBluetoothUI==10.1 in /Users/louislecouturier/miniconda3/envs/kinected/lib/python3.11/site-packages (from pyobjc->keyboard->-r requirements.txt (line 9)) (10.1)\n",
      "Requirement already satisfied: pyobjc-framework-LatentSemanticMapping==10.1 in /Users/louislecouturier/miniconda3/envs/kinected/lib/python3.11/site-packages (from pyobjc->keyboard->-r requirements.txt (line 9)) (10.1)\n",
      "Requirement already satisfied: pyobjc-framework-LaunchServices==10.1 in /Users/louislecouturier/miniconda3/envs/kinected/lib/python3.11/site-packages (from pyobjc->keyboard->-r requirements.txt (line 9)) (10.1)\n",
      "Requirement already satisfied: pyobjc-framework-OSAKit==10.1 in /Users/louislecouturier/miniconda3/envs/kinected/lib/python3.11/site-packages (from pyobjc->keyboard->-r requirements.txt (line 9)) (10.1)\n",
      "Requirement already satisfied: pyobjc-framework-PreferencePanes==10.1 in /Users/louislecouturier/miniconda3/envs/kinected/lib/python3.11/site-packages (from pyobjc->keyboard->-r requirements.txt (line 9)) (10.1)\n",
      "Requirement already satisfied: pyobjc-framework-Quartz==10.1 in /Users/louislecouturier/miniconda3/envs/kinected/lib/python3.11/site-packages (from pyobjc->keyboard->-r requirements.txt (line 9)) (10.1)\n",
      "Requirement already satisfied: pyobjc-framework-ScreenSaver==10.1 in /Users/louislecouturier/miniconda3/envs/kinected/lib/python3.11/site-packages (from pyobjc->keyboard->-r requirements.txt (line 9)) (10.1)\n",
      "Requirement already satisfied: pyobjc-framework-Security==10.1 in /Users/louislecouturier/miniconda3/envs/kinected/lib/python3.11/site-packages (from pyobjc->keyboard->-r requirements.txt (line 9)) (10.1)\n",
      "Requirement already satisfied: pyobjc-framework-SecurityFoundation==10.1 in /Users/louislecouturier/miniconda3/envs/kinected/lib/python3.11/site-packages (from pyobjc->keyboard->-r requirements.txt (line 9)) (10.1)\n",
      "Requirement already satisfied: pyobjc-framework-SecurityInterface==10.1 in /Users/louislecouturier/miniconda3/envs/kinected/lib/python3.11/site-packages (from pyobjc->keyboard->-r requirements.txt (line 9)) (10.1)\n",
      "Requirement already satisfied: pyobjc-framework-SearchKit==10.1 in /Users/louislecouturier/miniconda3/envs/kinected/lib/python3.11/site-packages (from pyobjc->keyboard->-r requirements.txt (line 9)) (10.1)\n",
      "Requirement already satisfied: pyobjc-framework-SyncServices==10.1 in /Users/louislecouturier/miniconda3/envs/kinected/lib/python3.11/site-packages (from pyobjc->keyboard->-r requirements.txt (line 9)) (10.1)\n",
      "Requirement already satisfied: pyobjc-framework-SystemConfiguration==10.1 in /Users/louislecouturier/miniconda3/envs/kinected/lib/python3.11/site-packages (from pyobjc->keyboard->-r requirements.txt (line 9)) (10.1)\n",
      "Requirement already satisfied: pyobjc-framework-WebKit==10.1 in /Users/louislecouturier/miniconda3/envs/kinected/lib/python3.11/site-packages (from pyobjc->keyboard->-r requirements.txt (line 9)) (10.1)\n",
      "Requirement already satisfied: pyobjc-framework-AppleScriptObjC==10.1 in /Users/louislecouturier/miniconda3/envs/kinected/lib/python3.11/site-packages (from pyobjc->keyboard->-r requirements.txt (line 9)) (10.1)\n",
      "Requirement already satisfied: pyobjc-framework-CoreLocation==10.1 in /Users/louislecouturier/miniconda3/envs/kinected/lib/python3.11/site-packages (from pyobjc->keyboard->-r requirements.txt (line 9)) (10.1)\n",
      "Requirement already satisfied: pyobjc-framework-CoreWLAN==10.1 in /Users/louislecouturier/miniconda3/envs/kinected/lib/python3.11/site-packages (from pyobjc->keyboard->-r requirements.txt (line 9)) (10.1)\n",
      "Requirement already satisfied: pyobjc-framework-ImageCaptureCore==10.1 in /Users/louislecouturier/miniconda3/envs/kinected/lib/python3.11/site-packages (from pyobjc->keyboard->-r requirements.txt (line 9)) (10.1)\n",
      "Requirement already satisfied: pyobjc-framework-IOSurface==10.1 in /Users/louislecouturier/miniconda3/envs/kinected/lib/python3.11/site-packages (from pyobjc->keyboard->-r requirements.txt (line 9)) (10.1)\n",
      "Requirement already satisfied: pyobjc-framework-NetFS==10.1 in /Users/louislecouturier/miniconda3/envs/kinected/lib/python3.11/site-packages (from pyobjc->keyboard->-r requirements.txt (line 9)) (10.1)\n",
      "Requirement already satisfied: pyobjc-framework-OpenDirectory==10.1 in /Users/louislecouturier/miniconda3/envs/kinected/lib/python3.11/site-packages (from pyobjc->keyboard->-r requirements.txt (line 9)) (10.1)\n",
      "Requirement already satisfied: pyobjc-framework-ServiceManagement==10.1 in /Users/louislecouturier/miniconda3/envs/kinected/lib/python3.11/site-packages (from pyobjc->keyboard->-r requirements.txt (line 9)) (10.1)\n",
      "Requirement already satisfied: pyobjc-framework-iTunesLibrary==10.1 in /Users/louislecouturier/miniconda3/envs/kinected/lib/python3.11/site-packages (from pyobjc->keyboard->-r requirements.txt (line 9)) (10.1)\n",
      "Requirement already satisfied: pyobjc-framework-AVFoundation==10.1 in /Users/louislecouturier/miniconda3/envs/kinected/lib/python3.11/site-packages (from pyobjc->keyboard->-r requirements.txt (line 9)) (10.1)\n",
      "Requirement already satisfied: pyobjc-framework-CoreMedia==10.1 in /Users/louislecouturier/miniconda3/envs/kinected/lib/python3.11/site-packages (from pyobjc->keyboard->-r requirements.txt (line 9)) (10.1)\n",
      "Requirement already satisfied: pyobjc-framework-CoreMediaIO==10.1 in /Users/louislecouturier/miniconda3/envs/kinected/lib/python3.11/site-packages (from pyobjc->keyboard->-r requirements.txt (line 9)) (10.1)\n",
      "Requirement already satisfied: pyobjc-framework-StoreKit==10.1 in /Users/louislecouturier/miniconda3/envs/kinected/lib/python3.11/site-packages (from pyobjc->keyboard->-r requirements.txt (line 9)) (10.1)\n",
      "Requirement already satisfied: pyobjc-framework-SceneKit==10.1 in /Users/louislecouturier/miniconda3/envs/kinected/lib/python3.11/site-packages (from pyobjc->keyboard->-r requirements.txt (line 9)) (10.1)\n",
      "Requirement already satisfied: pyobjc-framework-libdispatch==10.1 in /Users/louislecouturier/miniconda3/envs/kinected/lib/python3.11/site-packages (from pyobjc->keyboard->-r requirements.txt (line 9)) (10.1)\n",
      "Requirement already satisfied: pyobjc-framework-libxpc==10.1 in /Users/louislecouturier/miniconda3/envs/kinected/lib/python3.11/site-packages (from pyobjc->keyboard->-r requirements.txt (line 9)) (10.1)\n",
      "Requirement already satisfied: pyobjc-framework-AudioVideoBridging==10.1 in /Users/louislecouturier/miniconda3/envs/kinected/lib/python3.11/site-packages (from pyobjc->keyboard->-r requirements.txt (line 9)) (10.1)\n",
      "Requirement already satisfied: pyobjc-framework-Accounts==10.1 in /Users/louislecouturier/miniconda3/envs/kinected/lib/python3.11/site-packages (from pyobjc->keyboard->-r requirements.txt (line 9)) (10.1)\n",
      "Requirement already satisfied: pyobjc-framework-EventKit==10.1 in /Users/louislecouturier/miniconda3/envs/kinected/lib/python3.11/site-packages (from pyobjc->keyboard->-r requirements.txt (line 9)) (10.1)\n",
      "Requirement already satisfied: pyobjc-framework-GameCenter==10.1 in /Users/louislecouturier/miniconda3/envs/kinected/lib/python3.11/site-packages (from pyobjc->keyboard->-r requirements.txt (line 9)) (10.1)\n",
      "Requirement already satisfied: pyobjc-framework-Social==10.1 in /Users/louislecouturier/miniconda3/envs/kinected/lib/python3.11/site-packages (from pyobjc->keyboard->-r requirements.txt (line 9)) (10.1)\n",
      "Requirement already satisfied: pyobjc-framework-GameKit==10.1 in /Users/louislecouturier/miniconda3/envs/kinected/lib/python3.11/site-packages (from pyobjc->keyboard->-r requirements.txt (line 9)) (10.1)\n",
      "Requirement already satisfied: pyobjc-framework-VideoToolbox==10.1 in /Users/louislecouturier/miniconda3/envs/kinected/lib/python3.11/site-packages (from pyobjc->keyboard->-r requirements.txt (line 9)) (10.1)\n",
      "Requirement already satisfied: pyobjc-framework-AVKit==10.1 in /Users/louislecouturier/miniconda3/envs/kinected/lib/python3.11/site-packages (from pyobjc->keyboard->-r requirements.txt (line 9)) (10.1)\n",
      "Requirement already satisfied: pyobjc-framework-GameController==10.1 in /Users/louislecouturier/miniconda3/envs/kinected/lib/python3.11/site-packages (from pyobjc->keyboard->-r requirements.txt (line 9)) (10.1)\n",
      "Requirement already satisfied: pyobjc-framework-MapKit==10.1 in /Users/louislecouturier/miniconda3/envs/kinected/lib/python3.11/site-packages (from pyobjc->keyboard->-r requirements.txt (line 9)) (10.1)\n",
      "Requirement already satisfied: pyobjc-framework-MediaAccessibility==10.1 in /Users/louislecouturier/miniconda3/envs/kinected/lib/python3.11/site-packages (from pyobjc->keyboard->-r requirements.txt (line 9)) (10.1)\n",
      "Requirement already satisfied: pyobjc-framework-MediaLibrary==10.1 in /Users/louislecouturier/miniconda3/envs/kinected/lib/python3.11/site-packages (from pyobjc->keyboard->-r requirements.txt (line 9)) (10.1)\n",
      "Requirement already satisfied: pyobjc-framework-MediaToolbox==10.1 in /Users/louislecouturier/miniconda3/envs/kinected/lib/python3.11/site-packages (from pyobjc->keyboard->-r requirements.txt (line 9)) (10.1)\n",
      "Requirement already satisfied: pyobjc-framework-SpriteKit==10.1 in /Users/louislecouturier/miniconda3/envs/kinected/lib/python3.11/site-packages (from pyobjc->keyboard->-r requirements.txt (line 9)) (10.1)\n",
      "Requirement already satisfied: pyobjc-framework-CloudKit==10.1 in /Users/louislecouturier/miniconda3/envs/kinected/lib/python3.11/site-packages (from pyobjc->keyboard->-r requirements.txt (line 9)) (10.1)\n",
      "Requirement already satisfied: pyobjc-framework-CoreBluetooth==10.1 in /Users/louislecouturier/miniconda3/envs/kinected/lib/python3.11/site-packages (from pyobjc->keyboard->-r requirements.txt (line 9)) (10.1)\n",
      "Requirement already satisfied: pyobjc-framework-CryptoTokenKit==10.1 in /Users/louislecouturier/miniconda3/envs/kinected/lib/python3.11/site-packages (from pyobjc->keyboard->-r requirements.txt (line 9)) (10.1)\n",
      "Requirement already satisfied: pyobjc-framework-FinderSync==10.1 in /Users/louislecouturier/miniconda3/envs/kinected/lib/python3.11/site-packages (from pyobjc->keyboard->-r requirements.txt (line 9)) (10.1)\n",
      "Requirement already satisfied: pyobjc-framework-LocalAuthentication==10.1 in /Users/louislecouturier/miniconda3/envs/kinected/lib/python3.11/site-packages (from pyobjc->keyboard->-r requirements.txt (line 9)) (10.1)\n",
      "Requirement already satisfied: pyobjc-framework-MultipeerConnectivity==10.1 in /Users/louislecouturier/miniconda3/envs/kinected/lib/python3.11/site-packages (from pyobjc->keyboard->-r requirements.txt (line 9)) (10.1)\n",
      "Requirement already satisfied: pyobjc-framework-NotificationCenter==10.1 in /Users/louislecouturier/miniconda3/envs/kinected/lib/python3.11/site-packages (from pyobjc->keyboard->-r requirements.txt (line 9)) (10.1)\n",
      "Requirement already satisfied: pyobjc-framework-Contacts==10.1 in /Users/louislecouturier/miniconda3/envs/kinected/lib/python3.11/site-packages (from pyobjc->keyboard->-r requirements.txt (line 9)) (10.1)\n",
      "Requirement already satisfied: pyobjc-framework-ContactsUI==10.1 in /Users/louislecouturier/miniconda3/envs/kinected/lib/python3.11/site-packages (from pyobjc->keyboard->-r requirements.txt (line 9)) (10.1)\n",
      "Requirement already satisfied: pyobjc-framework-Metal==10.1 in /Users/louislecouturier/miniconda3/envs/kinected/lib/python3.11/site-packages (from pyobjc->keyboard->-r requirements.txt (line 9)) (10.1)\n",
      "Requirement already satisfied: pyobjc-framework-MetalKit==10.1 in /Users/louislecouturier/miniconda3/envs/kinected/lib/python3.11/site-packages (from pyobjc->keyboard->-r requirements.txt (line 9)) (10.1)\n",
      "Requirement already satisfied: pyobjc-framework-ModelIO==10.1 in /Users/louislecouturier/miniconda3/envs/kinected/lib/python3.11/site-packages (from pyobjc->keyboard->-r requirements.txt (line 9)) (10.1)\n",
      "Requirement already satisfied: pyobjc-framework-NetworkExtension==10.1 in /Users/louislecouturier/miniconda3/envs/kinected/lib/python3.11/site-packages (from pyobjc->keyboard->-r requirements.txt (line 9)) (10.1)\n",
      "Requirement already satisfied: pyobjc-framework-Photos==10.1 in /Users/louislecouturier/miniconda3/envs/kinected/lib/python3.11/site-packages (from pyobjc->keyboard->-r requirements.txt (line 9)) (10.1)\n",
      "Requirement already satisfied: pyobjc-framework-PhotosUI==10.1 in /Users/louislecouturier/miniconda3/envs/kinected/lib/python3.11/site-packages (from pyobjc->keyboard->-r requirements.txt (line 9)) (10.1)\n",
      "Requirement already satisfied: pyobjc-framework-GameplayKit==10.1 in /Users/louislecouturier/miniconda3/envs/kinected/lib/python3.11/site-packages (from pyobjc->keyboard->-r requirements.txt (line 9)) (10.1)\n",
      "Requirement already satisfied: pyobjc-framework-Intents==10.1 in /Users/louislecouturier/miniconda3/envs/kinected/lib/python3.11/site-packages (from pyobjc->keyboard->-r requirements.txt (line 9)) (10.1)\n",
      "Requirement already satisfied: pyobjc-framework-MediaPlayer==10.1 in /Users/louislecouturier/miniconda3/envs/kinected/lib/python3.11/site-packages (from pyobjc->keyboard->-r requirements.txt (line 9)) (10.1)\n",
      "Requirement already satisfied: pyobjc-framework-SafariServices==10.1 in /Users/louislecouturier/miniconda3/envs/kinected/lib/python3.11/site-packages (from pyobjc->keyboard->-r requirements.txt (line 9)) (10.1)\n",
      "Requirement already satisfied: pyobjc-framework-ColorSync==10.1 in /Users/louislecouturier/miniconda3/envs/kinected/lib/python3.11/site-packages (from pyobjc->keyboard->-r requirements.txt (line 9)) (10.1)\n",
      "Requirement already satisfied: pyobjc-framework-CoreML==10.1 in /Users/louislecouturier/miniconda3/envs/kinected/lib/python3.11/site-packages (from pyobjc->keyboard->-r requirements.txt (line 9)) (10.1)\n",
      "Requirement already satisfied: pyobjc-framework-CoreSpotlight==10.1 in /Users/louislecouturier/miniconda3/envs/kinected/lib/python3.11/site-packages (from pyobjc->keyboard->-r requirements.txt (line 9)) (10.1)\n",
      "Requirement already satisfied: pyobjc-framework-ExternalAccessory==10.1 in /Users/louislecouturier/miniconda3/envs/kinected/lib/python3.11/site-packages (from pyobjc->keyboard->-r requirements.txt (line 9)) (10.1)\n",
      "Requirement already satisfied: pyobjc-framework-MetalPerformanceShaders==10.1 in /Users/louislecouturier/miniconda3/envs/kinected/lib/python3.11/site-packages (from pyobjc->keyboard->-r requirements.txt (line 9)) (10.1)\n",
      "Requirement already satisfied: pyobjc-framework-Vision==10.1 in /Users/louislecouturier/miniconda3/envs/kinected/lib/python3.11/site-packages (from pyobjc->keyboard->-r requirements.txt (line 9)) (10.1)\n",
      "Requirement already satisfied: pyobjc-framework-AdSupport==10.1 in /Users/louislecouturier/miniconda3/envs/kinected/lib/python3.11/site-packages (from pyobjc->keyboard->-r requirements.txt (line 9)) (10.1)\n",
      "Requirement already satisfied: pyobjc-framework-BusinessChat==10.1 in /Users/louislecouturier/miniconda3/envs/kinected/lib/python3.11/site-packages (from pyobjc->keyboard->-r requirements.txt (line 9)) (10.1)\n",
      "Requirement already satisfied: pyobjc-framework-NaturalLanguage==10.1 in /Users/louislecouturier/miniconda3/envs/kinected/lib/python3.11/site-packages (from pyobjc->keyboard->-r requirements.txt (line 9)) (10.1)\n",
      "Requirement already satisfied: pyobjc-framework-Network==10.1 in /Users/louislecouturier/miniconda3/envs/kinected/lib/python3.11/site-packages (from pyobjc->keyboard->-r requirements.txt (line 9)) (10.1)\n",
      "Requirement already satisfied: pyobjc-framework-UserNotifications==10.1 in /Users/louislecouturier/miniconda3/envs/kinected/lib/python3.11/site-packages (from pyobjc->keyboard->-r requirements.txt (line 9)) (10.1)\n",
      "Requirement already satisfied: pyobjc-framework-VideoSubscriberAccount==10.1 in /Users/louislecouturier/miniconda3/envs/kinected/lib/python3.11/site-packages (from pyobjc->keyboard->-r requirements.txt (line 9)) (10.1)\n",
      "Requirement already satisfied: pyobjc-framework-AuthenticationServices==10.1 in /Users/louislecouturier/miniconda3/envs/kinected/lib/python3.11/site-packages (from pyobjc->keyboard->-r requirements.txt (line 9)) (10.1)\n",
      "Requirement already satisfied: pyobjc-framework-AutomaticAssessmentConfiguration==10.1 in /Users/louislecouturier/miniconda3/envs/kinected/lib/python3.11/site-packages (from pyobjc->keyboard->-r requirements.txt (line 9)) (10.1)\n",
      "Requirement already satisfied: pyobjc-framework-CoreHaptics==10.1 in /Users/louislecouturier/miniconda3/envs/kinected/lib/python3.11/site-packages (from pyobjc->keyboard->-r requirements.txt (line 9)) (10.1)\n",
      "Requirement already satisfied: pyobjc-framework-CoreMotion==10.1 in /Users/louislecouturier/miniconda3/envs/kinected/lib/python3.11/site-packages (from pyobjc->keyboard->-r requirements.txt (line 9)) (10.1)\n",
      "Requirement already satisfied: pyobjc-framework-DeviceCheck==10.1 in /Users/louislecouturier/miniconda3/envs/kinected/lib/python3.11/site-packages (from pyobjc->keyboard->-r requirements.txt (line 9)) (10.1)\n",
      "Requirement already satisfied: pyobjc-framework-ExecutionPolicy==10.1 in /Users/louislecouturier/miniconda3/envs/kinected/lib/python3.11/site-packages (from pyobjc->keyboard->-r requirements.txt (line 9)) (10.1)\n",
      "Requirement already satisfied: pyobjc-framework-FileProvider==10.1 in /Users/louislecouturier/miniconda3/envs/kinected/lib/python3.11/site-packages (from pyobjc->keyboard->-r requirements.txt (line 9)) (10.1)\n",
      "Requirement already satisfied: pyobjc-framework-FileProviderUI==10.1 in /Users/louislecouturier/miniconda3/envs/kinected/lib/python3.11/site-packages (from pyobjc->keyboard->-r requirements.txt (line 9)) (10.1)\n",
      "Requirement already satisfied: pyobjc-framework-LinkPresentation==10.1 in /Users/louislecouturier/miniconda3/envs/kinected/lib/python3.11/site-packages (from pyobjc->keyboard->-r requirements.txt (line 9)) (10.1)\n",
      "Requirement already satisfied: pyobjc-framework-OSLog==10.1 in /Users/louislecouturier/miniconda3/envs/kinected/lib/python3.11/site-packages (from pyobjc->keyboard->-r requirements.txt (line 9)) (10.1)\n",
      "Requirement already satisfied: pyobjc-framework-PencilKit==10.1 in /Users/louislecouturier/miniconda3/envs/kinected/lib/python3.11/site-packages (from pyobjc->keyboard->-r requirements.txt (line 9)) (10.1)\n",
      "Requirement already satisfied: pyobjc-framework-PushKit==10.1 in /Users/louislecouturier/miniconda3/envs/kinected/lib/python3.11/site-packages (from pyobjc->keyboard->-r requirements.txt (line 9)) (10.1)\n",
      "Requirement already satisfied: pyobjc-framework-QuickLookThumbnailing==10.1 in /Users/louislecouturier/miniconda3/envs/kinected/lib/python3.11/site-packages (from pyobjc->keyboard->-r requirements.txt (line 9)) (10.1)\n",
      "Requirement already satisfied: pyobjc-framework-Speech==10.1 in /Users/louislecouturier/miniconda3/envs/kinected/lib/python3.11/site-packages (from pyobjc->keyboard->-r requirements.txt (line 9)) (10.1)\n",
      "Requirement already satisfied: pyobjc-framework-SoundAnalysis==10.1 in /Users/louislecouturier/miniconda3/envs/kinected/lib/python3.11/site-packages (from pyobjc->keyboard->-r requirements.txt (line 9)) (10.1)\n",
      "Requirement already satisfied: pyobjc-framework-SystemExtensions==10.1 in /Users/louislecouturier/miniconda3/envs/kinected/lib/python3.11/site-packages (from pyobjc->keyboard->-r requirements.txt (line 9)) (10.1)\n",
      "Requirement already satisfied: pyobjc-framework-Accessibility==10.1 in /Users/louislecouturier/miniconda3/envs/kinected/lib/python3.11/site-packages (from pyobjc->keyboard->-r requirements.txt (line 9)) (10.1)\n",
      "Requirement already satisfied: pyobjc-framework-AdServices==10.1 in /Users/louislecouturier/miniconda3/envs/kinected/lib/python3.11/site-packages (from pyobjc->keyboard->-r requirements.txt (line 9)) (10.1)\n",
      "Requirement already satisfied: pyobjc-framework-AppTrackingTransparency==10.1 in /Users/louislecouturier/miniconda3/envs/kinected/lib/python3.11/site-packages (from pyobjc->keyboard->-r requirements.txt (line 9)) (10.1)\n",
      "Requirement already satisfied: pyobjc-framework-CallKit==10.1 in /Users/louislecouturier/miniconda3/envs/kinected/lib/python3.11/site-packages (from pyobjc->keyboard->-r requirements.txt (line 9)) (10.1)\n",
      "Requirement already satisfied: pyobjc-framework-ClassKit==10.1 in /Users/louislecouturier/miniconda3/envs/kinected/lib/python3.11/site-packages (from pyobjc->keyboard->-r requirements.txt (line 9)) (10.1)\n",
      "Requirement already satisfied: pyobjc-framework-KernelManagement==10.1 in /Users/louislecouturier/miniconda3/envs/kinected/lib/python3.11/site-packages (from pyobjc->keyboard->-r requirements.txt (line 9)) (10.1)\n",
      "Requirement already satisfied: pyobjc-framework-MetalPerformanceShadersGraph==10.1 in /Users/louislecouturier/miniconda3/envs/kinected/lib/python3.11/site-packages (from pyobjc->keyboard->-r requirements.txt (line 9)) (10.1)\n",
      "Requirement already satisfied: pyobjc-framework-MLCompute==10.1 in /Users/louislecouturier/miniconda3/envs/kinected/lib/python3.11/site-packages (from pyobjc->keyboard->-r requirements.txt (line 9)) (10.1)\n",
      "Requirement already satisfied: pyobjc-framework-PassKit==10.1 in /Users/louislecouturier/miniconda3/envs/kinected/lib/python3.11/site-packages (from pyobjc->keyboard->-r requirements.txt (line 9)) (10.1)\n",
      "Requirement already satisfied: pyobjc-framework-ReplayKit==10.1 in /Users/louislecouturier/miniconda3/envs/kinected/lib/python3.11/site-packages (from pyobjc->keyboard->-r requirements.txt (line 9)) (10.1)\n",
      "Requirement already satisfied: pyobjc-framework-ScreenTime==10.1 in /Users/louislecouturier/miniconda3/envs/kinected/lib/python3.11/site-packages (from pyobjc->keyboard->-r requirements.txt (line 9)) (10.1)\n",
      "Requirement already satisfied: pyobjc-framework-UniformTypeIdentifiers==10.1 in /Users/louislecouturier/miniconda3/envs/kinected/lib/python3.11/site-packages (from pyobjc->keyboard->-r requirements.txt (line 9)) (10.1)\n",
      "Requirement already satisfied: pyobjc-framework-UserNotificationsUI==10.1 in /Users/louislecouturier/miniconda3/envs/kinected/lib/python3.11/site-packages (from pyobjc->keyboard->-r requirements.txt (line 9)) (10.1)\n",
      "Requirement already satisfied: pyobjc-framework-Virtualization==10.1 in /Users/louislecouturier/miniconda3/envs/kinected/lib/python3.11/site-packages (from pyobjc->keyboard->-r requirements.txt (line 9)) (10.1)\n",
      "Requirement already satisfied: pyobjc-framework-DataDetection==10.1 in /Users/louislecouturier/miniconda3/envs/kinected/lib/python3.11/site-packages (from pyobjc->keyboard->-r requirements.txt (line 9)) (10.1)\n",
      "Requirement already satisfied: pyobjc-framework-IntentsUI==10.1 in /Users/louislecouturier/miniconda3/envs/kinected/lib/python3.11/site-packages (from pyobjc->keyboard->-r requirements.txt (line 9)) (10.1)\n",
      "Requirement already satisfied: pyobjc-framework-LocalAuthenticationEmbeddedUI==10.1 in /Users/louislecouturier/miniconda3/envs/kinected/lib/python3.11/site-packages (from pyobjc->keyboard->-r requirements.txt (line 9)) (10.1)\n",
      "Requirement already satisfied: pyobjc-framework-MailKit==10.1 in /Users/louislecouturier/miniconda3/envs/kinected/lib/python3.11/site-packages (from pyobjc->keyboard->-r requirements.txt (line 9)) (10.1)\n",
      "Requirement already satisfied: pyobjc-framework-MetricKit==10.1 in /Users/louislecouturier/miniconda3/envs/kinected/lib/python3.11/site-packages (from pyobjc->keyboard->-r requirements.txt (line 9)) (10.1)\n",
      "Requirement already satisfied: pyobjc-framework-PHASE==10.1 in /Users/louislecouturier/miniconda3/envs/kinected/lib/python3.11/site-packages (from pyobjc->keyboard->-r requirements.txt (line 9)) (10.1)\n",
      "Requirement already satisfied: pyobjc-framework-ShazamKit==10.1 in /Users/louislecouturier/miniconda3/envs/kinected/lib/python3.11/site-packages (from pyobjc->keyboard->-r requirements.txt (line 9)) (10.1)\n",
      "Requirement already satisfied: pyobjc-framework-ScreenCaptureKit==10.1 in /Users/louislecouturier/miniconda3/envs/kinected/lib/python3.11/site-packages (from pyobjc->keyboard->-r requirements.txt (line 9)) (10.1)\n",
      "Requirement already satisfied: pyobjc-framework-AVRouting==10.1 in /Users/louislecouturier/miniconda3/envs/kinected/lib/python3.11/site-packages (from pyobjc->keyboard->-r requirements.txt (line 9)) (10.1)\n",
      "Requirement already satisfied: pyobjc-framework-BackgroundAssets==10.1 in /Users/louislecouturier/miniconda3/envs/kinected/lib/python3.11/site-packages (from pyobjc->keyboard->-r requirements.txt (line 9)) (10.1)\n",
      "Requirement already satisfied: pyobjc-framework-ExtensionKit==10.1 in /Users/louislecouturier/miniconda3/envs/kinected/lib/python3.11/site-packages (from pyobjc->keyboard->-r requirements.txt (line 9)) (10.1)\n",
      "Requirement already satisfied: pyobjc-framework-HealthKit==10.1 in /Users/louislecouturier/miniconda3/envs/kinected/lib/python3.11/site-packages (from pyobjc->keyboard->-r requirements.txt (line 9)) (10.1)\n",
      "Requirement already satisfied: pyobjc-framework-MetalFX==10.1 in /Users/louislecouturier/miniconda3/envs/kinected/lib/python3.11/site-packages (from pyobjc->keyboard->-r requirements.txt (line 9)) (10.1)\n",
      "Requirement already satisfied: pyobjc-framework-SafetyKit==10.1 in /Users/louislecouturier/miniconda3/envs/kinected/lib/python3.11/site-packages (from pyobjc->keyboard->-r requirements.txt (line 9)) (10.1)\n",
      "Requirement already satisfied: pyobjc-framework-SharedWithYouCore==10.1 in /Users/louislecouturier/miniconda3/envs/kinected/lib/python3.11/site-packages (from pyobjc->keyboard->-r requirements.txt (line 9)) (10.1)\n",
      "Requirement already satisfied: pyobjc-framework-SharedWithYou==10.1 in /Users/louislecouturier/miniconda3/envs/kinected/lib/python3.11/site-packages (from pyobjc->keyboard->-r requirements.txt (line 9)) (10.1)\n",
      "Requirement already satisfied: pyobjc-framework-ThreadNetwork==10.1 in /Users/louislecouturier/miniconda3/envs/kinected/lib/python3.11/site-packages (from pyobjc->keyboard->-r requirements.txt (line 9)) (10.1)\n",
      "Requirement already satisfied: pyobjc-framework-Cinematic==10.1 in /Users/louislecouturier/miniconda3/envs/kinected/lib/python3.11/site-packages (from pyobjc->keyboard->-r requirements.txt (line 9)) (10.1)\n",
      "Requirement already satisfied: pyobjc-framework-SensitiveContentAnalysis==10.1 in /Users/louislecouturier/miniconda3/envs/kinected/lib/python3.11/site-packages (from pyobjc->keyboard->-r requirements.txt (line 9)) (10.1)\n",
      "Requirement already satisfied: pyobjc-framework-Symbols==10.1 in /Users/louislecouturier/miniconda3/envs/kinected/lib/python3.11/site-packages (from pyobjc->keyboard->-r requirements.txt (line 9)) (10.1)\n",
      "Requirement already satisfied: pyobjc-framework-CalendarStore==10.1 in /Users/louislecouturier/miniconda3/envs/kinected/lib/python3.11/site-packages (from pyobjc->keyboard->-r requirements.txt (line 9)) (10.1)\n",
      "Requirement already satisfied: pyobjc-framework-Collaboration==10.1 in /Users/louislecouturier/miniconda3/envs/kinected/lib/python3.11/site-packages (from pyobjc->keyboard->-r requirements.txt (line 9)) (10.1)\n",
      "Requirement already satisfied: pyobjc-framework-DictionaryServices==10.1 in /Users/louislecouturier/miniconda3/envs/kinected/lib/python3.11/site-packages (from pyobjc->keyboard->-r requirements.txt (line 9)) (10.1)\n",
      "Requirement already satisfied: pyobjc-framework-FSEvents==10.1 in /Users/louislecouturier/miniconda3/envs/kinected/lib/python3.11/site-packages (from pyobjc->keyboard->-r requirements.txt (line 9)) (10.1)\n",
      "Requirement already satisfied: pyobjc-framework-InputMethodKit==10.1 in /Users/louislecouturier/miniconda3/envs/kinected/lib/python3.11/site-packages (from pyobjc->keyboard->-r requirements.txt (line 9)) (10.1)\n",
      "Requirement already satisfied: pyobjc-framework-InstantMessage==10.1 in /Users/louislecouturier/miniconda3/envs/kinected/lib/python3.11/site-packages (from pyobjc->keyboard->-r requirements.txt (line 9)) (10.1)\n",
      "Requirement already satisfied: pyobjc-framework-ScriptingBridge==10.1 in /Users/louislecouturier/miniconda3/envs/kinected/lib/python3.11/site-packages (from pyobjc->keyboard->-r requirements.txt (line 9)) (10.1)\n",
      "Requirement already satisfied: wheel<1.0,>=0.23.0 in /Users/louislecouturier/miniconda3/envs/kinected/lib/python3.11/site-packages (from astunparse>=1.6.0->tensorflow-macos==2.15.0->tensorflow->-r requirements.txt (line 7)) (0.42.0)\n",
      "Requirement already satisfied: pycparser in /Users/louislecouturier/miniconda3/envs/kinected/lib/python3.11/site-packages (from CFFI>=1.0->sounddevice>=0.4.4->mediapipe->-r requirements.txt (line 3)) (2.21)\n",
      "Requirement already satisfied: google-auth<3,>=1.6.3 in /Users/louislecouturier/miniconda3/envs/kinected/lib/python3.11/site-packages (from tensorboard<2.16,>=2.15->tensorflow-macos==2.15.0->tensorflow->-r requirements.txt (line 7)) (2.25.2)\n",
      "Requirement already satisfied: google-auth-oauthlib<2,>=0.5 in /Users/louislecouturier/miniconda3/envs/kinected/lib/python3.11/site-packages (from tensorboard<2.16,>=2.15->tensorflow-macos==2.15.0->tensorflow->-r requirements.txt (line 7)) (1.2.0)\n",
      "Requirement already satisfied: markdown>=2.6.8 in /Users/louislecouturier/miniconda3/envs/kinected/lib/python3.11/site-packages (from tensorboard<2.16,>=2.15->tensorflow-macos==2.15.0->tensorflow->-r requirements.txt (line 7)) (3.5.1)\n",
      "Requirement already satisfied: requests<3,>=2.21.0 in /Users/louislecouturier/miniconda3/envs/kinected/lib/python3.11/site-packages (from tensorboard<2.16,>=2.15->tensorflow-macos==2.15.0->tensorflow->-r requirements.txt (line 7)) (2.31.0)\n",
      "Requirement already satisfied: tensorboard-data-server<0.8.0,>=0.7.0 in /Users/louislecouturier/miniconda3/envs/kinected/lib/python3.11/site-packages (from tensorboard<2.16,>=2.15->tensorflow-macos==2.15.0->tensorflow->-r requirements.txt (line 7)) (0.7.2)\n",
      "Requirement already satisfied: werkzeug>=1.0.1 in /Users/louislecouturier/miniconda3/envs/kinected/lib/python3.11/site-packages (from tensorboard<2.16,>=2.15->tensorflow-macos==2.15.0->tensorflow->-r requirements.txt (line 7)) (3.0.1)\n",
      "Requirement already satisfied: cachetools<6.0,>=2.0.0 in /Users/louislecouturier/miniconda3/envs/kinected/lib/python3.11/site-packages (from google-auth<3,>=1.6.3->tensorboard<2.16,>=2.15->tensorflow-macos==2.15.0->tensorflow->-r requirements.txt (line 7)) (5.3.2)\n",
      "Requirement already satisfied: pyasn1-modules>=0.2.1 in /Users/louislecouturier/miniconda3/envs/kinected/lib/python3.11/site-packages (from google-auth<3,>=1.6.3->tensorboard<2.16,>=2.15->tensorflow-macos==2.15.0->tensorflow->-r requirements.txt (line 7)) (0.3.0)\n",
      "Requirement already satisfied: rsa<5,>=3.1.4 in /Users/louislecouturier/miniconda3/envs/kinected/lib/python3.11/site-packages (from google-auth<3,>=1.6.3->tensorboard<2.16,>=2.15->tensorflow-macos==2.15.0->tensorflow->-r requirements.txt (line 7)) (4.9)\n",
      "Requirement already satisfied: requests-oauthlib>=0.7.0 in /Users/louislecouturier/miniconda3/envs/kinected/lib/python3.11/site-packages (from google-auth-oauthlib<2,>=0.5->tensorboard<2.16,>=2.15->tensorflow-macos==2.15.0->tensorflow->-r requirements.txt (line 7)) (1.3.1)\n",
      "Requirement already satisfied: charset-normalizer<4,>=2 in /Users/louislecouturier/miniconda3/envs/kinected/lib/python3.11/site-packages (from requests<3,>=2.21.0->tensorboard<2.16,>=2.15->tensorflow-macos==2.15.0->tensorflow->-r requirements.txt (line 7)) (2.0.4)\n",
      "Requirement already satisfied: idna<4,>=2.5 in /Users/louislecouturier/miniconda3/envs/kinected/lib/python3.11/site-packages (from requests<3,>=2.21.0->tensorboard<2.16,>=2.15->tensorflow-macos==2.15.0->tensorflow->-r requirements.txt (line 7)) (3.4)\n",
      "Requirement already satisfied: urllib3<3,>=1.21.1 in /Users/louislecouturier/miniconda3/envs/kinected/lib/python3.11/site-packages (from requests<3,>=2.21.0->tensorboard<2.16,>=2.15->tensorflow-macos==2.15.0->tensorflow->-r requirements.txt (line 7)) (1.26.18)\n",
      "Requirement already satisfied: certifi>=2017.4.17 in /Users/louislecouturier/miniconda3/envs/kinected/lib/python3.11/site-packages (from requests<3,>=2.21.0->tensorboard<2.16,>=2.15->tensorflow-macos==2.15.0->tensorflow->-r requirements.txt (line 7)) (2023.11.17)\n",
      "Requirement already satisfied: MarkupSafe>=2.1.1 in /Users/louislecouturier/miniconda3/envs/kinected/lib/python3.11/site-packages (from werkzeug>=1.0.1->tensorboard<2.16,>=2.15->tensorflow-macos==2.15.0->tensorflow->-r requirements.txt (line 7)) (2.1.1)\n",
      "Requirement already satisfied: pyasn1<0.6.0,>=0.4.6 in /Users/louislecouturier/miniconda3/envs/kinected/lib/python3.11/site-packages (from pyasn1-modules>=0.2.1->google-auth<3,>=1.6.3->tensorboard<2.16,>=2.15->tensorflow-macos==2.15.0->tensorflow->-r requirements.txt (line 7)) (0.5.1)\n",
      "Requirement already satisfied: oauthlib>=3.0.0 in /Users/louislecouturier/miniconda3/envs/kinected/lib/python3.11/site-packages (from requests-oauthlib>=0.7.0->google-auth-oauthlib<2,>=0.5->tensorboard<2.16,>=2.15->tensorflow-macos==2.15.0->tensorflow->-r requirements.txt (line 7)) (3.2.2)\n",
      "Note: you may need to restart the kernel to use updated packages.\n"
     ]
    }
   ],
   "source": [
    "pip install -r requirements.txt"
   ]
  },
  {
   "cell_type": "code",
   "execution_count": 2,
   "metadata": {},
   "outputs": [],
   "source": [
    "import cv2\n",
    "import mediapipe as mp"
   ]
  },
  {
   "cell_type": "markdown",
   "metadata": {},
   "source": [
    "## 2. Create utils functions\n"
   ]
  },
  {
   "cell_type": "markdown",
   "metadata": {},
   "source": [
    "### OpenCV\n"
   ]
  },
  {
   "cell_type": "markdown",
   "metadata": {},
   "source": [
    "### MediaPipe\n"
   ]
  },
  {
   "cell_type": "code",
   "execution_count": 3,
   "metadata": {},
   "outputs": [],
   "source": [
    "MIN_DETECTION_CONFIDENCE = 0.4\n",
    "MIN_PRESENCE_CONFIDENCE = 0.4\n",
    "NUM_HANDS = 1\n",
    "MIN_TRACKING_CONFIDENCE = 0.3"
   ]
  },
  {
   "cell_type": "code",
   "execution_count": 4,
   "metadata": {},
   "outputs": [],
   "source": [
    "mp_holistic = mp.solutions.holistic\n",
    "mp_drawing = mp.solutions.drawing_utils"
   ]
  },
  {
   "cell_type": "markdown",
   "metadata": {},
   "source": [
    "### Model predictions\n"
   ]
  },
  {
   "cell_type": "code",
   "execution_count": 5,
   "metadata": {},
   "outputs": [],
   "source": [
    "labels = [\n",
    "    \"closed\",\n",
    "    \"dislike\",\n",
    "    \"like\",\n",
    "    \"palm\",\n",
    "    \"point_up\",\n",
    "    \"rock\",\n",
    "    \"victory\",\n",
    "    \"victory_inverted\",\n",
    "]"
   ]
  },
  {
   "cell_type": "markdown",
   "metadata": {},
   "source": [
    "## 3. Preprocess the data\n"
   ]
  },
  {
   "cell_type": "code",
   "execution_count": 6,
   "metadata": {},
   "outputs": [],
   "source": [
    "def frame_preprocessing(frame, resolution=None, flip=False):\n",
    "    if resolution is not None:\n",
    "        frame = cv2.resize(frame, resolution)\n",
    "\n",
    "    if flip:\n",
    "        frame = cv2.flip(frame, 1)\n",
    "\n",
    "    return frame"
   ]
  },
  {
   "cell_type": "markdown",
   "metadata": {},
   "source": [
    "## Execute program\n"
   ]
  },
  {
   "cell_type": "markdown",
   "metadata": {},
   "source": [
    "### Tweak settings\n"
   ]
  },
  {
   "cell_type": "markdown",
   "metadata": {},
   "source": [
    "#### Camera Settings\n"
   ]
  },
  {
   "cell_type": "code",
   "execution_count": 7,
   "metadata": {},
   "outputs": [],
   "source": [
    "FRAMERATE = None\n",
    "RESOLUTION = (833, 480)  # (1280, 720)  # None  # (833, 480)  # (1280, 720)\n",
    "FLIP_CAMERA = False"
   ]
  },
  {
   "cell_type": "markdown",
   "metadata": {},
   "source": [
    "#### Mediapipe hand bones\n"
   ]
  },
  {
   "cell_type": "code",
   "execution_count": 8,
   "metadata": {},
   "outputs": [],
   "source": [
    "BOX_MARGIN = 24\n",
    "\n",
    "MIN_DETECTION_CONFIDENCE = 0.4\n",
    "MIN_PRESENCE_CONFIDENCE = 0.4\n",
    "NUM_HANDS = 1\n",
    "MIN_TRACKING_CONFIDENCE = 0.3"
   ]
  },
  {
   "cell_type": "markdown",
   "metadata": {},
   "source": [
    "#### Model settings\n"
   ]
  },
  {
   "cell_type": "code",
   "execution_count": 9,
   "metadata": {},
   "outputs": [],
   "source": [
    "MODEL_NAME = \"4_feb_w_additional_datasets\"\n",
    "\n",
    "MODEL_PATH = f\"./models/{MODEL_NAME}/{MODEL_NAME}.hdf5\"\n",
    "MIN_GESTURE_CONFIDENCE = 0.7\n",
    "MP_MODEL_COMPLEXITY = 0"
   ]
  },
  {
   "cell_type": "code",
   "execution_count": 10,
   "metadata": {},
   "outputs": [
    {
     "name": "stderr",
     "output_type": "stream",
     "text": [
      "2024-02-04 18:40:54.357 python[73894:3041372] WARNING: AVCaptureDeviceTypeExternal is deprecated for Continuity Cameras. Please use AVCaptureDeviceTypeContinuityCamera and add NSCameraUseContinuityCameraDeviceType to your Info.plist.\n",
      "WARNING: All log messages before absl::InitializeLog() is called are written to STDERR\n",
      "I0000 00:00:1707068456.084033       1 gl_context.cc:344] GL version: 2.1 (2.1 Metal - 88), renderer: Apple M1 Pro\n",
      "INFO: Created TensorFlow Lite XNNPACK delegate for CPU.\n"
     ]
    }
   ],
   "source": [
    "from tensorflow.keras.models import load_model\n",
    "\n",
    "from helpers.predictions import get_gesture\n",
    "from helpers.mediapipe import get_landmarks, draw_landmarks, draw_box\n",
    "from helpers.camera import read_frame, show_frame, get_close_event, close_camera\n",
    "\n",
    "capture = cv2.VideoCapture(1)\n",
    "\n",
    "\n",
    "model = load_model(MODEL_PATH, compile=False)\n",
    "with mp_holistic.Holistic(\n",
    "    min_detection_confidence=MIN_DETECTION_CONFIDENCE,\n",
    "    min_tracking_confidence=MIN_TRACKING_CONFIDENCE,\n",
    "    model_complexity=MP_MODEL_COMPLEXITY,\n",
    ") as holistic:\n",
    "    while True:\n",
    "        frame = read_frame(capture, FRAMERATE)\n",
    "        frame = frame_preprocessing(frame, RESOLUTION, FLIP_CAMERA)\n",
    "\n",
    "        landmarks = get_landmarks(frame, holistic)\n",
    "\n",
    "        for i, hand_landmark in enumerate(landmarks):\n",
    "            hand = [1, 0] if i == 0 else [0, 1]\n",
    "\n",
    "            if hand_landmark:\n",
    "                frame = draw_landmarks(frame, hand_landmark, mp_holistic, mp_drawing)\n",
    "                gesture, accuracy = get_gesture(\n",
    "                    model, labels, MIN_GESTURE_CONFIDENCE, hand, hand_landmark\n",
    "                )\n",
    "\n",
    "                frame = draw_box(frame, gesture, accuracy, hand, hand_landmark)\n",
    "\n",
    "            show_frame(frame, \"hand gesture recognition\")\n",
    "\n",
    "        if get_close_event():\n",
    "            break\n",
    "\n",
    "close_camera(capture)"
   ]
  }
 ],
 "metadata": {
  "kernelspec": {
   "display_name": "kinected",
   "language": "python",
   "name": "python3"
  },
  "language_info": {
   "codemirror_mode": {
    "name": "ipython",
    "version": 3
   },
   "file_extension": ".py",
   "mimetype": "text/x-python",
   "name": "python",
   "nbconvert_exporter": "python",
   "pygments_lexer": "ipython3",
   "version": "3.11.5"
  }
 },
 "nbformat": 4,
 "nbformat_minor": 2
}
