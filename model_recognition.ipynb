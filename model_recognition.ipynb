{
 "cells": [
  {
   "cell_type": "markdown",
   "metadata": {},
   "source": [
    "# Hand gesture recognition\n",
    "\n",
    "---\n"
   ]
  },
  {
   "cell_type": "markdown",
   "metadata": {},
   "source": [
    "## 1. Import packages\n"
   ]
  },
  {
   "cell_type": "code",
   "execution_count": 1,
   "metadata": {
    "vscode": {
     "languageId": "shellscript"
    },
    "ExecuteTime": {
     "end_time": "2024-03-25T16:02:22.745463Z",
     "start_time": "2024-03-25T16:02:19.080159Z"
    }
   },
   "outputs": [
    {
     "name": "stdout",
     "output_type": "stream",
     "text": [
      "Requirement already satisfied: pandas in /Users/louislecouturier/miniconda3/envs/kinected/lib/python3.11/site-packages (from -r requirements.txt (line 1)) (2.1.4)\r\n",
      "Requirement already satisfied: opencv-python in /Users/louislecouturier/miniconda3/envs/kinected/lib/python3.11/site-packages (from -r requirements.txt (line 2)) (4.8.1.78)\r\n",
      "Requirement already satisfied: mediapipe in /Users/louislecouturier/miniconda3/envs/kinected/lib/python3.11/site-packages (from -r requirements.txt (line 3)) (0.10.9)\r\n",
      "Requirement already satisfied: scikit-learn in /Users/louislecouturier/miniconda3/envs/kinected/lib/python3.11/site-packages (from -r requirements.txt (line 4)) (1.3.2)\r\n",
      "Requirement already satisfied: matplotlib in /Users/louislecouturier/miniconda3/envs/kinected/lib/python3.11/site-packages (from -r requirements.txt (line 5)) (3.8.2)\r\n",
      "Requirement already satisfied: numpy in /Users/louislecouturier/miniconda3/envs/kinected/lib/python3.11/site-packages (from -r requirements.txt (line 6)) (1.26.2)\r\n",
      "Requirement already satisfied: websockets in /Users/louislecouturier/miniconda3/envs/kinected/lib/python3.11/site-packages (from -r requirements.txt (line 7)) (10.4)\r\n",
      "Requirement already satisfied: asyncio in /Users/louislecouturier/miniconda3/envs/kinected/lib/python3.11/site-packages (from -r requirements.txt (line 8)) (3.4.3)\r\n",
      "Requirement already satisfied: tensorflow in /Users/louislecouturier/miniconda3/envs/kinected/lib/python3.11/site-packages (from -r requirements.txt (line 9)) (2.16.1)\r\n",
      "Requirement already satisfied: joblib in /Users/louislecouturier/miniconda3/envs/kinected/lib/python3.11/site-packages (from -r requirements.txt (line 10)) (1.2.0)\r\n",
      "Requirement already satisfied: keyboard in /Users/louislecouturier/miniconda3/envs/kinected/lib/python3.11/site-packages (from -r requirements.txt (line 11)) (0.13.5)\r\n",
      "Requirement already satisfied: python-dateutil>=2.8.2 in /Users/louislecouturier/miniconda3/envs/kinected/lib/python3.11/site-packages (from pandas->-r requirements.txt (line 1)) (2.8.2)\r\n",
      "Requirement already satisfied: pytz>=2020.1 in /Users/louislecouturier/miniconda3/envs/kinected/lib/python3.11/site-packages (from pandas->-r requirements.txt (line 1)) (2023.3.post1)\r\n",
      "Requirement already satisfied: tzdata>=2022.1 in /Users/louislecouturier/miniconda3/envs/kinected/lib/python3.11/site-packages (from pandas->-r requirements.txt (line 1)) (2023.3)\r\n",
      "Requirement already satisfied: absl-py in /Users/louislecouturier/miniconda3/envs/kinected/lib/python3.11/site-packages (from mediapipe->-r requirements.txt (line 3)) (2.0.0)\r\n",
      "Requirement already satisfied: attrs>=19.1.0 in /Users/louislecouturier/miniconda3/envs/kinected/lib/python3.11/site-packages (from mediapipe->-r requirements.txt (line 3)) (23.1.0)\r\n",
      "Requirement already satisfied: flatbuffers>=2.0 in /Users/louislecouturier/miniconda3/envs/kinected/lib/python3.11/site-packages (from mediapipe->-r requirements.txt (line 3)) (23.5.26)\r\n",
      "Requirement already satisfied: opencv-contrib-python in /Users/louislecouturier/miniconda3/envs/kinected/lib/python3.11/site-packages (from mediapipe->-r requirements.txt (line 3)) (4.8.1.78)\r\n",
      "Requirement already satisfied: protobuf<4,>=3.11 in /Users/louislecouturier/miniconda3/envs/kinected/lib/python3.11/site-packages (from mediapipe->-r requirements.txt (line 3)) (3.20.3)\r\n",
      "Requirement already satisfied: sounddevice>=0.4.4 in /Users/louislecouturier/miniconda3/envs/kinected/lib/python3.11/site-packages (from mediapipe->-r requirements.txt (line 3)) (0.4.6)\r\n",
      "Requirement already satisfied: scipy>=1.5.0 in /Users/louislecouturier/miniconda3/envs/kinected/lib/python3.11/site-packages (from scikit-learn->-r requirements.txt (line 4)) (1.11.4)\r\n",
      "Requirement already satisfied: threadpoolctl>=2.0.0 in /Users/louislecouturier/miniconda3/envs/kinected/lib/python3.11/site-packages (from scikit-learn->-r requirements.txt (line 4)) (3.2.0)\r\n",
      "Requirement already satisfied: contourpy>=1.0.1 in /Users/louislecouturier/miniconda3/envs/kinected/lib/python3.11/site-packages (from matplotlib->-r requirements.txt (line 5)) (1.2.0)\r\n",
      "Requirement already satisfied: cycler>=0.10 in /Users/louislecouturier/miniconda3/envs/kinected/lib/python3.11/site-packages (from matplotlib->-r requirements.txt (line 5)) (0.12.1)\r\n",
      "Requirement already satisfied: fonttools>=4.22.0 in /Users/louislecouturier/miniconda3/envs/kinected/lib/python3.11/site-packages (from matplotlib->-r requirements.txt (line 5)) (4.46.0)\r\n",
      "Requirement already satisfied: kiwisolver>=1.3.1 in /Users/louislecouturier/miniconda3/envs/kinected/lib/python3.11/site-packages (from matplotlib->-r requirements.txt (line 5)) (1.4.5)\r\n",
      "Requirement already satisfied: packaging>=20.0 in /Users/louislecouturier/miniconda3/envs/kinected/lib/python3.11/site-packages (from matplotlib->-r requirements.txt (line 5)) (23.2)\r\n",
      "Requirement already satisfied: pillow>=8 in /Users/louislecouturier/miniconda3/envs/kinected/lib/python3.11/site-packages (from matplotlib->-r requirements.txt (line 5)) (10.0.1)\r\n",
      "Requirement already satisfied: pyparsing>=2.3.1 in /Users/louislecouturier/miniconda3/envs/kinected/lib/python3.11/site-packages (from matplotlib->-r requirements.txt (line 5)) (3.1.1)\r\n",
      "Requirement already satisfied: astunparse>=1.6.0 in /Users/louislecouturier/miniconda3/envs/kinected/lib/python3.11/site-packages (from tensorflow->-r requirements.txt (line 9)) (1.6.3)\r\n",
      "Requirement already satisfied: gast!=0.5.0,!=0.5.1,!=0.5.2,>=0.2.1 in /Users/louislecouturier/miniconda3/envs/kinected/lib/python3.11/site-packages (from tensorflow->-r requirements.txt (line 9)) (0.5.4)\r\n",
      "Requirement already satisfied: google-pasta>=0.1.1 in /Users/louislecouturier/miniconda3/envs/kinected/lib/python3.11/site-packages (from tensorflow->-r requirements.txt (line 9)) (0.2.0)\r\n",
      "Requirement already satisfied: h5py>=3.10.0 in /Users/louislecouturier/miniconda3/envs/kinected/lib/python3.11/site-packages (from tensorflow->-r requirements.txt (line 9)) (3.10.0)\r\n",
      "Requirement already satisfied: libclang>=13.0.0 in /Users/louislecouturier/miniconda3/envs/kinected/lib/python3.11/site-packages (from tensorflow->-r requirements.txt (line 9)) (16.0.6)\r\n",
      "Requirement already satisfied: ml-dtypes~=0.3.1 in /Users/louislecouturier/miniconda3/envs/kinected/lib/python3.11/site-packages (from tensorflow->-r requirements.txt (line 9)) (0.3.2)\r\n",
      "Requirement already satisfied: opt-einsum>=2.3.2 in /Users/louislecouturier/miniconda3/envs/kinected/lib/python3.11/site-packages (from tensorflow->-r requirements.txt (line 9)) (3.3.0)\r\n",
      "Requirement already satisfied: requests<3,>=2.21.0 in /Users/louislecouturier/miniconda3/envs/kinected/lib/python3.11/site-packages (from tensorflow->-r requirements.txt (line 9)) (2.31.0)\r\n",
      "Requirement already satisfied: setuptools in /Users/louislecouturier/miniconda3/envs/kinected/lib/python3.11/site-packages (from tensorflow->-r requirements.txt (line 9)) (68.2.2)\r\n",
      "Requirement already satisfied: six>=1.12.0 in /Users/louislecouturier/miniconda3/envs/kinected/lib/python3.11/site-packages (from tensorflow->-r requirements.txt (line 9)) (1.16.0)\r\n",
      "Requirement already satisfied: termcolor>=1.1.0 in /Users/louislecouturier/miniconda3/envs/kinected/lib/python3.11/site-packages (from tensorflow->-r requirements.txt (line 9)) (2.4.0)\r\n",
      "Requirement already satisfied: typing-extensions>=3.6.6 in /Users/louislecouturier/miniconda3/envs/kinected/lib/python3.11/site-packages (from tensorflow->-r requirements.txt (line 9)) (4.9.0)\r\n",
      "Requirement already satisfied: wrapt>=1.11.0 in /Users/louislecouturier/miniconda3/envs/kinected/lib/python3.11/site-packages (from tensorflow->-r requirements.txt (line 9)) (1.14.1)\r\n",
      "Requirement already satisfied: grpcio<2.0,>=1.24.3 in /Users/louislecouturier/miniconda3/envs/kinected/lib/python3.11/site-packages (from tensorflow->-r requirements.txt (line 9)) (1.60.0)\r\n",
      "Requirement already satisfied: tensorboard<2.17,>=2.16 in /Users/louislecouturier/miniconda3/envs/kinected/lib/python3.11/site-packages (from tensorflow->-r requirements.txt (line 9)) (2.16.2)\r\n",
      "Requirement already satisfied: keras>=3.0.0 in /Users/louislecouturier/miniconda3/envs/kinected/lib/python3.11/site-packages (from tensorflow->-r requirements.txt (line 9)) (3.0.5)\r\n",
      "Requirement already satisfied: tensorflow-io-gcs-filesystem>=0.23.1 in /Users/louislecouturier/miniconda3/envs/kinected/lib/python3.11/site-packages (from tensorflow->-r requirements.txt (line 9)) (0.34.0)\r\n",
      "Requirement already satisfied: pyobjc in /Users/louislecouturier/miniconda3/envs/kinected/lib/python3.11/site-packages (from keyboard->-r requirements.txt (line 11)) (10.1)\r\n",
      "Requirement already satisfied: wheel<1.0,>=0.23.0 in /Users/louislecouturier/miniconda3/envs/kinected/lib/python3.11/site-packages (from astunparse>=1.6.0->tensorflow->-r requirements.txt (line 9)) (0.42.0)\r\n",
      "Requirement already satisfied: rich in /Users/louislecouturier/miniconda3/envs/kinected/lib/python3.11/site-packages (from keras>=3.0.0->tensorflow->-r requirements.txt (line 9)) (13.7.1)\r\n",
      "Requirement already satisfied: namex in /Users/louislecouturier/miniconda3/envs/kinected/lib/python3.11/site-packages (from keras>=3.0.0->tensorflow->-r requirements.txt (line 9)) (0.0.7)\r\n",
      "Requirement already satisfied: dm-tree in /Users/louislecouturier/miniconda3/envs/kinected/lib/python3.11/site-packages (from keras>=3.0.0->tensorflow->-r requirements.txt (line 9)) (0.1.8)\r\n",
      "Requirement already satisfied: charset-normalizer<4,>=2 in /Users/louislecouturier/miniconda3/envs/kinected/lib/python3.11/site-packages (from requests<3,>=2.21.0->tensorflow->-r requirements.txt (line 9)) (2.0.4)\r\n",
      "Requirement already satisfied: idna<4,>=2.5 in /Users/louislecouturier/miniconda3/envs/kinected/lib/python3.11/site-packages (from requests<3,>=2.21.0->tensorflow->-r requirements.txt (line 9)) (3.4)\r\n",
      "Requirement already satisfied: urllib3<3,>=1.21.1 in /Users/louislecouturier/miniconda3/envs/kinected/lib/python3.11/site-packages (from requests<3,>=2.21.0->tensorflow->-r requirements.txt (line 9)) (1.26.18)\r\n",
      "Requirement already satisfied: certifi>=2017.4.17 in /Users/louislecouturier/miniconda3/envs/kinected/lib/python3.11/site-packages (from requests<3,>=2.21.0->tensorflow->-r requirements.txt (line 9)) (2024.2.2)\r\n",
      "Requirement already satisfied: CFFI>=1.0 in /Users/louislecouturier/miniconda3/envs/kinected/lib/python3.11/site-packages (from sounddevice>=0.4.4->mediapipe->-r requirements.txt (line 3)) (1.16.0)\r\n",
      "Requirement already satisfied: markdown>=2.6.8 in /Users/louislecouturier/miniconda3/envs/kinected/lib/python3.11/site-packages (from tensorboard<2.17,>=2.16->tensorflow->-r requirements.txt (line 9)) (3.5.1)\r\n",
      "Requirement already satisfied: tensorboard-data-server<0.8.0,>=0.7.0 in /Users/louislecouturier/miniconda3/envs/kinected/lib/python3.11/site-packages (from tensorboard<2.17,>=2.16->tensorflow->-r requirements.txt (line 9)) (0.7.2)\r\n",
      "Requirement already satisfied: werkzeug>=1.0.1 in /Users/louislecouturier/miniconda3/envs/kinected/lib/python3.11/site-packages (from tensorboard<2.17,>=2.16->tensorflow->-r requirements.txt (line 9)) (3.0.1)\r\n",
      "Requirement already satisfied: pyobjc-core==10.1 in /Users/louislecouturier/miniconda3/envs/kinected/lib/python3.11/site-packages (from pyobjc->keyboard->-r requirements.txt (line 11)) (10.1)\r\n",
      "Requirement already satisfied: pyobjc-framework-AddressBook==10.1 in /Users/louislecouturier/miniconda3/envs/kinected/lib/python3.11/site-packages (from pyobjc->keyboard->-r requirements.txt (line 11)) (10.1)\r\n",
      "Requirement already satisfied: pyobjc-framework-AppleScriptKit==10.1 in /Users/louislecouturier/miniconda3/envs/kinected/lib/python3.11/site-packages (from pyobjc->keyboard->-r requirements.txt (line 11)) (10.1)\r\n",
      "Requirement already satisfied: pyobjc-framework-ApplicationServices==10.1 in /Users/louislecouturier/miniconda3/envs/kinected/lib/python3.11/site-packages (from pyobjc->keyboard->-r requirements.txt (line 11)) (10.1)\r\n",
      "Requirement already satisfied: pyobjc-framework-Automator==10.1 in /Users/louislecouturier/miniconda3/envs/kinected/lib/python3.11/site-packages (from pyobjc->keyboard->-r requirements.txt (line 11)) (10.1)\r\n",
      "Requirement already satisfied: pyobjc-framework-CFNetwork==10.1 in /Users/louislecouturier/miniconda3/envs/kinected/lib/python3.11/site-packages (from pyobjc->keyboard->-r requirements.txt (line 11)) (10.1)\r\n",
      "Requirement already satisfied: pyobjc-framework-Cocoa==10.1 in /Users/louislecouturier/miniconda3/envs/kinected/lib/python3.11/site-packages (from pyobjc->keyboard->-r requirements.txt (line 11)) (10.1)\r\n",
      "Requirement already satisfied: pyobjc-framework-CoreAudio==10.1 in /Users/louislecouturier/miniconda3/envs/kinected/lib/python3.11/site-packages (from pyobjc->keyboard->-r requirements.txt (line 11)) (10.1)\r\n",
      "Requirement already satisfied: pyobjc-framework-CoreAudioKit==10.1 in /Users/louislecouturier/miniconda3/envs/kinected/lib/python3.11/site-packages (from pyobjc->keyboard->-r requirements.txt (line 11)) (10.1)\r\n",
      "Requirement already satisfied: pyobjc-framework-CoreData==10.1 in /Users/louislecouturier/miniconda3/envs/kinected/lib/python3.11/site-packages (from pyobjc->keyboard->-r requirements.txt (line 11)) (10.1)\r\n",
      "Requirement already satisfied: pyobjc-framework-CoreMIDI==10.1 in /Users/louislecouturier/miniconda3/envs/kinected/lib/python3.11/site-packages (from pyobjc->keyboard->-r requirements.txt (line 11)) (10.1)\r\n",
      "Requirement already satisfied: pyobjc-framework-CoreServices==10.1 in /Users/louislecouturier/miniconda3/envs/kinected/lib/python3.11/site-packages (from pyobjc->keyboard->-r requirements.txt (line 11)) (10.1)\r\n",
      "Requirement already satisfied: pyobjc-framework-CoreText==10.1 in /Users/louislecouturier/miniconda3/envs/kinected/lib/python3.11/site-packages (from pyobjc->keyboard->-r requirements.txt (line 11)) (10.1)\r\n",
      "Requirement already satisfied: pyobjc-framework-DiscRecording==10.1 in /Users/louislecouturier/miniconda3/envs/kinected/lib/python3.11/site-packages (from pyobjc->keyboard->-r requirements.txt (line 11)) (10.1)\r\n",
      "Requirement already satisfied: pyobjc-framework-DiscRecordingUI==10.1 in /Users/louislecouturier/miniconda3/envs/kinected/lib/python3.11/site-packages (from pyobjc->keyboard->-r requirements.txt (line 11)) (10.1)\r\n",
      "Requirement already satisfied: pyobjc-framework-DiskArbitration==10.1 in /Users/louislecouturier/miniconda3/envs/kinected/lib/python3.11/site-packages (from pyobjc->keyboard->-r requirements.txt (line 11)) (10.1)\r\n",
      "Requirement already satisfied: pyobjc-framework-DVDPlayback==10.1 in /Users/louislecouturier/miniconda3/envs/kinected/lib/python3.11/site-packages (from pyobjc->keyboard->-r requirements.txt (line 11)) (10.1)\r\n",
      "Requirement already satisfied: pyobjc-framework-ExceptionHandling==10.1 in /Users/louislecouturier/miniconda3/envs/kinected/lib/python3.11/site-packages (from pyobjc->keyboard->-r requirements.txt (line 11)) (10.1)\r\n",
      "Requirement already satisfied: pyobjc-framework-InstallerPlugins==10.1 in /Users/louislecouturier/miniconda3/envs/kinected/lib/python3.11/site-packages (from pyobjc->keyboard->-r requirements.txt (line 11)) (10.1)\r\n",
      "Requirement already satisfied: pyobjc-framework-IOBluetooth==10.1 in /Users/louislecouturier/miniconda3/envs/kinected/lib/python3.11/site-packages (from pyobjc->keyboard->-r requirements.txt (line 11)) (10.1)\r\n",
      "Requirement already satisfied: pyobjc-framework-IOBluetoothUI==10.1 in /Users/louislecouturier/miniconda3/envs/kinected/lib/python3.11/site-packages (from pyobjc->keyboard->-r requirements.txt (line 11)) (10.1)\r\n",
      "Requirement already satisfied: pyobjc-framework-LatentSemanticMapping==10.1 in /Users/louislecouturier/miniconda3/envs/kinected/lib/python3.11/site-packages (from pyobjc->keyboard->-r requirements.txt (line 11)) (10.1)\r\n",
      "Requirement already satisfied: pyobjc-framework-LaunchServices==10.1 in /Users/louislecouturier/miniconda3/envs/kinected/lib/python3.11/site-packages (from pyobjc->keyboard->-r requirements.txt (line 11)) (10.1)\r\n",
      "Requirement already satisfied: pyobjc-framework-OSAKit==10.1 in /Users/louislecouturier/miniconda3/envs/kinected/lib/python3.11/site-packages (from pyobjc->keyboard->-r requirements.txt (line 11)) (10.1)\r\n",
      "Requirement already satisfied: pyobjc-framework-PreferencePanes==10.1 in /Users/louislecouturier/miniconda3/envs/kinected/lib/python3.11/site-packages (from pyobjc->keyboard->-r requirements.txt (line 11)) (10.1)\r\n",
      "Requirement already satisfied: pyobjc-framework-Quartz==10.1 in /Users/louislecouturier/miniconda3/envs/kinected/lib/python3.11/site-packages (from pyobjc->keyboard->-r requirements.txt (line 11)) (10.1)\r\n",
      "Requirement already satisfied: pyobjc-framework-ScreenSaver==10.1 in /Users/louislecouturier/miniconda3/envs/kinected/lib/python3.11/site-packages (from pyobjc->keyboard->-r requirements.txt (line 11)) (10.1)\r\n",
      "Requirement already satisfied: pyobjc-framework-Security==10.1 in /Users/louislecouturier/miniconda3/envs/kinected/lib/python3.11/site-packages (from pyobjc->keyboard->-r requirements.txt (line 11)) (10.1)\r\n",
      "Requirement already satisfied: pyobjc-framework-SecurityFoundation==10.1 in /Users/louislecouturier/miniconda3/envs/kinected/lib/python3.11/site-packages (from pyobjc->keyboard->-r requirements.txt (line 11)) (10.1)\r\n",
      "Requirement already satisfied: pyobjc-framework-SecurityInterface==10.1 in /Users/louislecouturier/miniconda3/envs/kinected/lib/python3.11/site-packages (from pyobjc->keyboard->-r requirements.txt (line 11)) (10.1)\r\n",
      "Requirement already satisfied: pyobjc-framework-SearchKit==10.1 in /Users/louislecouturier/miniconda3/envs/kinected/lib/python3.11/site-packages (from pyobjc->keyboard->-r requirements.txt (line 11)) (10.1)\r\n",
      "Requirement already satisfied: pyobjc-framework-SyncServices==10.1 in /Users/louislecouturier/miniconda3/envs/kinected/lib/python3.11/site-packages (from pyobjc->keyboard->-r requirements.txt (line 11)) (10.1)\r\n",
      "Requirement already satisfied: pyobjc-framework-SystemConfiguration==10.1 in /Users/louislecouturier/miniconda3/envs/kinected/lib/python3.11/site-packages (from pyobjc->keyboard->-r requirements.txt (line 11)) (10.1)\r\n",
      "Requirement already satisfied: pyobjc-framework-WebKit==10.1 in /Users/louislecouturier/miniconda3/envs/kinected/lib/python3.11/site-packages (from pyobjc->keyboard->-r requirements.txt (line 11)) (10.1)\r\n",
      "Requirement already satisfied: pyobjc-framework-AppleScriptObjC==10.1 in /Users/louislecouturier/miniconda3/envs/kinected/lib/python3.11/site-packages (from pyobjc->keyboard->-r requirements.txt (line 11)) (10.1)\r\n",
      "Requirement already satisfied: pyobjc-framework-CoreLocation==10.1 in /Users/louislecouturier/miniconda3/envs/kinected/lib/python3.11/site-packages (from pyobjc->keyboard->-r requirements.txt (line 11)) (10.1)\r\n",
      "Requirement already satisfied: pyobjc-framework-CoreWLAN==10.1 in /Users/louislecouturier/miniconda3/envs/kinected/lib/python3.11/site-packages (from pyobjc->keyboard->-r requirements.txt (line 11)) (10.1)\r\n",
      "Requirement already satisfied: pyobjc-framework-ImageCaptureCore==10.1 in /Users/louislecouturier/miniconda3/envs/kinected/lib/python3.11/site-packages (from pyobjc->keyboard->-r requirements.txt (line 11)) (10.1)\r\n",
      "Requirement already satisfied: pyobjc-framework-IOSurface==10.1 in /Users/louislecouturier/miniconda3/envs/kinected/lib/python3.11/site-packages (from pyobjc->keyboard->-r requirements.txt (line 11)) (10.1)\r\n",
      "Requirement already satisfied: pyobjc-framework-NetFS==10.1 in /Users/louislecouturier/miniconda3/envs/kinected/lib/python3.11/site-packages (from pyobjc->keyboard->-r requirements.txt (line 11)) (10.1)\r\n",
      "Requirement already satisfied: pyobjc-framework-OpenDirectory==10.1 in /Users/louislecouturier/miniconda3/envs/kinected/lib/python3.11/site-packages (from pyobjc->keyboard->-r requirements.txt (line 11)) (10.1)\r\n",
      "Requirement already satisfied: pyobjc-framework-ServiceManagement==10.1 in /Users/louislecouturier/miniconda3/envs/kinected/lib/python3.11/site-packages (from pyobjc->keyboard->-r requirements.txt (line 11)) (10.1)\r\n",
      "Requirement already satisfied: pyobjc-framework-iTunesLibrary==10.1 in /Users/louislecouturier/miniconda3/envs/kinected/lib/python3.11/site-packages (from pyobjc->keyboard->-r requirements.txt (line 11)) (10.1)\r\n",
      "Requirement already satisfied: pyobjc-framework-AVFoundation==10.1 in /Users/louislecouturier/miniconda3/envs/kinected/lib/python3.11/site-packages (from pyobjc->keyboard->-r requirements.txt (line 11)) (10.1)\r\n",
      "Requirement already satisfied: pyobjc-framework-CoreMedia==10.1 in /Users/louislecouturier/miniconda3/envs/kinected/lib/python3.11/site-packages (from pyobjc->keyboard->-r requirements.txt (line 11)) (10.1)\r\n",
      "Requirement already satisfied: pyobjc-framework-CoreMediaIO==10.1 in /Users/louislecouturier/miniconda3/envs/kinected/lib/python3.11/site-packages (from pyobjc->keyboard->-r requirements.txt (line 11)) (10.1)\r\n",
      "Requirement already satisfied: pyobjc-framework-StoreKit==10.1 in /Users/louislecouturier/miniconda3/envs/kinected/lib/python3.11/site-packages (from pyobjc->keyboard->-r requirements.txt (line 11)) (10.1)\r\n",
      "Requirement already satisfied: pyobjc-framework-SceneKit==10.1 in /Users/louislecouturier/miniconda3/envs/kinected/lib/python3.11/site-packages (from pyobjc->keyboard->-r requirements.txt (line 11)) (10.1)\r\n",
      "Requirement already satisfied: pyobjc-framework-libdispatch==10.1 in /Users/louislecouturier/miniconda3/envs/kinected/lib/python3.11/site-packages (from pyobjc->keyboard->-r requirements.txt (line 11)) (10.1)\r\n",
      "Requirement already satisfied: pyobjc-framework-libxpc==10.1 in /Users/louislecouturier/miniconda3/envs/kinected/lib/python3.11/site-packages (from pyobjc->keyboard->-r requirements.txt (line 11)) (10.1)\r\n",
      "Requirement already satisfied: pyobjc-framework-AudioVideoBridging==10.1 in /Users/louislecouturier/miniconda3/envs/kinected/lib/python3.11/site-packages (from pyobjc->keyboard->-r requirements.txt (line 11)) (10.1)\r\n",
      "Requirement already satisfied: pyobjc-framework-Accounts==10.1 in /Users/louislecouturier/miniconda3/envs/kinected/lib/python3.11/site-packages (from pyobjc->keyboard->-r requirements.txt (line 11)) (10.1)\r\n",
      "Requirement already satisfied: pyobjc-framework-EventKit==10.1 in /Users/louislecouturier/miniconda3/envs/kinected/lib/python3.11/site-packages (from pyobjc->keyboard->-r requirements.txt (line 11)) (10.1)\r\n",
      "Requirement already satisfied: pyobjc-framework-GameCenter==10.1 in /Users/louislecouturier/miniconda3/envs/kinected/lib/python3.11/site-packages (from pyobjc->keyboard->-r requirements.txt (line 11)) (10.1)\r\n",
      "Requirement already satisfied: pyobjc-framework-Social==10.1 in /Users/louislecouturier/miniconda3/envs/kinected/lib/python3.11/site-packages (from pyobjc->keyboard->-r requirements.txt (line 11)) (10.1)\r\n",
      "Requirement already satisfied: pyobjc-framework-GameKit==10.1 in /Users/louislecouturier/miniconda3/envs/kinected/lib/python3.11/site-packages (from pyobjc->keyboard->-r requirements.txt (line 11)) (10.1)\r\n",
      "Requirement already satisfied: pyobjc-framework-VideoToolbox==10.1 in /Users/louislecouturier/miniconda3/envs/kinected/lib/python3.11/site-packages (from pyobjc->keyboard->-r requirements.txt (line 11)) (10.1)\r\n",
      "Requirement already satisfied: pyobjc-framework-AVKit==10.1 in /Users/louislecouturier/miniconda3/envs/kinected/lib/python3.11/site-packages (from pyobjc->keyboard->-r requirements.txt (line 11)) (10.1)\r\n",
      "Requirement already satisfied: pyobjc-framework-GameController==10.1 in /Users/louislecouturier/miniconda3/envs/kinected/lib/python3.11/site-packages (from pyobjc->keyboard->-r requirements.txt (line 11)) (10.1)\r\n",
      "Requirement already satisfied: pyobjc-framework-MapKit==10.1 in /Users/louislecouturier/miniconda3/envs/kinected/lib/python3.11/site-packages (from pyobjc->keyboard->-r requirements.txt (line 11)) (10.1)\r\n",
      "Requirement already satisfied: pyobjc-framework-MediaAccessibility==10.1 in /Users/louislecouturier/miniconda3/envs/kinected/lib/python3.11/site-packages (from pyobjc->keyboard->-r requirements.txt (line 11)) (10.1)\r\n",
      "Requirement already satisfied: pyobjc-framework-MediaLibrary==10.1 in /Users/louislecouturier/miniconda3/envs/kinected/lib/python3.11/site-packages (from pyobjc->keyboard->-r requirements.txt (line 11)) (10.1)\r\n",
      "Requirement already satisfied: pyobjc-framework-MediaToolbox==10.1 in /Users/louislecouturier/miniconda3/envs/kinected/lib/python3.11/site-packages (from pyobjc->keyboard->-r requirements.txt (line 11)) (10.1)\r\n",
      "Requirement already satisfied: pyobjc-framework-SpriteKit==10.1 in /Users/louislecouturier/miniconda3/envs/kinected/lib/python3.11/site-packages (from pyobjc->keyboard->-r requirements.txt (line 11)) (10.1)\r\n",
      "Requirement already satisfied: pyobjc-framework-CloudKit==10.1 in /Users/louislecouturier/miniconda3/envs/kinected/lib/python3.11/site-packages (from pyobjc->keyboard->-r requirements.txt (line 11)) (10.1)\r\n",
      "Requirement already satisfied: pyobjc-framework-CoreBluetooth==10.1 in /Users/louislecouturier/miniconda3/envs/kinected/lib/python3.11/site-packages (from pyobjc->keyboard->-r requirements.txt (line 11)) (10.1)\r\n",
      "Requirement already satisfied: pyobjc-framework-CryptoTokenKit==10.1 in /Users/louislecouturier/miniconda3/envs/kinected/lib/python3.11/site-packages (from pyobjc->keyboard->-r requirements.txt (line 11)) (10.1)\r\n",
      "Requirement already satisfied: pyobjc-framework-FinderSync==10.1 in /Users/louislecouturier/miniconda3/envs/kinected/lib/python3.11/site-packages (from pyobjc->keyboard->-r requirements.txt (line 11)) (10.1)\r\n",
      "Requirement already satisfied: pyobjc-framework-LocalAuthentication==10.1 in /Users/louislecouturier/miniconda3/envs/kinected/lib/python3.11/site-packages (from pyobjc->keyboard->-r requirements.txt (line 11)) (10.1)\r\n",
      "Requirement already satisfied: pyobjc-framework-MultipeerConnectivity==10.1 in /Users/louislecouturier/miniconda3/envs/kinected/lib/python3.11/site-packages (from pyobjc->keyboard->-r requirements.txt (line 11)) (10.1)\r\n",
      "Requirement already satisfied: pyobjc-framework-NotificationCenter==10.1 in /Users/louislecouturier/miniconda3/envs/kinected/lib/python3.11/site-packages (from pyobjc->keyboard->-r requirements.txt (line 11)) (10.1)\r\n",
      "Requirement already satisfied: pyobjc-framework-Contacts==10.1 in /Users/louislecouturier/miniconda3/envs/kinected/lib/python3.11/site-packages (from pyobjc->keyboard->-r requirements.txt (line 11)) (10.1)\r\n",
      "Requirement already satisfied: pyobjc-framework-ContactsUI==10.1 in /Users/louislecouturier/miniconda3/envs/kinected/lib/python3.11/site-packages (from pyobjc->keyboard->-r requirements.txt (line 11)) (10.1)\r\n",
      "Requirement already satisfied: pyobjc-framework-Metal==10.1 in /Users/louislecouturier/miniconda3/envs/kinected/lib/python3.11/site-packages (from pyobjc->keyboard->-r requirements.txt (line 11)) (10.1)\r\n",
      "Requirement already satisfied: pyobjc-framework-MetalKit==10.1 in /Users/louislecouturier/miniconda3/envs/kinected/lib/python3.11/site-packages (from pyobjc->keyboard->-r requirements.txt (line 11)) (10.1)\r\n",
      "Requirement already satisfied: pyobjc-framework-ModelIO==10.1 in /Users/louislecouturier/miniconda3/envs/kinected/lib/python3.11/site-packages (from pyobjc->keyboard->-r requirements.txt (line 11)) (10.1)\r\n",
      "Requirement already satisfied: pyobjc-framework-NetworkExtension==10.1 in /Users/louislecouturier/miniconda3/envs/kinected/lib/python3.11/site-packages (from pyobjc->keyboard->-r requirements.txt (line 11)) (10.1)\r\n",
      "Requirement already satisfied: pyobjc-framework-Photos==10.1 in /Users/louislecouturier/miniconda3/envs/kinected/lib/python3.11/site-packages (from pyobjc->keyboard->-r requirements.txt (line 11)) (10.1)\r\n",
      "Requirement already satisfied: pyobjc-framework-PhotosUI==10.1 in /Users/louislecouturier/miniconda3/envs/kinected/lib/python3.11/site-packages (from pyobjc->keyboard->-r requirements.txt (line 11)) (10.1)\r\n",
      "Requirement already satisfied: pyobjc-framework-GameplayKit==10.1 in /Users/louislecouturier/miniconda3/envs/kinected/lib/python3.11/site-packages (from pyobjc->keyboard->-r requirements.txt (line 11)) (10.1)\r\n",
      "Requirement already satisfied: pyobjc-framework-Intents==10.1 in /Users/louislecouturier/miniconda3/envs/kinected/lib/python3.11/site-packages (from pyobjc->keyboard->-r requirements.txt (line 11)) (10.1)\r\n",
      "Requirement already satisfied: pyobjc-framework-MediaPlayer==10.1 in /Users/louislecouturier/miniconda3/envs/kinected/lib/python3.11/site-packages (from pyobjc->keyboard->-r requirements.txt (line 11)) (10.1)\r\n",
      "Requirement already satisfied: pyobjc-framework-SafariServices==10.1 in /Users/louislecouturier/miniconda3/envs/kinected/lib/python3.11/site-packages (from pyobjc->keyboard->-r requirements.txt (line 11)) (10.1)\r\n",
      "Requirement already satisfied: pyobjc-framework-ColorSync==10.1 in /Users/louislecouturier/miniconda3/envs/kinected/lib/python3.11/site-packages (from pyobjc->keyboard->-r requirements.txt (line 11)) (10.1)\r\n",
      "Requirement already satisfied: pyobjc-framework-CoreML==10.1 in /Users/louislecouturier/miniconda3/envs/kinected/lib/python3.11/site-packages (from pyobjc->keyboard->-r requirements.txt (line 11)) (10.1)\r\n",
      "Requirement already satisfied: pyobjc-framework-CoreSpotlight==10.1 in /Users/louislecouturier/miniconda3/envs/kinected/lib/python3.11/site-packages (from pyobjc->keyboard->-r requirements.txt (line 11)) (10.1)\r\n",
      "Requirement already satisfied: pyobjc-framework-ExternalAccessory==10.1 in /Users/louislecouturier/miniconda3/envs/kinected/lib/python3.11/site-packages (from pyobjc->keyboard->-r requirements.txt (line 11)) (10.1)\r\n",
      "Requirement already satisfied: pyobjc-framework-MetalPerformanceShaders==10.1 in /Users/louislecouturier/miniconda3/envs/kinected/lib/python3.11/site-packages (from pyobjc->keyboard->-r requirements.txt (line 11)) (10.1)\r\n",
      "Requirement already satisfied: pyobjc-framework-Vision==10.1 in /Users/louislecouturier/miniconda3/envs/kinected/lib/python3.11/site-packages (from pyobjc->keyboard->-r requirements.txt (line 11)) (10.1)\r\n",
      "Requirement already satisfied: pyobjc-framework-AdSupport==10.1 in /Users/louislecouturier/miniconda3/envs/kinected/lib/python3.11/site-packages (from pyobjc->keyboard->-r requirements.txt (line 11)) (10.1)\r\n",
      "Requirement already satisfied: pyobjc-framework-BusinessChat==10.1 in /Users/louislecouturier/miniconda3/envs/kinected/lib/python3.11/site-packages (from pyobjc->keyboard->-r requirements.txt (line 11)) (10.1)\r\n",
      "Requirement already satisfied: pyobjc-framework-NaturalLanguage==10.1 in /Users/louislecouturier/miniconda3/envs/kinected/lib/python3.11/site-packages (from pyobjc->keyboard->-r requirements.txt (line 11)) (10.1)\r\n",
      "Requirement already satisfied: pyobjc-framework-Network==10.1 in /Users/louislecouturier/miniconda3/envs/kinected/lib/python3.11/site-packages (from pyobjc->keyboard->-r requirements.txt (line 11)) (10.1)\r\n",
      "Requirement already satisfied: pyobjc-framework-UserNotifications==10.1 in /Users/louislecouturier/miniconda3/envs/kinected/lib/python3.11/site-packages (from pyobjc->keyboard->-r requirements.txt (line 11)) (10.1)\r\n",
      "Requirement already satisfied: pyobjc-framework-VideoSubscriberAccount==10.1 in /Users/louislecouturier/miniconda3/envs/kinected/lib/python3.11/site-packages (from pyobjc->keyboard->-r requirements.txt (line 11)) (10.1)\r\n",
      "Requirement already satisfied: pyobjc-framework-AuthenticationServices==10.1 in /Users/louislecouturier/miniconda3/envs/kinected/lib/python3.11/site-packages (from pyobjc->keyboard->-r requirements.txt (line 11)) (10.1)\r\n",
      "Requirement already satisfied: pyobjc-framework-AutomaticAssessmentConfiguration==10.1 in /Users/louislecouturier/miniconda3/envs/kinected/lib/python3.11/site-packages (from pyobjc->keyboard->-r requirements.txt (line 11)) (10.1)\r\n",
      "Requirement already satisfied: pyobjc-framework-CoreHaptics==10.1 in /Users/louislecouturier/miniconda3/envs/kinected/lib/python3.11/site-packages (from pyobjc->keyboard->-r requirements.txt (line 11)) (10.1)\r\n",
      "Requirement already satisfied: pyobjc-framework-CoreMotion==10.1 in /Users/louislecouturier/miniconda3/envs/kinected/lib/python3.11/site-packages (from pyobjc->keyboard->-r requirements.txt (line 11)) (10.1)\r\n",
      "Requirement already satisfied: pyobjc-framework-DeviceCheck==10.1 in /Users/louislecouturier/miniconda3/envs/kinected/lib/python3.11/site-packages (from pyobjc->keyboard->-r requirements.txt (line 11)) (10.1)\r\n",
      "Requirement already satisfied: pyobjc-framework-ExecutionPolicy==10.1 in /Users/louislecouturier/miniconda3/envs/kinected/lib/python3.11/site-packages (from pyobjc->keyboard->-r requirements.txt (line 11)) (10.1)\r\n",
      "Requirement already satisfied: pyobjc-framework-FileProvider==10.1 in /Users/louislecouturier/miniconda3/envs/kinected/lib/python3.11/site-packages (from pyobjc->keyboard->-r requirements.txt (line 11)) (10.1)\r\n",
      "Requirement already satisfied: pyobjc-framework-FileProviderUI==10.1 in /Users/louislecouturier/miniconda3/envs/kinected/lib/python3.11/site-packages (from pyobjc->keyboard->-r requirements.txt (line 11)) (10.1)\r\n",
      "Requirement already satisfied: pyobjc-framework-LinkPresentation==10.1 in /Users/louislecouturier/miniconda3/envs/kinected/lib/python3.11/site-packages (from pyobjc->keyboard->-r requirements.txt (line 11)) (10.1)\r\n",
      "Requirement already satisfied: pyobjc-framework-OSLog==10.1 in /Users/louislecouturier/miniconda3/envs/kinected/lib/python3.11/site-packages (from pyobjc->keyboard->-r requirements.txt (line 11)) (10.1)\r\n",
      "Requirement already satisfied: pyobjc-framework-PencilKit==10.1 in /Users/louislecouturier/miniconda3/envs/kinected/lib/python3.11/site-packages (from pyobjc->keyboard->-r requirements.txt (line 11)) (10.1)\r\n",
      "Requirement already satisfied: pyobjc-framework-PushKit==10.1 in /Users/louislecouturier/miniconda3/envs/kinected/lib/python3.11/site-packages (from pyobjc->keyboard->-r requirements.txt (line 11)) (10.1)\r\n",
      "Requirement already satisfied: pyobjc-framework-QuickLookThumbnailing==10.1 in /Users/louislecouturier/miniconda3/envs/kinected/lib/python3.11/site-packages (from pyobjc->keyboard->-r requirements.txt (line 11)) (10.1)\r\n",
      "Requirement already satisfied: pyobjc-framework-Speech==10.1 in /Users/louislecouturier/miniconda3/envs/kinected/lib/python3.11/site-packages (from pyobjc->keyboard->-r requirements.txt (line 11)) (10.1)\r\n",
      "Requirement already satisfied: pyobjc-framework-SoundAnalysis==10.1 in /Users/louislecouturier/miniconda3/envs/kinected/lib/python3.11/site-packages (from pyobjc->keyboard->-r requirements.txt (line 11)) (10.1)\r\n",
      "Requirement already satisfied: pyobjc-framework-SystemExtensions==10.1 in /Users/louislecouturier/miniconda3/envs/kinected/lib/python3.11/site-packages (from pyobjc->keyboard->-r requirements.txt (line 11)) (10.1)\r\n",
      "Requirement already satisfied: pyobjc-framework-Accessibility==10.1 in /Users/louislecouturier/miniconda3/envs/kinected/lib/python3.11/site-packages (from pyobjc->keyboard->-r requirements.txt (line 11)) (10.1)\r\n",
      "Requirement already satisfied: pyobjc-framework-AdServices==10.1 in /Users/louislecouturier/miniconda3/envs/kinected/lib/python3.11/site-packages (from pyobjc->keyboard->-r requirements.txt (line 11)) (10.1)\r\n",
      "Requirement already satisfied: pyobjc-framework-AppTrackingTransparency==10.1 in /Users/louislecouturier/miniconda3/envs/kinected/lib/python3.11/site-packages (from pyobjc->keyboard->-r requirements.txt (line 11)) (10.1)\r\n",
      "Requirement already satisfied: pyobjc-framework-CallKit==10.1 in /Users/louislecouturier/miniconda3/envs/kinected/lib/python3.11/site-packages (from pyobjc->keyboard->-r requirements.txt (line 11)) (10.1)\r\n",
      "Requirement already satisfied: pyobjc-framework-ClassKit==10.1 in /Users/louislecouturier/miniconda3/envs/kinected/lib/python3.11/site-packages (from pyobjc->keyboard->-r requirements.txt (line 11)) (10.1)\r\n",
      "Requirement already satisfied: pyobjc-framework-KernelManagement==10.1 in /Users/louislecouturier/miniconda3/envs/kinected/lib/python3.11/site-packages (from pyobjc->keyboard->-r requirements.txt (line 11)) (10.1)\r\n",
      "Requirement already satisfied: pyobjc-framework-MetalPerformanceShadersGraph==10.1 in /Users/louislecouturier/miniconda3/envs/kinected/lib/python3.11/site-packages (from pyobjc->keyboard->-r requirements.txt (line 11)) (10.1)\r\n",
      "Requirement already satisfied: pyobjc-framework-MLCompute==10.1 in /Users/louislecouturier/miniconda3/envs/kinected/lib/python3.11/site-packages (from pyobjc->keyboard->-r requirements.txt (line 11)) (10.1)\r\n",
      "Requirement already satisfied: pyobjc-framework-PassKit==10.1 in /Users/louislecouturier/miniconda3/envs/kinected/lib/python3.11/site-packages (from pyobjc->keyboard->-r requirements.txt (line 11)) (10.1)\r\n",
      "Requirement already satisfied: pyobjc-framework-ReplayKit==10.1 in /Users/louislecouturier/miniconda3/envs/kinected/lib/python3.11/site-packages (from pyobjc->keyboard->-r requirements.txt (line 11)) (10.1)\r\n",
      "Requirement already satisfied: pyobjc-framework-ScreenTime==10.1 in /Users/louislecouturier/miniconda3/envs/kinected/lib/python3.11/site-packages (from pyobjc->keyboard->-r requirements.txt (line 11)) (10.1)\r\n",
      "Requirement already satisfied: pyobjc-framework-UniformTypeIdentifiers==10.1 in /Users/louislecouturier/miniconda3/envs/kinected/lib/python3.11/site-packages (from pyobjc->keyboard->-r requirements.txt (line 11)) (10.1)\r\n",
      "Requirement already satisfied: pyobjc-framework-UserNotificationsUI==10.1 in /Users/louislecouturier/miniconda3/envs/kinected/lib/python3.11/site-packages (from pyobjc->keyboard->-r requirements.txt (line 11)) (10.1)\r\n",
      "Requirement already satisfied: pyobjc-framework-Virtualization==10.1 in /Users/louislecouturier/miniconda3/envs/kinected/lib/python3.11/site-packages (from pyobjc->keyboard->-r requirements.txt (line 11)) (10.1)\r\n",
      "Requirement already satisfied: pyobjc-framework-DataDetection==10.1 in /Users/louislecouturier/miniconda3/envs/kinected/lib/python3.11/site-packages (from pyobjc->keyboard->-r requirements.txt (line 11)) (10.1)\r\n",
      "Requirement already satisfied: pyobjc-framework-IntentsUI==10.1 in /Users/louislecouturier/miniconda3/envs/kinected/lib/python3.11/site-packages (from pyobjc->keyboard->-r requirements.txt (line 11)) (10.1)\r\n",
      "Requirement already satisfied: pyobjc-framework-LocalAuthenticationEmbeddedUI==10.1 in /Users/louislecouturier/miniconda3/envs/kinected/lib/python3.11/site-packages (from pyobjc->keyboard->-r requirements.txt (line 11)) (10.1)\r\n",
      "Requirement already satisfied: pyobjc-framework-MailKit==10.1 in /Users/louislecouturier/miniconda3/envs/kinected/lib/python3.11/site-packages (from pyobjc->keyboard->-r requirements.txt (line 11)) (10.1)\r\n",
      "Requirement already satisfied: pyobjc-framework-MetricKit==10.1 in /Users/louislecouturier/miniconda3/envs/kinected/lib/python3.11/site-packages (from pyobjc->keyboard->-r requirements.txt (line 11)) (10.1)\r\n",
      "Requirement already satisfied: pyobjc-framework-PHASE==10.1 in /Users/louislecouturier/miniconda3/envs/kinected/lib/python3.11/site-packages (from pyobjc->keyboard->-r requirements.txt (line 11)) (10.1)\r\n",
      "Requirement already satisfied: pyobjc-framework-ShazamKit==10.1 in /Users/louislecouturier/miniconda3/envs/kinected/lib/python3.11/site-packages (from pyobjc->keyboard->-r requirements.txt (line 11)) (10.1)\r\n",
      "Requirement already satisfied: pyobjc-framework-ScreenCaptureKit==10.1 in /Users/louislecouturier/miniconda3/envs/kinected/lib/python3.11/site-packages (from pyobjc->keyboard->-r requirements.txt (line 11)) (10.1)\r\n",
      "Requirement already satisfied: pyobjc-framework-AVRouting==10.1 in /Users/louislecouturier/miniconda3/envs/kinected/lib/python3.11/site-packages (from pyobjc->keyboard->-r requirements.txt (line 11)) (10.1)\r\n",
      "Requirement already satisfied: pyobjc-framework-BackgroundAssets==10.1 in /Users/louislecouturier/miniconda3/envs/kinected/lib/python3.11/site-packages (from pyobjc->keyboard->-r requirements.txt (line 11)) (10.1)\r\n",
      "Requirement already satisfied: pyobjc-framework-ExtensionKit==10.1 in /Users/louislecouturier/miniconda3/envs/kinected/lib/python3.11/site-packages (from pyobjc->keyboard->-r requirements.txt (line 11)) (10.1)\r\n",
      "Requirement already satisfied: pyobjc-framework-HealthKit==10.1 in /Users/louislecouturier/miniconda3/envs/kinected/lib/python3.11/site-packages (from pyobjc->keyboard->-r requirements.txt (line 11)) (10.1)\r\n",
      "Requirement already satisfied: pyobjc-framework-MetalFX==10.1 in /Users/louislecouturier/miniconda3/envs/kinected/lib/python3.11/site-packages (from pyobjc->keyboard->-r requirements.txt (line 11)) (10.1)\r\n",
      "Requirement already satisfied: pyobjc-framework-SafetyKit==10.1 in /Users/louislecouturier/miniconda3/envs/kinected/lib/python3.11/site-packages (from pyobjc->keyboard->-r requirements.txt (line 11)) (10.1)\r\n",
      "Requirement already satisfied: pyobjc-framework-SharedWithYouCore==10.1 in /Users/louislecouturier/miniconda3/envs/kinected/lib/python3.11/site-packages (from pyobjc->keyboard->-r requirements.txt (line 11)) (10.1)\r\n",
      "Requirement already satisfied: pyobjc-framework-SharedWithYou==10.1 in /Users/louislecouturier/miniconda3/envs/kinected/lib/python3.11/site-packages (from pyobjc->keyboard->-r requirements.txt (line 11)) (10.1)\r\n",
      "Requirement already satisfied: pyobjc-framework-ThreadNetwork==10.1 in /Users/louislecouturier/miniconda3/envs/kinected/lib/python3.11/site-packages (from pyobjc->keyboard->-r requirements.txt (line 11)) (10.1)\r\n",
      "Requirement already satisfied: pyobjc-framework-Cinematic==10.1 in /Users/louislecouturier/miniconda3/envs/kinected/lib/python3.11/site-packages (from pyobjc->keyboard->-r requirements.txt (line 11)) (10.1)\r\n",
      "Requirement already satisfied: pyobjc-framework-SensitiveContentAnalysis==10.1 in /Users/louislecouturier/miniconda3/envs/kinected/lib/python3.11/site-packages (from pyobjc->keyboard->-r requirements.txt (line 11)) (10.1)\r\n",
      "Requirement already satisfied: pyobjc-framework-Symbols==10.1 in /Users/louislecouturier/miniconda3/envs/kinected/lib/python3.11/site-packages (from pyobjc->keyboard->-r requirements.txt (line 11)) (10.1)\r\n",
      "Requirement already satisfied: pyobjc-framework-CalendarStore==10.1 in /Users/louislecouturier/miniconda3/envs/kinected/lib/python3.11/site-packages (from pyobjc->keyboard->-r requirements.txt (line 11)) (10.1)\r\n",
      "Requirement already satisfied: pyobjc-framework-Collaboration==10.1 in /Users/louislecouturier/miniconda3/envs/kinected/lib/python3.11/site-packages (from pyobjc->keyboard->-r requirements.txt (line 11)) (10.1)\r\n",
      "Requirement already satisfied: pyobjc-framework-DictionaryServices==10.1 in /Users/louislecouturier/miniconda3/envs/kinected/lib/python3.11/site-packages (from pyobjc->keyboard->-r requirements.txt (line 11)) (10.1)\r\n",
      "Requirement already satisfied: pyobjc-framework-FSEvents==10.1 in /Users/louislecouturier/miniconda3/envs/kinected/lib/python3.11/site-packages (from pyobjc->keyboard->-r requirements.txt (line 11)) (10.1)\r\n",
      "Requirement already satisfied: pyobjc-framework-InputMethodKit==10.1 in /Users/louislecouturier/miniconda3/envs/kinected/lib/python3.11/site-packages (from pyobjc->keyboard->-r requirements.txt (line 11)) (10.1)\r\n",
      "Requirement already satisfied: pyobjc-framework-InstantMessage==10.1 in /Users/louislecouturier/miniconda3/envs/kinected/lib/python3.11/site-packages (from pyobjc->keyboard->-r requirements.txt (line 11)) (10.1)\r\n",
      "Requirement already satisfied: pyobjc-framework-ScriptingBridge==10.1 in /Users/louislecouturier/miniconda3/envs/kinected/lib/python3.11/site-packages (from pyobjc->keyboard->-r requirements.txt (line 11)) (10.1)\r\n",
      "Requirement already satisfied: pycparser in /Users/louislecouturier/miniconda3/envs/kinected/lib/python3.11/site-packages (from CFFI>=1.0->sounddevice>=0.4.4->mediapipe->-r requirements.txt (line 3)) (2.21)\r\n",
      "Requirement already satisfied: MarkupSafe>=2.1.1 in /Users/louislecouturier/miniconda3/envs/kinected/lib/python3.11/site-packages (from werkzeug>=1.0.1->tensorboard<2.17,>=2.16->tensorflow->-r requirements.txt (line 9)) (2.1.1)\r\n",
      "Requirement already satisfied: markdown-it-py>=2.2.0 in /Users/louislecouturier/miniconda3/envs/kinected/lib/python3.11/site-packages (from rich->keras>=3.0.0->tensorflow->-r requirements.txt (line 9)) (3.0.0)\r\n",
      "Requirement already satisfied: pygments<3.0.0,>=2.13.0 in /Users/louislecouturier/miniconda3/envs/kinected/lib/python3.11/site-packages (from rich->keras>=3.0.0->tensorflow->-r requirements.txt (line 9)) (2.17.2)\r\n",
      "Requirement already satisfied: mdurl~=0.1 in /Users/louislecouturier/miniconda3/envs/kinected/lib/python3.11/site-packages (from markdown-it-py>=2.2.0->rich->keras>=3.0.0->tensorflow->-r requirements.txt (line 9)) (0.1.2)\r\n",
      "Note: you may need to restart the kernel to use updated packages.\n"
     ]
    }
   ],
   "source": [
    "import threading\n",
    "%pip install -r requirements.txt"
   ]
  },
  {
   "cell_type": "code",
   "execution_count": 2,
   "metadata": {
    "ExecuteTime": {
     "end_time": "2024-03-25T16:02:26.644163Z",
     "start_time": "2024-03-25T16:02:22.742044Z"
    }
   },
   "outputs": [],
   "source": [
    "import cv2\n",
    "import mediapipe as mp"
   ]
  },
  {
   "cell_type": "markdown",
   "metadata": {},
   "source": [
    "## 2. Create utils functions\n"
   ]
  },
  {
   "cell_type": "markdown",
   "metadata": {},
   "source": [
    "### OpenCV\n"
   ]
  },
  {
   "cell_type": "markdown",
   "metadata": {},
   "source": [
    "### MediaPipe\n"
   ]
  },
  {
   "cell_type": "code",
   "execution_count": 3,
   "metadata": {
    "ExecuteTime": {
     "end_time": "2024-03-25T16:02:26.649221Z",
     "start_time": "2024-03-25T16:02:26.644448Z"
    }
   },
   "outputs": [],
   "source": [
    "MIN_DETECTION_CONFIDENCE = 0.4\n",
    "MIN_PRESENCE_CONFIDENCE = 0.4\n",
    "NUM_HANDS = 1\n",
    "MIN_TRACKING_CONFIDENCE = 0.3"
   ]
  },
  {
   "cell_type": "code",
   "execution_count": 4,
   "metadata": {
    "ExecuteTime": {
     "end_time": "2024-03-25T16:02:26.649701Z",
     "start_time": "2024-03-25T16:02:26.646878Z"
    }
   },
   "outputs": [],
   "source": [
    "mp_holistic = mp.solutions.holistic\n",
    "mp_drawing = mp.solutions.drawing_utils"
   ]
  },
  {
   "cell_type": "markdown",
   "metadata": {},
   "source": [
    "### Model predictions\n"
   ]
  },
  {
   "cell_type": "code",
   "execution_count": 5,
   "metadata": {
    "ExecuteTime": {
     "end_time": "2024-03-25T16:02:26.654614Z",
     "start_time": "2024-03-25T16:02:26.650281Z"
    }
   },
   "outputs": [],
   "source": [
    "labels = [\n",
    "    \"closed\",\n",
    "    \"dislike\",\n",
    "    \"like\",\n",
    "    \"palm\",\n",
    "    \"point_up\",\n",
    "    \"rock\",\n",
    "    \"victory\",\n",
    "    \"victory_inverted\",\n",
    "]"
   ]
  },
  {
   "cell_type": "markdown",
   "metadata": {},
   "source": [
    "## 3. Preprocess the data\n"
   ]
  },
  {
   "cell_type": "code",
   "execution_count": 6,
   "metadata": {
    "ExecuteTime": {
     "end_time": "2024-03-25T16:02:26.655205Z",
     "start_time": "2024-03-25T16:02:26.652617Z"
    }
   },
   "outputs": [],
   "source": [
    "def frame_preprocessing(frame, resolution=None, flip=False):\n",
    "    if resolution is not None:\n",
    "        frame = cv2.resize(frame, resolution)\n",
    "\n",
    "    if flip:\n",
    "        frame = cv2.flip(frame, 1)\n",
    "\n",
    "    return frame"
   ]
  },
  {
   "cell_type": "markdown",
   "metadata": {},
   "source": [
    "## Execute program\n"
   ]
  },
  {
   "cell_type": "markdown",
   "source": [
    "### Websocket server"
   ],
   "metadata": {
    "collapsed": false
   }
  },
  {
   "cell_type": "code",
   "outputs": [],
   "source": [],
   "metadata": {
    "collapsed": false,
    "ExecuteTime": {
     "end_time": "2024-03-25T16:02:26.659482Z",
     "start_time": "2024-03-25T16:02:26.654629Z"
    }
   },
   "execution_count": 6
  },
  {
   "cell_type": "markdown",
   "metadata": {},
   "source": [
    "### Tweak settings\n"
   ]
  },
  {
   "cell_type": "markdown",
   "metadata": {},
   "source": [
    "#### Camera Settings\n"
   ]
  },
  {
   "cell_type": "code",
   "execution_count": 7,
   "metadata": {
    "ExecuteTime": {
     "end_time": "2024-03-25T16:02:26.660041Z",
     "start_time": "2024-03-25T16:02:26.657252Z"
    }
   },
   "outputs": [],
   "source": [
    "DEBUG = False\n",
    "FRAMERATE = None\n",
    "RESOLUTION = (833, 480)  # (1280, 720)  # None  # (833, 480)  # (1280, 720)\n",
    "FLIP_CAMERA = False"
   ]
  },
  {
   "cell_type": "markdown",
   "metadata": {},
   "source": [
    "#### Mediapipe hand bones\n"
   ]
  },
  {
   "cell_type": "code",
   "execution_count": 8,
   "metadata": {
    "ExecuteTime": {
     "end_time": "2024-03-25T16:02:26.664480Z",
     "start_time": "2024-03-25T16:02:26.659680Z"
    }
   },
   "outputs": [],
   "source": [
    "BOX_MARGIN = 24\n",
    "\n",
    "MIN_DETECTION_CONFIDENCE = 0.4\n",
    "MIN_PRESENCE_CONFIDENCE = 0.4\n",
    "NUM_HANDS = 1\n",
    "MIN_TRACKING_CONFIDENCE = 0.3"
   ]
  },
  {
   "cell_type": "markdown",
   "source": [],
   "metadata": {
    "collapsed": false
   }
  },
  {
   "cell_type": "markdown",
   "metadata": {},
   "source": [
    "#### Model settings\n"
   ]
  },
  {
   "cell_type": "code",
   "execution_count": 9,
   "metadata": {
    "ExecuteTime": {
     "end_time": "2024-03-25T16:02:26.665007Z",
     "start_time": "2024-03-25T16:02:26.662091Z"
    }
   },
   "outputs": [],
   "source": [
    "MODEL_NAME = \"4_feb_w_additional_datasets\"\n",
    "\n",
    "MODEL_PATH = f\"./models/{MODEL_NAME}/{MODEL_NAME}.hdf5\"\n",
    "MIN_GESTURE_CONFIDENCE = 0.7\n",
    "MP_MODEL_COMPLEXITY = 0"
   ]
  },
  {
   "cell_type": "code",
   "outputs": [],
   "source": [
    "HAND_CONTROL = \"right\"\n",
    "SWIPE_THRESHOLD = 0.2"
   ],
   "metadata": {
    "collapsed": false,
    "ExecuteTime": {
     "end_time": "2024-03-25T16:02:26.686523Z",
     "start_time": "2024-03-25T16:02:26.664394Z"
    }
   },
   "execution_count": 10
  },
  {
   "cell_type": "code",
   "execution_count": 11,
   "metadata": {
    "ExecuteTime": {
     "end_time": "2024-03-25T16:03:18.919612Z",
     "start_time": "2024-03-25T16:02:26.668874Z"
    }
   },
   "outputs": [
    {
     "name": "stderr",
     "output_type": "stream",
     "text": [
      "2024-03-25 17:02:26.815 python[2336:17561] WARNING: AVCaptureDeviceTypeExternal is deprecated for Continuity Cameras. Please use AVCaptureDeviceTypeContinuityCamera and add NSCameraUseContinuityCameraDeviceType to your Info.plist.\n",
      "WARNING:absl:Compiled the loaded model, but the compiled metrics have yet to be built. `model.compile_metrics` will be empty until you train or evaluate the model.\n",
      "WARNING:absl:Error in loading the saved optimizer state. As a result, your model is starting with a freshly initialized optimizer.\n",
      "WARNING: All log messages before absl::InitializeLog() is called are written to STDERR\n",
      "I0000 00:00:1711382548.196067       1 gl_context.cc:344] GL version: 2.1 (2.1 Metal - 88), renderer: Apple M1 Pro\n",
      "INFO: Created TensorFlow Lite XNNPACK delegate for CPU.\n"
     ]
    },
    {
     "name": "stdout",
     "output_type": "stream",
     "text": [
      "None\n",
      "None\n",
      "None\n",
      "None\n",
      "None\n",
      "None\n",
      "None\n",
      "None\n",
      "None\n",
      "None\n",
      "None\n",
      "Locking...\n",
      "hover_none\n",
      "hover_none\n",
      "hover_none\n",
      "hover_down-right\n",
      "hover_down-right\n",
      "hover_down-right\n",
      "hover_down-right\n",
      "hover_down-right\n",
      "Unlocking...\n",
      "down-right\n",
      "None\n",
      "None\n",
      "None\n",
      "None\n",
      "None\n",
      "None\n",
      "None\n",
      "Locking...\n",
      "hover_none\n",
      "hover_right\n",
      "hover_down-right\n",
      "hover_down-right\n",
      "hover_down-right\n",
      "Unlocking...\n",
      "down-right\n",
      "None\n",
      "None\n",
      "None\n",
      "Locking...\n",
      "hover_none\n",
      "hover_none\n",
      "hover_down-right\n",
      "hover_down-right\n",
      "Unlocking...\n",
      "down-right\n",
      "None\n",
      "None\n",
      "None\n",
      "None\n",
      "Locking...\n",
      "hover_none\n",
      "hover_none\n",
      "hover_down\n",
      "hover_down\n",
      "hover_down-right\n",
      "Unlocking...\n",
      "down-right\n",
      "None\n",
      "None\n",
      "None\n",
      "Locking...\n",
      "hover_none\n",
      "hover_none\n",
      "hover_down-left\n",
      "hover_down-left\n"
     ]
    },
    {
     "ename": "KeyboardInterrupt",
     "evalue": "",
     "output_type": "error",
     "traceback": [
      "\u001B[0;31m---------------------------------------------------------------------------\u001B[0m",
      "\u001B[0;31mKeyboardInterrupt\u001B[0m                         Traceback (most recent call last)",
      "Cell \u001B[0;32mIn[11], line 28\u001B[0m\n\u001B[1;32m     25\u001B[0m frame \u001B[38;5;241m=\u001B[39m read_frame(capture, FRAMERATE)\n\u001B[1;32m     26\u001B[0m frame \u001B[38;5;241m=\u001B[39m frame_preprocessing(frame, RESOLUTION, FLIP_CAMERA)\n\u001B[0;32m---> 28\u001B[0m landmarks \u001B[38;5;241m=\u001B[39m \u001B[43mget_landmarks\u001B[49m\u001B[43m(\u001B[49m\u001B[43mframe\u001B[49m\u001B[43m,\u001B[49m\u001B[43m \u001B[49m\u001B[43mholistic\u001B[49m\u001B[43m)\u001B[49m\n\u001B[1;32m     30\u001B[0m hand_landmark \u001B[38;5;241m=\u001B[39m landmarks[HAND_CONTROL]\n\u001B[1;32m     32\u001B[0m current_swipe \u001B[38;5;241m=\u001B[39m \u001B[38;5;28;01mNone\u001B[39;00m\n",
      "File \u001B[0;32m~/Documents/ISEN/4e année/Kinected/HandGestureRecognition/helpers/mediapipe.py:63\u001B[0m, in \u001B[0;36mget_landmarks\u001B[0;34m(frame, holistics)\u001B[0m\n\u001B[1;32m     61\u001B[0m \u001B[38;5;28;01mdef\u001B[39;00m \u001B[38;5;21mget_landmarks\u001B[39m(frame, holistics):\n\u001B[1;32m     62\u001B[0m     frame\u001B[38;5;241m.\u001B[39mflags\u001B[38;5;241m.\u001B[39mwriteable \u001B[38;5;241m=\u001B[39m \u001B[38;5;28;01mFalse\u001B[39;00m\n\u001B[0;32m---> 63\u001B[0m     results \u001B[38;5;241m=\u001B[39m \u001B[43mholistics\u001B[49m\u001B[38;5;241;43m.\u001B[39;49m\u001B[43mprocess\u001B[49m\u001B[43m(\u001B[49m\u001B[43mcv2\u001B[49m\u001B[38;5;241;43m.\u001B[39;49m\u001B[43mcvtColor\u001B[49m\u001B[43m(\u001B[49m\u001B[43mframe\u001B[49m\u001B[43m,\u001B[49m\u001B[43m \u001B[49m\u001B[43mcv2\u001B[49m\u001B[38;5;241;43m.\u001B[39;49m\u001B[43mCOLOR_BGR2RGB\u001B[49m\u001B[43m)\u001B[49m\u001B[43m)\u001B[49m\n\u001B[1;32m     64\u001B[0m     frame\u001B[38;5;241m.\u001B[39mflags\u001B[38;5;241m.\u001B[39mwriteable \u001B[38;5;241m=\u001B[39m \u001B[38;5;28;01mTrue\u001B[39;00m\n\u001B[1;32m     66\u001B[0m     \u001B[38;5;28;01mreturn\u001B[39;00m {\n\u001B[1;32m     67\u001B[0m         \u001B[38;5;124m\"\u001B[39m\u001B[38;5;124mleft\u001B[39m\u001B[38;5;124m\"\u001B[39m: results\u001B[38;5;241m.\u001B[39mleft_hand_landmarks \u001B[38;5;129;01mor\u001B[39;00m \u001B[38;5;28;01mNone\u001B[39;00m,\n\u001B[1;32m     68\u001B[0m         \u001B[38;5;124m\"\u001B[39m\u001B[38;5;124mright\u001B[39m\u001B[38;5;124m\"\u001B[39m: results\u001B[38;5;241m.\u001B[39mright_hand_landmarks \u001B[38;5;129;01mor\u001B[39;00m \u001B[38;5;28;01mNone\u001B[39;00m,\n\u001B[1;32m     69\u001B[0m     }\n",
      "File \u001B[0;32m~/miniconda3/envs/kinected/lib/python3.11/site-packages/mediapipe/python/solutions/holistic.py:160\u001B[0m, in \u001B[0;36mHolistic.process\u001B[0;34m(self, image)\u001B[0m\n\u001B[1;32m    136\u001B[0m \u001B[38;5;28;01mdef\u001B[39;00m \u001B[38;5;21mprocess\u001B[39m(\u001B[38;5;28mself\u001B[39m, image: np\u001B[38;5;241m.\u001B[39mndarray) \u001B[38;5;241m-\u001B[39m\u001B[38;5;241m>\u001B[39m NamedTuple:\n\u001B[1;32m    137\u001B[0m \u001B[38;5;250m  \u001B[39m\u001B[38;5;124;03m\"\"\"Processes an RGB image and returns the pose landmarks, left and right hand landmarks, and face landmarks on the most prominent person detected.\u001B[39;00m\n\u001B[1;32m    138\u001B[0m \n\u001B[1;32m    139\u001B[0m \u001B[38;5;124;03m  Args:\u001B[39;00m\n\u001B[0;32m   (...)\u001B[0m\n\u001B[1;32m    157\u001B[0m \u001B[38;5;124;03m         \"enable_segmentation\" is set to true.\u001B[39;00m\n\u001B[1;32m    158\u001B[0m \u001B[38;5;124;03m  \"\"\"\u001B[39;00m\n\u001B[0;32m--> 160\u001B[0m   results \u001B[38;5;241m=\u001B[39m \u001B[38;5;28;43msuper\u001B[39;49m\u001B[43m(\u001B[49m\u001B[43m)\u001B[49m\u001B[38;5;241;43m.\u001B[39;49m\u001B[43mprocess\u001B[49m\u001B[43m(\u001B[49m\u001B[43minput_data\u001B[49m\u001B[38;5;241;43m=\u001B[39;49m\u001B[43m{\u001B[49m\u001B[38;5;124;43m'\u001B[39;49m\u001B[38;5;124;43mimage\u001B[39;49m\u001B[38;5;124;43m'\u001B[39;49m\u001B[43m:\u001B[49m\u001B[43m \u001B[49m\u001B[43mimage\u001B[49m\u001B[43m}\u001B[49m\u001B[43m)\u001B[49m\n\u001B[1;32m    161\u001B[0m   \u001B[38;5;28;01mif\u001B[39;00m results\u001B[38;5;241m.\u001B[39mpose_landmarks:  \u001B[38;5;66;03m# pytype: disable=attribute-error\u001B[39;00m\n\u001B[1;32m    162\u001B[0m     \u001B[38;5;28;01mfor\u001B[39;00m landmark \u001B[38;5;129;01min\u001B[39;00m results\u001B[38;5;241m.\u001B[39mpose_landmarks\u001B[38;5;241m.\u001B[39mlandmark:  \u001B[38;5;66;03m# pytype: disable=attribute-error\u001B[39;00m\n",
      "File \u001B[0;32m~/miniconda3/envs/kinected/lib/python3.11/site-packages/mediapipe/python/solution_base.py:372\u001B[0m, in \u001B[0;36mSolutionBase.process\u001B[0;34m(self, input_data)\u001B[0m\n\u001B[1;32m    366\u001B[0m   \u001B[38;5;28;01melse\u001B[39;00m:\n\u001B[1;32m    367\u001B[0m     \u001B[38;5;28mself\u001B[39m\u001B[38;5;241m.\u001B[39m_graph\u001B[38;5;241m.\u001B[39madd_packet_to_input_stream(\n\u001B[1;32m    368\u001B[0m         stream\u001B[38;5;241m=\u001B[39mstream_name,\n\u001B[1;32m    369\u001B[0m         packet\u001B[38;5;241m=\u001B[39m\u001B[38;5;28mself\u001B[39m\u001B[38;5;241m.\u001B[39m_make_packet(input_stream_type,\n\u001B[1;32m    370\u001B[0m                                  data)\u001B[38;5;241m.\u001B[39mat(\u001B[38;5;28mself\u001B[39m\u001B[38;5;241m.\u001B[39m_simulated_timestamp))\n\u001B[0;32m--> 372\u001B[0m \u001B[38;5;28;43mself\u001B[39;49m\u001B[38;5;241;43m.\u001B[39;49m\u001B[43m_graph\u001B[49m\u001B[38;5;241;43m.\u001B[39;49m\u001B[43mwait_until_idle\u001B[49m\u001B[43m(\u001B[49m\u001B[43m)\u001B[49m\n\u001B[1;32m    373\u001B[0m \u001B[38;5;66;03m# Create a NamedTuple object where the field names are mapping to the graph\u001B[39;00m\n\u001B[1;32m    374\u001B[0m \u001B[38;5;66;03m# output stream names.\u001B[39;00m\n\u001B[1;32m    375\u001B[0m solution_outputs \u001B[38;5;241m=\u001B[39m collections\u001B[38;5;241m.\u001B[39mnamedtuple(\n\u001B[1;32m    376\u001B[0m     \u001B[38;5;124m'\u001B[39m\u001B[38;5;124mSolutionOutputs\u001B[39m\u001B[38;5;124m'\u001B[39m, \u001B[38;5;28mself\u001B[39m\u001B[38;5;241m.\u001B[39m_output_stream_type_info\u001B[38;5;241m.\u001B[39mkeys())\n",
      "\u001B[0;31mKeyboardInterrupt\u001B[0m: "
     ]
    }
   ],
   "source": [
    "from helpers.websockets.send_gesture import send_gesture\n",
    "import asyncio\n",
    "from helpers.gesture_handler.gesture_handler import GestureHandler\n",
    "from helpers.computations import compute_hand_coordinates\n",
    "from tensorflow.keras.models import load_model\n",
    "\n",
    "from helpers.predictions import get_gesture\n",
    "from helpers.mediapipe import get_landmarks, draw_landmarks, draw_box\n",
    "from helpers.camera import read_frame, show_frame, get_close_event, close_camera, draw_hand_pointer, flip_frame\n",
    "\n",
    "gesture_handler = GestureHandler(frame_resolution=RESOLUTION, swipe_threshold=SWIPE_THRESHOLD)\n",
    "\n",
    "capture = cv2.VideoCapture(1)\n",
    "\n",
    "model = load_model(MODEL_PATH, compile=False)\n",
    "\n",
    "hand = [0, 1] if HAND_CONTROL == \"right\" else [1, 0]\n",
    "\n",
    "with mp_holistic.Holistic(\n",
    "        min_detection_confidence=MIN_DETECTION_CONFIDENCE,\n",
    "        min_tracking_confidence=MIN_TRACKING_CONFIDENCE,\n",
    "        model_complexity=MP_MODEL_COMPLEXITY,\n",
    ") as holistic:\n",
    "    while True:\n",
    "        frame = read_frame(capture, FRAMERATE)\n",
    "        frame = frame_preprocessing(frame, RESOLUTION, FLIP_CAMERA)\n",
    "\n",
    "        landmarks = get_landmarks(frame, holistic)\n",
    "\n",
    "        hand_landmark = landmarks[HAND_CONTROL]\n",
    "\n",
    "        current_swipe = None\n",
    "\n",
    "        if hand_landmark:\n",
    "            if DEBUG: frame = draw_landmarks(frame, hand_landmark, mp_holistic, mp_drawing)\n",
    "\n",
    "            # Get hand coordinates (not normalized)\n",
    "            hand_coordinates = compute_hand_coordinates(frame, hand_landmark)\n",
    "\n",
    "            # Draw hand pointer\n",
    "            frame = draw_hand_pointer(frame, hand_coordinates)\n",
    "\n",
    "            # Get current gesture\n",
    "            gesture, accuracy = get_gesture(\n",
    "                model, labels, MIN_GESTURE_CONFIDENCE, hand, hand_landmark\n",
    "            )\n",
    "\n",
    "            # Draw box around hand\n",
    "            frame = draw_box(frame, gesture, accuracy, hand, hand_landmark)\n",
    "\n",
    "            # Handle gesture logic\n",
    "            current_swipe = gesture_handler.listen(frame, hand_coordinates, gesture)\n",
    "\n",
    "            print(current_swipe)\n",
    "\n",
    "            payload = {\n",
    "                \"type\": \"gesture\",\n",
    "                \"gesture\": gesture,\n",
    "                \"accuracy\": accuracy,\n",
    "                \"hand\": hand,\n",
    "                \"swipe\": current_swipe,\n",
    "            }\n",
    "\n",
    "            loop = asyncio.get_event_loop()\n",
    "            loop.create_task(send_gesture(gesture))\n",
    "    \n",
    "        frame = flip_frame(frame)\n",
    "\n",
    "        # Display swipe on frame\n",
    "        gesture_handler.draw_swipe(frame, current_swipe)\n",
    "        show_frame(frame, \"hand gesture recognition\")\n",
    "\n",
    "        if get_close_event():\n",
    "            break\n",
    "\n",
    "close_camera(capture)"
   ]
  }
 ],
 "metadata": {
  "kernelspec": {
   "display_name": "kinected",
   "language": "python",
   "name": "python3"
  },
  "language_info": {
   "codemirror_mode": {
    "name": "ipython",
    "version": 3
   },
   "file_extension": ".py",
   "mimetype": "text/x-python",
   "name": "python",
   "nbconvert_exporter": "python",
   "pygments_lexer": "ipython3",
   "version": "3.11.5"
  }
 },
 "nbformat": 4,
 "nbformat_minor": 2
}
