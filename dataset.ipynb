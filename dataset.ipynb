{
 "cells": [
  {
   "cell_type": "markdown",
   "metadata": {},
   "source": [
    "# Distance dataset generation\n",
    "\n",
    "---\n"
   ]
  },
  {
   "cell_type": "markdown",
   "metadata": {},
   "source": [
    "## Motivation\n"
   ]
  },
  {
   "cell_type": "markdown",
   "metadata": {},
   "source": [
    "When using Google's mediaPipe library to detect hands, we get handlandmarks like so :\n",
    "\n",
    "<img src=\"assets/hand_points.png\" width=\"833\">\n"
   ]
  },
  {
   "cell_type": "markdown",
   "metadata": {},
   "source": [
    "While doing some gesture with our hand, points are moving and thus, their distance from the point `0` (wrist) is changing\n",
    "A good approach to define hand gestures could be by analysing the distance of each points from the wrist.\n",
    "\n",
    "This would eliminate some limitations we could have by analyzing points normalized coordinates or the whole image using a CNN. For example hand rotation.\n",
    "When rotating the hand doing an \"open palm\" gesture, points coordinates change but not their distance from the wrist\n"
   ]
  },
  {
   "cell_type": "markdown",
   "metadata": {},
   "source": [
    "<img src=\"assets/distance_schema.png\" width=\"640\">\n"
   ]
  },
  {
   "cell_type": "markdown",
   "metadata": {},
   "source": [
    "Furthermore, this approach is giving us more control over prediction workflow.\n",
    "We can do model inference only when detecting landmarks.\n",
    "\n",
    "We also insanely reduce the amount of inputs we provide to our model. We move from a rgb matrix of 853x480 (or whatever resolution) to 20 scalar inputs.\n",
    "This will signinicantly speed up training and model inferencing, thus increase performance on our Nvidia Jetson Nano\n"
   ]
  },
  {
   "cell_type": "markdown",
   "metadata": {},
   "source": [
    "## Introduction\n"
   ]
  },
  {
   "cell_type": "markdown",
   "metadata": {},
   "source": [
    "We are going to generate a new dataset based on the lightweight version of the [HaGRID](https://github.com/hukenovs/hagrid) dataset (HAnd Gesture Recognition Image Dataset).\n",
    "\n",
    "I kept only the data that was relevant to our use case. `(closed, like, dislike, palm, point_up, rock, victory and victory_inverted)` gestures\n"
   ]
  },
  {
   "cell_type": "markdown",
   "metadata": {},
   "source": [
    "| class | gesture          |\n",
    "| ----- | ---------------- |\n",
    "| 0     | closed           |\n",
    "| 1     | dislike          |\n",
    "| 2     | like             |\n",
    "| 3     | palm             |\n",
    "| 4     | point_up         |\n",
    "| 5     | rock             |\n",
    "| 6     | victory          |\n",
    "| 7     | vicotry_inverted |\n"
   ]
  },
  {
   "cell_type": "markdown",
   "metadata": {},
   "source": [
    "## Worflow\n"
   ]
  },
  {
   "cell_type": "markdown",
   "metadata": {},
   "source": [
    "For each image in the folder :\n",
    "\n",
    "1. Open the image\n",
    "2. Detect landmarks using google's [MediaPipe library](https://developers.google.com/mediapipe/solutions/vision/hand_landmarker#configurations_options)\n",
    "3. Normalize the landmarks\n",
    "4. compute relative distance and angles from wrist\n",
    "5. Write in a `.csv` file the distances and angles with the corresponding class\n"
   ]
  },
  {
   "cell_type": "markdown",
   "metadata": {},
   "source": [
    "# Time to code !\n"
   ]
  },
  {
   "cell_type": "code",
   "execution_count": 102,
   "metadata": {
    "vscode": {
     "languageId": "shellscript"
    }
   },
   "outputs": [
    {
     "name": "stdout",
     "output_type": "stream",
     "text": [
      "Requirement already satisfied: pandas in /Users/louislecouturier/miniconda3/envs/kinected/lib/python3.11/site-packages (from -r requirements.txt (line 1)) (2.1.4)\n",
      "Requirement already satisfied: opencv-python in /Users/louislecouturier/miniconda3/envs/kinected/lib/python3.11/site-packages (from -r requirements.txt (line 2)) (4.8.1.78)\n",
      "Requirement already satisfied: mediapipe in /Users/louislecouturier/miniconda3/envs/kinected/lib/python3.11/site-packages (from -r requirements.txt (line 3)) (0.10.9)\n",
      "Requirement already satisfied: scikit-learn in /Users/louislecouturier/miniconda3/envs/kinected/lib/python3.11/site-packages (from -r requirements.txt (line 4)) (1.3.2)\n",
      "Requirement already satisfied: matplotlib in /Users/louislecouturier/miniconda3/envs/kinected/lib/python3.11/site-packages (from -r requirements.txt (line 5)) (3.8.2)\n",
      "Requirement already satisfied: numpy in /Users/louislecouturier/miniconda3/envs/kinected/lib/python3.11/site-packages (from -r requirements.txt (line 6)) (1.26.2)\n",
      "Requirement already satisfied: tensorflow in /Users/louislecouturier/miniconda3/envs/kinected/lib/python3.11/site-packages (from -r requirements.txt (line 7)) (2.15.0)\n",
      "Requirement already satisfied: joblib in /Users/louislecouturier/miniconda3/envs/kinected/lib/python3.11/site-packages (from -r requirements.txt (line 8)) (1.3.2)\n",
      "Requirement already satisfied: keyboard in /Users/louislecouturier/miniconda3/envs/kinected/lib/python3.11/site-packages (from -r requirements.txt (line 9)) (0.13.5)\n",
      "Requirement already satisfied: python-dateutil>=2.8.2 in /Users/louislecouturier/miniconda3/envs/kinected/lib/python3.11/site-packages (from pandas->-r requirements.txt (line 1)) (2.8.2)\n",
      "Requirement already satisfied: pytz>=2020.1 in /Users/louislecouturier/miniconda3/envs/kinected/lib/python3.11/site-packages (from pandas->-r requirements.txt (line 1)) (2023.3.post1)\n",
      "Requirement already satisfied: tzdata>=2022.1 in /Users/louislecouturier/miniconda3/envs/kinected/lib/python3.11/site-packages (from pandas->-r requirements.txt (line 1)) (2023.3)\n",
      "Requirement already satisfied: absl-py in /Users/louislecouturier/miniconda3/envs/kinected/lib/python3.11/site-packages (from mediapipe->-r requirements.txt (line 3)) (2.0.0)\n",
      "Requirement already satisfied: attrs>=19.1.0 in /Users/louislecouturier/miniconda3/envs/kinected/lib/python3.11/site-packages (from mediapipe->-r requirements.txt (line 3)) (23.1.0)\n",
      "Requirement already satisfied: flatbuffers>=2.0 in /Users/louislecouturier/miniconda3/envs/kinected/lib/python3.11/site-packages (from mediapipe->-r requirements.txt (line 3)) (23.5.26)\n",
      "Requirement already satisfied: opencv-contrib-python in /Users/louislecouturier/miniconda3/envs/kinected/lib/python3.11/site-packages (from mediapipe->-r requirements.txt (line 3)) (4.8.1.78)\n",
      "Requirement already satisfied: protobuf<4,>=3.11 in /Users/louislecouturier/miniconda3/envs/kinected/lib/python3.11/site-packages (from mediapipe->-r requirements.txt (line 3)) (3.20.3)\n",
      "Requirement already satisfied: sounddevice>=0.4.4 in /Users/louislecouturier/miniconda3/envs/kinected/lib/python3.11/site-packages (from mediapipe->-r requirements.txt (line 3)) (0.4.6)\n",
      "Requirement already satisfied: scipy>=1.5.0 in /Users/louislecouturier/miniconda3/envs/kinected/lib/python3.11/site-packages (from scikit-learn->-r requirements.txt (line 4)) (1.11.4)\n",
      "Requirement already satisfied: threadpoolctl>=2.0.0 in /Users/louislecouturier/miniconda3/envs/kinected/lib/python3.11/site-packages (from scikit-learn->-r requirements.txt (line 4)) (3.2.0)\n",
      "Requirement already satisfied: contourpy>=1.0.1 in /Users/louislecouturier/miniconda3/envs/kinected/lib/python3.11/site-packages (from matplotlib->-r requirements.txt (line 5)) (1.2.0)\n",
      "Requirement already satisfied: cycler>=0.10 in /Users/louislecouturier/miniconda3/envs/kinected/lib/python3.11/site-packages (from matplotlib->-r requirements.txt (line 5)) (0.12.1)\n",
      "Requirement already satisfied: fonttools>=4.22.0 in /Users/louislecouturier/miniconda3/envs/kinected/lib/python3.11/site-packages (from matplotlib->-r requirements.txt (line 5)) (4.46.0)\n",
      "Requirement already satisfied: kiwisolver>=1.3.1 in /Users/louislecouturier/miniconda3/envs/kinected/lib/python3.11/site-packages (from matplotlib->-r requirements.txt (line 5)) (1.4.5)\n",
      "Requirement already satisfied: packaging>=20.0 in /Users/louislecouturier/miniconda3/envs/kinected/lib/python3.11/site-packages (from matplotlib->-r requirements.txt (line 5)) (23.2)\n",
      "Requirement already satisfied: pillow>=8 in /Users/louislecouturier/miniconda3/envs/kinected/lib/python3.11/site-packages (from matplotlib->-r requirements.txt (line 5)) (10.0.1)\n",
      "Requirement already satisfied: pyparsing>=2.3.1 in /Users/louislecouturier/miniconda3/envs/kinected/lib/python3.11/site-packages (from matplotlib->-r requirements.txt (line 5)) (3.1.1)\n",
      "Requirement already satisfied: tensorflow-macos==2.15.0 in /Users/louislecouturier/miniconda3/envs/kinected/lib/python3.11/site-packages (from tensorflow->-r requirements.txt (line 7)) (2.15.0)\n",
      "Requirement already satisfied: astunparse>=1.6.0 in /Users/louislecouturier/miniconda3/envs/kinected/lib/python3.11/site-packages (from tensorflow-macos==2.15.0->tensorflow->-r requirements.txt (line 7)) (1.6.3)\n",
      "Requirement already satisfied: gast!=0.5.0,!=0.5.1,!=0.5.2,>=0.2.1 in /Users/louislecouturier/miniconda3/envs/kinected/lib/python3.11/site-packages (from tensorflow-macos==2.15.0->tensorflow->-r requirements.txt (line 7)) (0.5.4)\n",
      "Requirement already satisfied: google-pasta>=0.1.1 in /Users/louislecouturier/miniconda3/envs/kinected/lib/python3.11/site-packages (from tensorflow-macos==2.15.0->tensorflow->-r requirements.txt (line 7)) (0.2.0)\n",
      "Requirement already satisfied: h5py>=2.9.0 in /Users/louislecouturier/miniconda3/envs/kinected/lib/python3.11/site-packages (from tensorflow-macos==2.15.0->tensorflow->-r requirements.txt (line 7)) (3.10.0)\n",
      "Requirement already satisfied: libclang>=13.0.0 in /Users/louislecouturier/miniconda3/envs/kinected/lib/python3.11/site-packages (from tensorflow-macos==2.15.0->tensorflow->-r requirements.txt (line 7)) (16.0.6)\n",
      "Requirement already satisfied: ml-dtypes~=0.2.0 in /Users/louislecouturier/miniconda3/envs/kinected/lib/python3.11/site-packages (from tensorflow-macos==2.15.0->tensorflow->-r requirements.txt (line 7)) (0.2.0)\n",
      "Requirement already satisfied: opt-einsum>=2.3.2 in /Users/louislecouturier/miniconda3/envs/kinected/lib/python3.11/site-packages (from tensorflow-macos==2.15.0->tensorflow->-r requirements.txt (line 7)) (3.3.0)\n",
      "Requirement already satisfied: setuptools in /Users/louislecouturier/miniconda3/envs/kinected/lib/python3.11/site-packages (from tensorflow-macos==2.15.0->tensorflow->-r requirements.txt (line 7)) (68.2.2)\n",
      "Requirement already satisfied: six>=1.12.0 in /Users/louislecouturier/miniconda3/envs/kinected/lib/python3.11/site-packages (from tensorflow-macos==2.15.0->tensorflow->-r requirements.txt (line 7)) (1.16.0)\n",
      "Requirement already satisfied: termcolor>=1.1.0 in /Users/louislecouturier/miniconda3/envs/kinected/lib/python3.11/site-packages (from tensorflow-macos==2.15.0->tensorflow->-r requirements.txt (line 7)) (2.4.0)\n",
      "Requirement already satisfied: typing-extensions>=3.6.6 in /Users/louislecouturier/miniconda3/envs/kinected/lib/python3.11/site-packages (from tensorflow-macos==2.15.0->tensorflow->-r requirements.txt (line 7)) (4.9.0)\n",
      "Requirement already satisfied: wrapt<1.15,>=1.11.0 in /Users/louislecouturier/miniconda3/envs/kinected/lib/python3.11/site-packages (from tensorflow-macos==2.15.0->tensorflow->-r requirements.txt (line 7)) (1.14.1)\n",
      "Requirement already satisfied: tensorflow-io-gcs-filesystem>=0.23.1 in /Users/louislecouturier/miniconda3/envs/kinected/lib/python3.11/site-packages (from tensorflow-macos==2.15.0->tensorflow->-r requirements.txt (line 7)) (0.34.0)\n",
      "Requirement already satisfied: grpcio<2.0,>=1.24.3 in /Users/louislecouturier/miniconda3/envs/kinected/lib/python3.11/site-packages (from tensorflow-macos==2.15.0->tensorflow->-r requirements.txt (line 7)) (1.60.0)\n",
      "Requirement already satisfied: tensorboard<2.16,>=2.15 in /Users/louislecouturier/miniconda3/envs/kinected/lib/python3.11/site-packages (from tensorflow-macos==2.15.0->tensorflow->-r requirements.txt (line 7)) (2.15.1)\n",
      "Requirement already satisfied: tensorflow-estimator<2.16,>=2.15.0 in /Users/louislecouturier/miniconda3/envs/kinected/lib/python3.11/site-packages (from tensorflow-macos==2.15.0->tensorflow->-r requirements.txt (line 7)) (2.15.0)\n",
      "Requirement already satisfied: keras<2.16,>=2.15.0 in /Users/louislecouturier/miniconda3/envs/kinected/lib/python3.11/site-packages (from tensorflow-macos==2.15.0->tensorflow->-r requirements.txt (line 7)) (2.15.0)\n",
      "Requirement already satisfied: pyobjc in /Users/louislecouturier/miniconda3/envs/kinected/lib/python3.11/site-packages (from keyboard->-r requirements.txt (line 9)) (10.1)\n",
      "Requirement already satisfied: CFFI>=1.0 in /Users/louislecouturier/miniconda3/envs/kinected/lib/python3.11/site-packages (from sounddevice>=0.4.4->mediapipe->-r requirements.txt (line 3)) (1.16.0)\n",
      "Requirement already satisfied: pyobjc-core==10.1 in /Users/louislecouturier/miniconda3/envs/kinected/lib/python3.11/site-packages (from pyobjc->keyboard->-r requirements.txt (line 9)) (10.1)\n",
      "Requirement already satisfied: pyobjc-framework-AddressBook==10.1 in /Users/louislecouturier/miniconda3/envs/kinected/lib/python3.11/site-packages (from pyobjc->keyboard->-r requirements.txt (line 9)) (10.1)\n",
      "Requirement already satisfied: pyobjc-framework-AppleScriptKit==10.1 in /Users/louislecouturier/miniconda3/envs/kinected/lib/python3.11/site-packages (from pyobjc->keyboard->-r requirements.txt (line 9)) (10.1)\n",
      "Requirement already satisfied: pyobjc-framework-ApplicationServices==10.1 in /Users/louislecouturier/miniconda3/envs/kinected/lib/python3.11/site-packages (from pyobjc->keyboard->-r requirements.txt (line 9)) (10.1)\n",
      "Requirement already satisfied: pyobjc-framework-Automator==10.1 in /Users/louislecouturier/miniconda3/envs/kinected/lib/python3.11/site-packages (from pyobjc->keyboard->-r requirements.txt (line 9)) (10.1)\n",
      "Requirement already satisfied: pyobjc-framework-CFNetwork==10.1 in /Users/louislecouturier/miniconda3/envs/kinected/lib/python3.11/site-packages (from pyobjc->keyboard->-r requirements.txt (line 9)) (10.1)\n",
      "Requirement already satisfied: pyobjc-framework-Cocoa==10.1 in /Users/louislecouturier/miniconda3/envs/kinected/lib/python3.11/site-packages (from pyobjc->keyboard->-r requirements.txt (line 9)) (10.1)\n",
      "Requirement already satisfied: pyobjc-framework-CoreAudio==10.1 in /Users/louislecouturier/miniconda3/envs/kinected/lib/python3.11/site-packages (from pyobjc->keyboard->-r requirements.txt (line 9)) (10.1)\n",
      "Requirement already satisfied: pyobjc-framework-CoreAudioKit==10.1 in /Users/louislecouturier/miniconda3/envs/kinected/lib/python3.11/site-packages (from pyobjc->keyboard->-r requirements.txt (line 9)) (10.1)\n",
      "Requirement already satisfied: pyobjc-framework-CoreData==10.1 in /Users/louislecouturier/miniconda3/envs/kinected/lib/python3.11/site-packages (from pyobjc->keyboard->-r requirements.txt (line 9)) (10.1)\n",
      "Requirement already satisfied: pyobjc-framework-CoreMIDI==10.1 in /Users/louislecouturier/miniconda3/envs/kinected/lib/python3.11/site-packages (from pyobjc->keyboard->-r requirements.txt (line 9)) (10.1)\n",
      "Requirement already satisfied: pyobjc-framework-CoreServices==10.1 in /Users/louislecouturier/miniconda3/envs/kinected/lib/python3.11/site-packages (from pyobjc->keyboard->-r requirements.txt (line 9)) (10.1)\n",
      "Requirement already satisfied: pyobjc-framework-CoreText==10.1 in /Users/louislecouturier/miniconda3/envs/kinected/lib/python3.11/site-packages (from pyobjc->keyboard->-r requirements.txt (line 9)) (10.1)\n",
      "Requirement already satisfied: pyobjc-framework-DiscRecording==10.1 in /Users/louislecouturier/miniconda3/envs/kinected/lib/python3.11/site-packages (from pyobjc->keyboard->-r requirements.txt (line 9)) (10.1)\n",
      "Requirement already satisfied: pyobjc-framework-DiscRecordingUI==10.1 in /Users/louislecouturier/miniconda3/envs/kinected/lib/python3.11/site-packages (from pyobjc->keyboard->-r requirements.txt (line 9)) (10.1)\n",
      "Requirement already satisfied: pyobjc-framework-DiskArbitration==10.1 in /Users/louislecouturier/miniconda3/envs/kinected/lib/python3.11/site-packages (from pyobjc->keyboard->-r requirements.txt (line 9)) (10.1)\n",
      "Requirement already satisfied: pyobjc-framework-DVDPlayback==10.1 in /Users/louislecouturier/miniconda3/envs/kinected/lib/python3.11/site-packages (from pyobjc->keyboard->-r requirements.txt (line 9)) (10.1)\n",
      "Requirement already satisfied: pyobjc-framework-ExceptionHandling==10.1 in /Users/louislecouturier/miniconda3/envs/kinected/lib/python3.11/site-packages (from pyobjc->keyboard->-r requirements.txt (line 9)) (10.1)\n",
      "Requirement already satisfied: pyobjc-framework-InstallerPlugins==10.1 in /Users/louislecouturier/miniconda3/envs/kinected/lib/python3.11/site-packages (from pyobjc->keyboard->-r requirements.txt (line 9)) (10.1)\n",
      "Requirement already satisfied: pyobjc-framework-IOBluetooth==10.1 in /Users/louislecouturier/miniconda3/envs/kinected/lib/python3.11/site-packages (from pyobjc->keyboard->-r requirements.txt (line 9)) (10.1)\n",
      "Requirement already satisfied: pyobjc-framework-IOBluetoothUI==10.1 in /Users/louislecouturier/miniconda3/envs/kinected/lib/python3.11/site-packages (from pyobjc->keyboard->-r requirements.txt (line 9)) (10.1)\n",
      "Requirement already satisfied: pyobjc-framework-LatentSemanticMapping==10.1 in /Users/louislecouturier/miniconda3/envs/kinected/lib/python3.11/site-packages (from pyobjc->keyboard->-r requirements.txt (line 9)) (10.1)\n",
      "Requirement already satisfied: pyobjc-framework-LaunchServices==10.1 in /Users/louislecouturier/miniconda3/envs/kinected/lib/python3.11/site-packages (from pyobjc->keyboard->-r requirements.txt (line 9)) (10.1)\n",
      "Requirement already satisfied: pyobjc-framework-OSAKit==10.1 in /Users/louislecouturier/miniconda3/envs/kinected/lib/python3.11/site-packages (from pyobjc->keyboard->-r requirements.txt (line 9)) (10.1)\n",
      "Requirement already satisfied: pyobjc-framework-PreferencePanes==10.1 in /Users/louislecouturier/miniconda3/envs/kinected/lib/python3.11/site-packages (from pyobjc->keyboard->-r requirements.txt (line 9)) (10.1)\n",
      "Requirement already satisfied: pyobjc-framework-Quartz==10.1 in /Users/louislecouturier/miniconda3/envs/kinected/lib/python3.11/site-packages (from pyobjc->keyboard->-r requirements.txt (line 9)) (10.1)\n",
      "Requirement already satisfied: pyobjc-framework-ScreenSaver==10.1 in /Users/louislecouturier/miniconda3/envs/kinected/lib/python3.11/site-packages (from pyobjc->keyboard->-r requirements.txt (line 9)) (10.1)\n",
      "Requirement already satisfied: pyobjc-framework-Security==10.1 in /Users/louislecouturier/miniconda3/envs/kinected/lib/python3.11/site-packages (from pyobjc->keyboard->-r requirements.txt (line 9)) (10.1)\n",
      "Requirement already satisfied: pyobjc-framework-SecurityFoundation==10.1 in /Users/louislecouturier/miniconda3/envs/kinected/lib/python3.11/site-packages (from pyobjc->keyboard->-r requirements.txt (line 9)) (10.1)\n",
      "Requirement already satisfied: pyobjc-framework-SecurityInterface==10.1 in /Users/louislecouturier/miniconda3/envs/kinected/lib/python3.11/site-packages (from pyobjc->keyboard->-r requirements.txt (line 9)) (10.1)\n",
      "Requirement already satisfied: pyobjc-framework-SearchKit==10.1 in /Users/louislecouturier/miniconda3/envs/kinected/lib/python3.11/site-packages (from pyobjc->keyboard->-r requirements.txt (line 9)) (10.1)\n",
      "Requirement already satisfied: pyobjc-framework-SyncServices==10.1 in /Users/louislecouturier/miniconda3/envs/kinected/lib/python3.11/site-packages (from pyobjc->keyboard->-r requirements.txt (line 9)) (10.1)\n",
      "Requirement already satisfied: pyobjc-framework-SystemConfiguration==10.1 in /Users/louislecouturier/miniconda3/envs/kinected/lib/python3.11/site-packages (from pyobjc->keyboard->-r requirements.txt (line 9)) (10.1)\n",
      "Requirement already satisfied: pyobjc-framework-WebKit==10.1 in /Users/louislecouturier/miniconda3/envs/kinected/lib/python3.11/site-packages (from pyobjc->keyboard->-r requirements.txt (line 9)) (10.1)\n",
      "Requirement already satisfied: pyobjc-framework-AppleScriptObjC==10.1 in /Users/louislecouturier/miniconda3/envs/kinected/lib/python3.11/site-packages (from pyobjc->keyboard->-r requirements.txt (line 9)) (10.1)\n",
      "Requirement already satisfied: pyobjc-framework-CoreLocation==10.1 in /Users/louislecouturier/miniconda3/envs/kinected/lib/python3.11/site-packages (from pyobjc->keyboard->-r requirements.txt (line 9)) (10.1)\n",
      "Requirement already satisfied: pyobjc-framework-CoreWLAN==10.1 in /Users/louislecouturier/miniconda3/envs/kinected/lib/python3.11/site-packages (from pyobjc->keyboard->-r requirements.txt (line 9)) (10.1)\n",
      "Requirement already satisfied: pyobjc-framework-ImageCaptureCore==10.1 in /Users/louislecouturier/miniconda3/envs/kinected/lib/python3.11/site-packages (from pyobjc->keyboard->-r requirements.txt (line 9)) (10.1)\n",
      "Requirement already satisfied: pyobjc-framework-IOSurface==10.1 in /Users/louislecouturier/miniconda3/envs/kinected/lib/python3.11/site-packages (from pyobjc->keyboard->-r requirements.txt (line 9)) (10.1)\n",
      "Requirement already satisfied: pyobjc-framework-NetFS==10.1 in /Users/louislecouturier/miniconda3/envs/kinected/lib/python3.11/site-packages (from pyobjc->keyboard->-r requirements.txt (line 9)) (10.1)\n",
      "Requirement already satisfied: pyobjc-framework-OpenDirectory==10.1 in /Users/louislecouturier/miniconda3/envs/kinected/lib/python3.11/site-packages (from pyobjc->keyboard->-r requirements.txt (line 9)) (10.1)\n",
      "Requirement already satisfied: pyobjc-framework-ServiceManagement==10.1 in /Users/louislecouturier/miniconda3/envs/kinected/lib/python3.11/site-packages (from pyobjc->keyboard->-r requirements.txt (line 9)) (10.1)\n",
      "Requirement already satisfied: pyobjc-framework-iTunesLibrary==10.1 in /Users/louislecouturier/miniconda3/envs/kinected/lib/python3.11/site-packages (from pyobjc->keyboard->-r requirements.txt (line 9)) (10.1)\n",
      "Requirement already satisfied: pyobjc-framework-AVFoundation==10.1 in /Users/louislecouturier/miniconda3/envs/kinected/lib/python3.11/site-packages (from pyobjc->keyboard->-r requirements.txt (line 9)) (10.1)\n",
      "Requirement already satisfied: pyobjc-framework-CoreMedia==10.1 in /Users/louislecouturier/miniconda3/envs/kinected/lib/python3.11/site-packages (from pyobjc->keyboard->-r requirements.txt (line 9)) (10.1)\n",
      "Requirement already satisfied: pyobjc-framework-CoreMediaIO==10.1 in /Users/louislecouturier/miniconda3/envs/kinected/lib/python3.11/site-packages (from pyobjc->keyboard->-r requirements.txt (line 9)) (10.1)\n",
      "Requirement already satisfied: pyobjc-framework-StoreKit==10.1 in /Users/louislecouturier/miniconda3/envs/kinected/lib/python3.11/site-packages (from pyobjc->keyboard->-r requirements.txt (line 9)) (10.1)\n",
      "Requirement already satisfied: pyobjc-framework-SceneKit==10.1 in /Users/louislecouturier/miniconda3/envs/kinected/lib/python3.11/site-packages (from pyobjc->keyboard->-r requirements.txt (line 9)) (10.1)\n",
      "Requirement already satisfied: pyobjc-framework-libdispatch==10.1 in /Users/louislecouturier/miniconda3/envs/kinected/lib/python3.11/site-packages (from pyobjc->keyboard->-r requirements.txt (line 9)) (10.1)\n",
      "Requirement already satisfied: pyobjc-framework-libxpc==10.1 in /Users/louislecouturier/miniconda3/envs/kinected/lib/python3.11/site-packages (from pyobjc->keyboard->-r requirements.txt (line 9)) (10.1)\n",
      "Requirement already satisfied: pyobjc-framework-AudioVideoBridging==10.1 in /Users/louislecouturier/miniconda3/envs/kinected/lib/python3.11/site-packages (from pyobjc->keyboard->-r requirements.txt (line 9)) (10.1)\n",
      "Requirement already satisfied: pyobjc-framework-Accounts==10.1 in /Users/louislecouturier/miniconda3/envs/kinected/lib/python3.11/site-packages (from pyobjc->keyboard->-r requirements.txt (line 9)) (10.1)\n",
      "Requirement already satisfied: pyobjc-framework-EventKit==10.1 in /Users/louislecouturier/miniconda3/envs/kinected/lib/python3.11/site-packages (from pyobjc->keyboard->-r requirements.txt (line 9)) (10.1)\n",
      "Requirement already satisfied: pyobjc-framework-GameCenter==10.1 in /Users/louislecouturier/miniconda3/envs/kinected/lib/python3.11/site-packages (from pyobjc->keyboard->-r requirements.txt (line 9)) (10.1)\n",
      "Requirement already satisfied: pyobjc-framework-Social==10.1 in /Users/louislecouturier/miniconda3/envs/kinected/lib/python3.11/site-packages (from pyobjc->keyboard->-r requirements.txt (line 9)) (10.1)\n",
      "Requirement already satisfied: pyobjc-framework-GameKit==10.1 in /Users/louislecouturier/miniconda3/envs/kinected/lib/python3.11/site-packages (from pyobjc->keyboard->-r requirements.txt (line 9)) (10.1)\n",
      "Requirement already satisfied: pyobjc-framework-VideoToolbox==10.1 in /Users/louislecouturier/miniconda3/envs/kinected/lib/python3.11/site-packages (from pyobjc->keyboard->-r requirements.txt (line 9)) (10.1)\n",
      "Requirement already satisfied: pyobjc-framework-AVKit==10.1 in /Users/louislecouturier/miniconda3/envs/kinected/lib/python3.11/site-packages (from pyobjc->keyboard->-r requirements.txt (line 9)) (10.1)\n",
      "Requirement already satisfied: pyobjc-framework-GameController==10.1 in /Users/louislecouturier/miniconda3/envs/kinected/lib/python3.11/site-packages (from pyobjc->keyboard->-r requirements.txt (line 9)) (10.1)\n",
      "Requirement already satisfied: pyobjc-framework-MapKit==10.1 in /Users/louislecouturier/miniconda3/envs/kinected/lib/python3.11/site-packages (from pyobjc->keyboard->-r requirements.txt (line 9)) (10.1)\n",
      "Requirement already satisfied: pyobjc-framework-MediaAccessibility==10.1 in /Users/louislecouturier/miniconda3/envs/kinected/lib/python3.11/site-packages (from pyobjc->keyboard->-r requirements.txt (line 9)) (10.1)\n",
      "Requirement already satisfied: pyobjc-framework-MediaLibrary==10.1 in /Users/louislecouturier/miniconda3/envs/kinected/lib/python3.11/site-packages (from pyobjc->keyboard->-r requirements.txt (line 9)) (10.1)\n",
      "Requirement already satisfied: pyobjc-framework-MediaToolbox==10.1 in /Users/louislecouturier/miniconda3/envs/kinected/lib/python3.11/site-packages (from pyobjc->keyboard->-r requirements.txt (line 9)) (10.1)\n",
      "Requirement already satisfied: pyobjc-framework-SpriteKit==10.1 in /Users/louislecouturier/miniconda3/envs/kinected/lib/python3.11/site-packages (from pyobjc->keyboard->-r requirements.txt (line 9)) (10.1)\n",
      "Requirement already satisfied: pyobjc-framework-CloudKit==10.1 in /Users/louislecouturier/miniconda3/envs/kinected/lib/python3.11/site-packages (from pyobjc->keyboard->-r requirements.txt (line 9)) (10.1)\n",
      "Requirement already satisfied: pyobjc-framework-CoreBluetooth==10.1 in /Users/louislecouturier/miniconda3/envs/kinected/lib/python3.11/site-packages (from pyobjc->keyboard->-r requirements.txt (line 9)) (10.1)\n",
      "Requirement already satisfied: pyobjc-framework-CryptoTokenKit==10.1 in /Users/louislecouturier/miniconda3/envs/kinected/lib/python3.11/site-packages (from pyobjc->keyboard->-r requirements.txt (line 9)) (10.1)\n",
      "Requirement already satisfied: pyobjc-framework-FinderSync==10.1 in /Users/louislecouturier/miniconda3/envs/kinected/lib/python3.11/site-packages (from pyobjc->keyboard->-r requirements.txt (line 9)) (10.1)\n",
      "Requirement already satisfied: pyobjc-framework-LocalAuthentication==10.1 in /Users/louislecouturier/miniconda3/envs/kinected/lib/python3.11/site-packages (from pyobjc->keyboard->-r requirements.txt (line 9)) (10.1)\n",
      "Requirement already satisfied: pyobjc-framework-MultipeerConnectivity==10.1 in /Users/louislecouturier/miniconda3/envs/kinected/lib/python3.11/site-packages (from pyobjc->keyboard->-r requirements.txt (line 9)) (10.1)\n",
      "Requirement already satisfied: pyobjc-framework-NotificationCenter==10.1 in /Users/louislecouturier/miniconda3/envs/kinected/lib/python3.11/site-packages (from pyobjc->keyboard->-r requirements.txt (line 9)) (10.1)\n",
      "Requirement already satisfied: pyobjc-framework-Contacts==10.1 in /Users/louislecouturier/miniconda3/envs/kinected/lib/python3.11/site-packages (from pyobjc->keyboard->-r requirements.txt (line 9)) (10.1)\n",
      "Requirement already satisfied: pyobjc-framework-ContactsUI==10.1 in /Users/louislecouturier/miniconda3/envs/kinected/lib/python3.11/site-packages (from pyobjc->keyboard->-r requirements.txt (line 9)) (10.1)\n",
      "Requirement already satisfied: pyobjc-framework-Metal==10.1 in /Users/louislecouturier/miniconda3/envs/kinected/lib/python3.11/site-packages (from pyobjc->keyboard->-r requirements.txt (line 9)) (10.1)\n",
      "Requirement already satisfied: pyobjc-framework-MetalKit==10.1 in /Users/louislecouturier/miniconda3/envs/kinected/lib/python3.11/site-packages (from pyobjc->keyboard->-r requirements.txt (line 9)) (10.1)\n",
      "Requirement already satisfied: pyobjc-framework-ModelIO==10.1 in /Users/louislecouturier/miniconda3/envs/kinected/lib/python3.11/site-packages (from pyobjc->keyboard->-r requirements.txt (line 9)) (10.1)\n",
      "Requirement already satisfied: pyobjc-framework-NetworkExtension==10.1 in /Users/louislecouturier/miniconda3/envs/kinected/lib/python3.11/site-packages (from pyobjc->keyboard->-r requirements.txt (line 9)) (10.1)\n",
      "Requirement already satisfied: pyobjc-framework-Photos==10.1 in /Users/louislecouturier/miniconda3/envs/kinected/lib/python3.11/site-packages (from pyobjc->keyboard->-r requirements.txt (line 9)) (10.1)\n",
      "Requirement already satisfied: pyobjc-framework-PhotosUI==10.1 in /Users/louislecouturier/miniconda3/envs/kinected/lib/python3.11/site-packages (from pyobjc->keyboard->-r requirements.txt (line 9)) (10.1)\n",
      "Requirement already satisfied: pyobjc-framework-GameplayKit==10.1 in /Users/louislecouturier/miniconda3/envs/kinected/lib/python3.11/site-packages (from pyobjc->keyboard->-r requirements.txt (line 9)) (10.1)\n",
      "Requirement already satisfied: pyobjc-framework-Intents==10.1 in /Users/louislecouturier/miniconda3/envs/kinected/lib/python3.11/site-packages (from pyobjc->keyboard->-r requirements.txt (line 9)) (10.1)\n",
      "Requirement already satisfied: pyobjc-framework-MediaPlayer==10.1 in /Users/louislecouturier/miniconda3/envs/kinected/lib/python3.11/site-packages (from pyobjc->keyboard->-r requirements.txt (line 9)) (10.1)\n",
      "Requirement already satisfied: pyobjc-framework-SafariServices==10.1 in /Users/louislecouturier/miniconda3/envs/kinected/lib/python3.11/site-packages (from pyobjc->keyboard->-r requirements.txt (line 9)) (10.1)\n",
      "Requirement already satisfied: pyobjc-framework-ColorSync==10.1 in /Users/louislecouturier/miniconda3/envs/kinected/lib/python3.11/site-packages (from pyobjc->keyboard->-r requirements.txt (line 9)) (10.1)\n",
      "Requirement already satisfied: pyobjc-framework-CoreML==10.1 in /Users/louislecouturier/miniconda3/envs/kinected/lib/python3.11/site-packages (from pyobjc->keyboard->-r requirements.txt (line 9)) (10.1)\n",
      "Requirement already satisfied: pyobjc-framework-CoreSpotlight==10.1 in /Users/louislecouturier/miniconda3/envs/kinected/lib/python3.11/site-packages (from pyobjc->keyboard->-r requirements.txt (line 9)) (10.1)\n",
      "Requirement already satisfied: pyobjc-framework-ExternalAccessory==10.1 in /Users/louislecouturier/miniconda3/envs/kinected/lib/python3.11/site-packages (from pyobjc->keyboard->-r requirements.txt (line 9)) (10.1)\n",
      "Requirement already satisfied: pyobjc-framework-MetalPerformanceShaders==10.1 in /Users/louislecouturier/miniconda3/envs/kinected/lib/python3.11/site-packages (from pyobjc->keyboard->-r requirements.txt (line 9)) (10.1)\n",
      "Requirement already satisfied: pyobjc-framework-Vision==10.1 in /Users/louislecouturier/miniconda3/envs/kinected/lib/python3.11/site-packages (from pyobjc->keyboard->-r requirements.txt (line 9)) (10.1)\n",
      "Requirement already satisfied: pyobjc-framework-AdSupport==10.1 in /Users/louislecouturier/miniconda3/envs/kinected/lib/python3.11/site-packages (from pyobjc->keyboard->-r requirements.txt (line 9)) (10.1)\n",
      "Requirement already satisfied: pyobjc-framework-BusinessChat==10.1 in /Users/louislecouturier/miniconda3/envs/kinected/lib/python3.11/site-packages (from pyobjc->keyboard->-r requirements.txt (line 9)) (10.1)\n",
      "Requirement already satisfied: pyobjc-framework-NaturalLanguage==10.1 in /Users/louislecouturier/miniconda3/envs/kinected/lib/python3.11/site-packages (from pyobjc->keyboard->-r requirements.txt (line 9)) (10.1)\n",
      "Requirement already satisfied: pyobjc-framework-Network==10.1 in /Users/louislecouturier/miniconda3/envs/kinected/lib/python3.11/site-packages (from pyobjc->keyboard->-r requirements.txt (line 9)) (10.1)\n",
      "Requirement already satisfied: pyobjc-framework-UserNotifications==10.1 in /Users/louislecouturier/miniconda3/envs/kinected/lib/python3.11/site-packages (from pyobjc->keyboard->-r requirements.txt (line 9)) (10.1)\n",
      "Requirement already satisfied: pyobjc-framework-VideoSubscriberAccount==10.1 in /Users/louislecouturier/miniconda3/envs/kinected/lib/python3.11/site-packages (from pyobjc->keyboard->-r requirements.txt (line 9)) (10.1)\n",
      "Requirement already satisfied: pyobjc-framework-AuthenticationServices==10.1 in /Users/louislecouturier/miniconda3/envs/kinected/lib/python3.11/site-packages (from pyobjc->keyboard->-r requirements.txt (line 9)) (10.1)\n",
      "Requirement already satisfied: pyobjc-framework-AutomaticAssessmentConfiguration==10.1 in /Users/louislecouturier/miniconda3/envs/kinected/lib/python3.11/site-packages (from pyobjc->keyboard->-r requirements.txt (line 9)) (10.1)\n",
      "Requirement already satisfied: pyobjc-framework-CoreHaptics==10.1 in /Users/louislecouturier/miniconda3/envs/kinected/lib/python3.11/site-packages (from pyobjc->keyboard->-r requirements.txt (line 9)) (10.1)\n",
      "Requirement already satisfied: pyobjc-framework-CoreMotion==10.1 in /Users/louislecouturier/miniconda3/envs/kinected/lib/python3.11/site-packages (from pyobjc->keyboard->-r requirements.txt (line 9)) (10.1)\n",
      "Requirement already satisfied: pyobjc-framework-DeviceCheck==10.1 in /Users/louislecouturier/miniconda3/envs/kinected/lib/python3.11/site-packages (from pyobjc->keyboard->-r requirements.txt (line 9)) (10.1)\n",
      "Requirement already satisfied: pyobjc-framework-ExecutionPolicy==10.1 in /Users/louislecouturier/miniconda3/envs/kinected/lib/python3.11/site-packages (from pyobjc->keyboard->-r requirements.txt (line 9)) (10.1)\n",
      "Requirement already satisfied: pyobjc-framework-FileProvider==10.1 in /Users/louislecouturier/miniconda3/envs/kinected/lib/python3.11/site-packages (from pyobjc->keyboard->-r requirements.txt (line 9)) (10.1)\n",
      "Requirement already satisfied: pyobjc-framework-FileProviderUI==10.1 in /Users/louislecouturier/miniconda3/envs/kinected/lib/python3.11/site-packages (from pyobjc->keyboard->-r requirements.txt (line 9)) (10.1)\n",
      "Requirement already satisfied: pyobjc-framework-LinkPresentation==10.1 in /Users/louislecouturier/miniconda3/envs/kinected/lib/python3.11/site-packages (from pyobjc->keyboard->-r requirements.txt (line 9)) (10.1)\n",
      "Requirement already satisfied: pyobjc-framework-OSLog==10.1 in /Users/louislecouturier/miniconda3/envs/kinected/lib/python3.11/site-packages (from pyobjc->keyboard->-r requirements.txt (line 9)) (10.1)\n",
      "Requirement already satisfied: pyobjc-framework-PencilKit==10.1 in /Users/louislecouturier/miniconda3/envs/kinected/lib/python3.11/site-packages (from pyobjc->keyboard->-r requirements.txt (line 9)) (10.1)\n",
      "Requirement already satisfied: pyobjc-framework-PushKit==10.1 in /Users/louislecouturier/miniconda3/envs/kinected/lib/python3.11/site-packages (from pyobjc->keyboard->-r requirements.txt (line 9)) (10.1)\n",
      "Requirement already satisfied: pyobjc-framework-QuickLookThumbnailing==10.1 in /Users/louislecouturier/miniconda3/envs/kinected/lib/python3.11/site-packages (from pyobjc->keyboard->-r requirements.txt (line 9)) (10.1)\n",
      "Requirement already satisfied: pyobjc-framework-Speech==10.1 in /Users/louislecouturier/miniconda3/envs/kinected/lib/python3.11/site-packages (from pyobjc->keyboard->-r requirements.txt (line 9)) (10.1)\n",
      "Requirement already satisfied: pyobjc-framework-SoundAnalysis==10.1 in /Users/louislecouturier/miniconda3/envs/kinected/lib/python3.11/site-packages (from pyobjc->keyboard->-r requirements.txt (line 9)) (10.1)\n",
      "Requirement already satisfied: pyobjc-framework-SystemExtensions==10.1 in /Users/louislecouturier/miniconda3/envs/kinected/lib/python3.11/site-packages (from pyobjc->keyboard->-r requirements.txt (line 9)) (10.1)\n",
      "Requirement already satisfied: pyobjc-framework-Accessibility==10.1 in /Users/louislecouturier/miniconda3/envs/kinected/lib/python3.11/site-packages (from pyobjc->keyboard->-r requirements.txt (line 9)) (10.1)\n",
      "Requirement already satisfied: pyobjc-framework-AdServices==10.1 in /Users/louislecouturier/miniconda3/envs/kinected/lib/python3.11/site-packages (from pyobjc->keyboard->-r requirements.txt (line 9)) (10.1)\n",
      "Requirement already satisfied: pyobjc-framework-AppTrackingTransparency==10.1 in /Users/louislecouturier/miniconda3/envs/kinected/lib/python3.11/site-packages (from pyobjc->keyboard->-r requirements.txt (line 9)) (10.1)\n",
      "Requirement already satisfied: pyobjc-framework-CallKit==10.1 in /Users/louislecouturier/miniconda3/envs/kinected/lib/python3.11/site-packages (from pyobjc->keyboard->-r requirements.txt (line 9)) (10.1)\n",
      "Requirement already satisfied: pyobjc-framework-ClassKit==10.1 in /Users/louislecouturier/miniconda3/envs/kinected/lib/python3.11/site-packages (from pyobjc->keyboard->-r requirements.txt (line 9)) (10.1)\n",
      "Requirement already satisfied: pyobjc-framework-KernelManagement==10.1 in /Users/louislecouturier/miniconda3/envs/kinected/lib/python3.11/site-packages (from pyobjc->keyboard->-r requirements.txt (line 9)) (10.1)\n",
      "Requirement already satisfied: pyobjc-framework-MetalPerformanceShadersGraph==10.1 in /Users/louislecouturier/miniconda3/envs/kinected/lib/python3.11/site-packages (from pyobjc->keyboard->-r requirements.txt (line 9)) (10.1)\n",
      "Requirement already satisfied: pyobjc-framework-MLCompute==10.1 in /Users/louislecouturier/miniconda3/envs/kinected/lib/python3.11/site-packages (from pyobjc->keyboard->-r requirements.txt (line 9)) (10.1)\n",
      "Requirement already satisfied: pyobjc-framework-PassKit==10.1 in /Users/louislecouturier/miniconda3/envs/kinected/lib/python3.11/site-packages (from pyobjc->keyboard->-r requirements.txt (line 9)) (10.1)\n",
      "Requirement already satisfied: pyobjc-framework-ReplayKit==10.1 in /Users/louislecouturier/miniconda3/envs/kinected/lib/python3.11/site-packages (from pyobjc->keyboard->-r requirements.txt (line 9)) (10.1)\n",
      "Requirement already satisfied: pyobjc-framework-ScreenTime==10.1 in /Users/louislecouturier/miniconda3/envs/kinected/lib/python3.11/site-packages (from pyobjc->keyboard->-r requirements.txt (line 9)) (10.1)\n",
      "Requirement already satisfied: pyobjc-framework-UniformTypeIdentifiers==10.1 in /Users/louislecouturier/miniconda3/envs/kinected/lib/python3.11/site-packages (from pyobjc->keyboard->-r requirements.txt (line 9)) (10.1)\n",
      "Requirement already satisfied: pyobjc-framework-UserNotificationsUI==10.1 in /Users/louislecouturier/miniconda3/envs/kinected/lib/python3.11/site-packages (from pyobjc->keyboard->-r requirements.txt (line 9)) (10.1)\n",
      "Requirement already satisfied: pyobjc-framework-Virtualization==10.1 in /Users/louislecouturier/miniconda3/envs/kinected/lib/python3.11/site-packages (from pyobjc->keyboard->-r requirements.txt (line 9)) (10.1)\n",
      "Requirement already satisfied: pyobjc-framework-DataDetection==10.1 in /Users/louislecouturier/miniconda3/envs/kinected/lib/python3.11/site-packages (from pyobjc->keyboard->-r requirements.txt (line 9)) (10.1)\n",
      "Requirement already satisfied: pyobjc-framework-IntentsUI==10.1 in /Users/louislecouturier/miniconda3/envs/kinected/lib/python3.11/site-packages (from pyobjc->keyboard->-r requirements.txt (line 9)) (10.1)\n",
      "Requirement already satisfied: pyobjc-framework-LocalAuthenticationEmbeddedUI==10.1 in /Users/louislecouturier/miniconda3/envs/kinected/lib/python3.11/site-packages (from pyobjc->keyboard->-r requirements.txt (line 9)) (10.1)\n",
      "Requirement already satisfied: pyobjc-framework-MailKit==10.1 in /Users/louislecouturier/miniconda3/envs/kinected/lib/python3.11/site-packages (from pyobjc->keyboard->-r requirements.txt (line 9)) (10.1)\n",
      "Requirement already satisfied: pyobjc-framework-MetricKit==10.1 in /Users/louislecouturier/miniconda3/envs/kinected/lib/python3.11/site-packages (from pyobjc->keyboard->-r requirements.txt (line 9)) (10.1)\n",
      "Requirement already satisfied: pyobjc-framework-PHASE==10.1 in /Users/louislecouturier/miniconda3/envs/kinected/lib/python3.11/site-packages (from pyobjc->keyboard->-r requirements.txt (line 9)) (10.1)\n",
      "Requirement already satisfied: pyobjc-framework-ShazamKit==10.1 in /Users/louislecouturier/miniconda3/envs/kinected/lib/python3.11/site-packages (from pyobjc->keyboard->-r requirements.txt (line 9)) (10.1)\n",
      "Requirement already satisfied: pyobjc-framework-ScreenCaptureKit==10.1 in /Users/louislecouturier/miniconda3/envs/kinected/lib/python3.11/site-packages (from pyobjc->keyboard->-r requirements.txt (line 9)) (10.1)\n",
      "Requirement already satisfied: pyobjc-framework-AVRouting==10.1 in /Users/louislecouturier/miniconda3/envs/kinected/lib/python3.11/site-packages (from pyobjc->keyboard->-r requirements.txt (line 9)) (10.1)\n",
      "Requirement already satisfied: pyobjc-framework-BackgroundAssets==10.1 in /Users/louislecouturier/miniconda3/envs/kinected/lib/python3.11/site-packages (from pyobjc->keyboard->-r requirements.txt (line 9)) (10.1)\n",
      "Requirement already satisfied: pyobjc-framework-ExtensionKit==10.1 in /Users/louislecouturier/miniconda3/envs/kinected/lib/python3.11/site-packages (from pyobjc->keyboard->-r requirements.txt (line 9)) (10.1)\n",
      "Requirement already satisfied: pyobjc-framework-HealthKit==10.1 in /Users/louislecouturier/miniconda3/envs/kinected/lib/python3.11/site-packages (from pyobjc->keyboard->-r requirements.txt (line 9)) (10.1)\n",
      "Requirement already satisfied: pyobjc-framework-MetalFX==10.1 in /Users/louislecouturier/miniconda3/envs/kinected/lib/python3.11/site-packages (from pyobjc->keyboard->-r requirements.txt (line 9)) (10.1)\n",
      "Requirement already satisfied: pyobjc-framework-SafetyKit==10.1 in /Users/louislecouturier/miniconda3/envs/kinected/lib/python3.11/site-packages (from pyobjc->keyboard->-r requirements.txt (line 9)) (10.1)\n",
      "Requirement already satisfied: pyobjc-framework-SharedWithYouCore==10.1 in /Users/louislecouturier/miniconda3/envs/kinected/lib/python3.11/site-packages (from pyobjc->keyboard->-r requirements.txt (line 9)) (10.1)\n",
      "Requirement already satisfied: pyobjc-framework-SharedWithYou==10.1 in /Users/louislecouturier/miniconda3/envs/kinected/lib/python3.11/site-packages (from pyobjc->keyboard->-r requirements.txt (line 9)) (10.1)\n",
      "Requirement already satisfied: pyobjc-framework-ThreadNetwork==10.1 in /Users/louislecouturier/miniconda3/envs/kinected/lib/python3.11/site-packages (from pyobjc->keyboard->-r requirements.txt (line 9)) (10.1)\n",
      "Requirement already satisfied: pyobjc-framework-Cinematic==10.1 in /Users/louislecouturier/miniconda3/envs/kinected/lib/python3.11/site-packages (from pyobjc->keyboard->-r requirements.txt (line 9)) (10.1)\n",
      "Requirement already satisfied: pyobjc-framework-SensitiveContentAnalysis==10.1 in /Users/louislecouturier/miniconda3/envs/kinected/lib/python3.11/site-packages (from pyobjc->keyboard->-r requirements.txt (line 9)) (10.1)\n",
      "Requirement already satisfied: pyobjc-framework-Symbols==10.1 in /Users/louislecouturier/miniconda3/envs/kinected/lib/python3.11/site-packages (from pyobjc->keyboard->-r requirements.txt (line 9)) (10.1)\n",
      "Requirement already satisfied: pyobjc-framework-CalendarStore==10.1 in /Users/louislecouturier/miniconda3/envs/kinected/lib/python3.11/site-packages (from pyobjc->keyboard->-r requirements.txt (line 9)) (10.1)\n",
      "Requirement already satisfied: pyobjc-framework-Collaboration==10.1 in /Users/louislecouturier/miniconda3/envs/kinected/lib/python3.11/site-packages (from pyobjc->keyboard->-r requirements.txt (line 9)) (10.1)\n",
      "Requirement already satisfied: pyobjc-framework-DictionaryServices==10.1 in /Users/louislecouturier/miniconda3/envs/kinected/lib/python3.11/site-packages (from pyobjc->keyboard->-r requirements.txt (line 9)) (10.1)\n",
      "Requirement already satisfied: pyobjc-framework-FSEvents==10.1 in /Users/louislecouturier/miniconda3/envs/kinected/lib/python3.11/site-packages (from pyobjc->keyboard->-r requirements.txt (line 9)) (10.1)\n",
      "Requirement already satisfied: pyobjc-framework-InputMethodKit==10.1 in /Users/louislecouturier/miniconda3/envs/kinected/lib/python3.11/site-packages (from pyobjc->keyboard->-r requirements.txt (line 9)) (10.1)\n",
      "Requirement already satisfied: pyobjc-framework-InstantMessage==10.1 in /Users/louislecouturier/miniconda3/envs/kinected/lib/python3.11/site-packages (from pyobjc->keyboard->-r requirements.txt (line 9)) (10.1)\n",
      "Requirement already satisfied: pyobjc-framework-ScriptingBridge==10.1 in /Users/louislecouturier/miniconda3/envs/kinected/lib/python3.11/site-packages (from pyobjc->keyboard->-r requirements.txt (line 9)) (10.1)\n",
      "Requirement already satisfied: wheel<1.0,>=0.23.0 in /Users/louislecouturier/miniconda3/envs/kinected/lib/python3.11/site-packages (from astunparse>=1.6.0->tensorflow-macos==2.15.0->tensorflow->-r requirements.txt (line 7)) (0.42.0)\n",
      "Requirement already satisfied: pycparser in /Users/louislecouturier/miniconda3/envs/kinected/lib/python3.11/site-packages (from CFFI>=1.0->sounddevice>=0.4.4->mediapipe->-r requirements.txt (line 3)) (2.21)\n",
      "Requirement already satisfied: google-auth<3,>=1.6.3 in /Users/louislecouturier/miniconda3/envs/kinected/lib/python3.11/site-packages (from tensorboard<2.16,>=2.15->tensorflow-macos==2.15.0->tensorflow->-r requirements.txt (line 7)) (2.25.2)\n",
      "Requirement already satisfied: google-auth-oauthlib<2,>=0.5 in /Users/louislecouturier/miniconda3/envs/kinected/lib/python3.11/site-packages (from tensorboard<2.16,>=2.15->tensorflow-macos==2.15.0->tensorflow->-r requirements.txt (line 7)) (1.2.0)\n",
      "Requirement already satisfied: markdown>=2.6.8 in /Users/louislecouturier/miniconda3/envs/kinected/lib/python3.11/site-packages (from tensorboard<2.16,>=2.15->tensorflow-macos==2.15.0->tensorflow->-r requirements.txt (line 7)) (3.5.1)\n",
      "Requirement already satisfied: requests<3,>=2.21.0 in /Users/louislecouturier/miniconda3/envs/kinected/lib/python3.11/site-packages (from tensorboard<2.16,>=2.15->tensorflow-macos==2.15.0->tensorflow->-r requirements.txt (line 7)) (2.31.0)\n",
      "Requirement already satisfied: tensorboard-data-server<0.8.0,>=0.7.0 in /Users/louislecouturier/miniconda3/envs/kinected/lib/python3.11/site-packages (from tensorboard<2.16,>=2.15->tensorflow-macos==2.15.0->tensorflow->-r requirements.txt (line 7)) (0.7.2)\n",
      "Requirement already satisfied: werkzeug>=1.0.1 in /Users/louislecouturier/miniconda3/envs/kinected/lib/python3.11/site-packages (from tensorboard<2.16,>=2.15->tensorflow-macos==2.15.0->tensorflow->-r requirements.txt (line 7)) (3.0.1)\n",
      "Requirement already satisfied: cachetools<6.0,>=2.0.0 in /Users/louislecouturier/miniconda3/envs/kinected/lib/python3.11/site-packages (from google-auth<3,>=1.6.3->tensorboard<2.16,>=2.15->tensorflow-macos==2.15.0->tensorflow->-r requirements.txt (line 7)) (5.3.2)\n",
      "Requirement already satisfied: pyasn1-modules>=0.2.1 in /Users/louislecouturier/miniconda3/envs/kinected/lib/python3.11/site-packages (from google-auth<3,>=1.6.3->tensorboard<2.16,>=2.15->tensorflow-macos==2.15.0->tensorflow->-r requirements.txt (line 7)) (0.3.0)\n",
      "Requirement already satisfied: rsa<5,>=3.1.4 in /Users/louislecouturier/miniconda3/envs/kinected/lib/python3.11/site-packages (from google-auth<3,>=1.6.3->tensorboard<2.16,>=2.15->tensorflow-macos==2.15.0->tensorflow->-r requirements.txt (line 7)) (4.9)\n",
      "Requirement already satisfied: requests-oauthlib>=0.7.0 in /Users/louislecouturier/miniconda3/envs/kinected/lib/python3.11/site-packages (from google-auth-oauthlib<2,>=0.5->tensorboard<2.16,>=2.15->tensorflow-macos==2.15.0->tensorflow->-r requirements.txt (line 7)) (1.3.1)\n",
      "Requirement already satisfied: charset-normalizer<4,>=2 in /Users/louislecouturier/miniconda3/envs/kinected/lib/python3.11/site-packages (from requests<3,>=2.21.0->tensorboard<2.16,>=2.15->tensorflow-macos==2.15.0->tensorflow->-r requirements.txt (line 7)) (2.0.4)\n",
      "Requirement already satisfied: idna<4,>=2.5 in /Users/louislecouturier/miniconda3/envs/kinected/lib/python3.11/site-packages (from requests<3,>=2.21.0->tensorboard<2.16,>=2.15->tensorflow-macos==2.15.0->tensorflow->-r requirements.txt (line 7)) (3.4)\n",
      "Requirement already satisfied: urllib3<3,>=1.21.1 in /Users/louislecouturier/miniconda3/envs/kinected/lib/python3.11/site-packages (from requests<3,>=2.21.0->tensorboard<2.16,>=2.15->tensorflow-macos==2.15.0->tensorflow->-r requirements.txt (line 7)) (1.26.18)\n",
      "Requirement already satisfied: certifi>=2017.4.17 in /Users/louislecouturier/miniconda3/envs/kinected/lib/python3.11/site-packages (from requests<3,>=2.21.0->tensorboard<2.16,>=2.15->tensorflow-macos==2.15.0->tensorflow->-r requirements.txt (line 7)) (2023.11.17)\n",
      "Requirement already satisfied: MarkupSafe>=2.1.1 in /Users/louislecouturier/miniconda3/envs/kinected/lib/python3.11/site-packages (from werkzeug>=1.0.1->tensorboard<2.16,>=2.15->tensorflow-macos==2.15.0->tensorflow->-r requirements.txt (line 7)) (2.1.1)\n",
      "Requirement already satisfied: pyasn1<0.6.0,>=0.4.6 in /Users/louislecouturier/miniconda3/envs/kinected/lib/python3.11/site-packages (from pyasn1-modules>=0.2.1->google-auth<3,>=1.6.3->tensorboard<2.16,>=2.15->tensorflow-macos==2.15.0->tensorflow->-r requirements.txt (line 7)) (0.5.1)\n",
      "Requirement already satisfied: oauthlib>=3.0.0 in /Users/louislecouturier/miniconda3/envs/kinected/lib/python3.11/site-packages (from requests-oauthlib>=0.7.0->google-auth-oauthlib<2,>=0.5->tensorboard<2.16,>=2.15->tensorflow-macos==2.15.0->tensorflow->-r requirements.txt (line 7)) (3.2.2)\n",
      "Note: you may need to restart the kernel to use updated packages.\n"
     ]
    }
   ],
   "source": [
    "pip install -r requirements.txt"
   ]
  },
  {
   "cell_type": "markdown",
   "metadata": {},
   "source": [
    "## Import libraries\n"
   ]
  },
  {
   "cell_type": "code",
   "execution_count": 103,
   "metadata": {},
   "outputs": [],
   "source": [
    "import mediapipe as mp\n",
    "import os\n",
    "import time\n",
    "import logging\n",
    "from joblib import Parallel, delayed"
   ]
  },
  {
   "cell_type": "markdown",
   "metadata": {},
   "source": [
    "## Mediapipe `hand_landmarks` detection\n"
   ]
  },
  {
   "cell_type": "code",
   "execution_count": 104,
   "metadata": {},
   "outputs": [],
   "source": [
    "# Désactiver les logs de MediaPipe en définissant le niveau de journalisation sur CRITICAL\n",
    "logging.getLogger(\"mediapipe\").setLevel(logging.ERROR)"
   ]
  },
  {
   "cell_type": "code",
   "execution_count": 105,
   "metadata": {},
   "outputs": [],
   "source": [
    "mp_holistic = mp.solutions.holistic\n",
    "mp_drawing = mp.solutions.drawing_utils"
   ]
  },
  {
   "cell_type": "code",
   "execution_count": 106,
   "metadata": {},
   "outputs": [],
   "source": [
    "mp_names = [\n",
    "    \"THUMB_CMC\",\n",
    "    \"THUMB_MCP\",\n",
    "    \"THUMB_IP\",\n",
    "    \"THUMB_TIP\",\n",
    "    \"INDEX_FINGER_MCP\",\n",
    "    \"INDEX_FINGER_PIP\",\n",
    "    \"INDEX_FINGER_DIP\",\n",
    "    \"INDEX_FINGER_TIP\",\n",
    "    \"MIDDLE_FINGER_MCP\",\n",
    "    \"MIDDLE_FINGER_PIP\",\n",
    "    \"MIDDLE_FINGER_DIP\",\n",
    "    \"MIDDLE_FINGER_TIP\",\n",
    "    \"RING_FINGER_MCP\",\n",
    "    \"RING_FINGER_PIP\",\n",
    "    \"RING_FINGER_DIP\",\n",
    "    \"RING_FINGER_TIP\",\n",
    "    \"PINKY_MCP\",\n",
    "    \"PINKY_PIP\",\n",
    "    \"PINKY_DIP\",\n",
    "    \"PINKY_TIP\",\n",
    "]"
   ]
  },
  {
   "cell_type": "code",
   "execution_count": 107,
   "metadata": {},
   "outputs": [],
   "source": [
    "def get_landmarks(image, holistic):\n",
    "    results = holistic.process(image)\n",
    "\n",
    "    if results.left_hand_landmarks and results.right_hand_landmarks:\n",
    "        return None, None\n",
    "\n",
    "    if results.left_hand_landmarks:\n",
    "        return [1, 0], results.left_hand_landmarks\n",
    "\n",
    "    if results.right_hand_landmarks:\n",
    "        return [0, 1], results.right_hand_landmarks\n",
    "\n",
    "    return None, None"
   ]
  },
  {
   "cell_type": "markdown",
   "metadata": {},
   "source": [
    "# Main Program\n"
   ]
  },
  {
   "cell_type": "markdown",
   "metadata": {},
   "source": [
    "### Tweak parameters\n"
   ]
  },
  {
   "cell_type": "code",
   "execution_count": 108,
   "metadata": {},
   "outputs": [],
   "source": [
    "DATASET_FOLDER_PATH = \"./datasets/hagrid\"\n",
    "DATASET_FILENAME = \"test_dataset.csv\"\n",
    "\n",
    "MIN_DETECTION_CONFIDENCE = 0.3\n",
    "MP_MODEL_COMPLEXITY = 0"
   ]
  },
  {
   "cell_type": "code",
   "execution_count": 109,
   "metadata": {},
   "outputs": [],
   "source": [
    "TEST_MODE = False\n",
    "\n",
    "TEST_IMAGE_PATH = \"./datasets/hagrid/palm/0b0d717b-0205-4dfc-a0ed-0c93b6bd5cd8.jpg\"\n",
    "TEST_IMAGE_PATH = \"./datasets/hagrid/palm/00a0d3e0-9fb4-49c5-8a0c-3e0dbe2b76bf.jpg\""
   ]
  },
  {
   "cell_type": "code",
   "execution_count": 110,
   "metadata": {},
   "outputs": [],
   "source": [
    "from turtle import st\n",
    "from helpers.camera import close_image\n",
    "from helpers.camera import get_close_event\n",
    "from helpers.camera import show_image\n",
    "from helpers.computations import compute_distances_angles_from_wrist\n",
    "from helpers.mediapipe import draw_landmarks\n",
    "from helpers.camera import open_image\n",
    "\n",
    "\n",
    "def test_flow(holistic):\n",
    "    image = open_image(TEST_IMAGE_PATH)\n",
    "\n",
    "    # Get landmarks\n",
    "    hands, landmarks = get_landmarks(image, holistic)\n",
    "    data = []\n",
    "\n",
    "    if hands and landmarks:\n",
    "        image = draw_landmarks(image, landmarks, mp_holistic, mp_drawing)\n",
    "        data += hands\n",
    "        data += compute_distances_angles_from_wrist(landmarks.landmark)\n",
    "\n",
    "    show_image(image)\n",
    "\n",
    "    while True:\n",
    "        if get_close_event():\n",
    "            break\n",
    "\n",
    "    close_image()\n",
    "\n",
    "\n",
    "if TEST_MODE:\n",
    "    with mp_holistic.Holistic(\n",
    "        min_detection_confidence=MIN_DETECTION_CONFIDENCE,\n",
    "        model_complexity=MP_MODEL_COMPLEXITY,\n",
    "        static_image_mode=True,\n",
    "    ) as holistic:\n",
    "        test_flow(holistic)"
   ]
  },
  {
   "cell_type": "code",
   "execution_count": 111,
   "metadata": {},
   "outputs": [
    {
     "name": "stdout",
     "output_type": "stream",
     "text": [
      "dataset columns : ['LEFT_HAND', 'RIGHT_HAND', 'THUMB_CMC_DISTANCE_FROM_WRIST', 'THUMB_MCP_DISTANCE_FROM_WRIST', 'THUMB_IP_DISTANCE_FROM_WRIST', 'THUMB_TIP_DISTANCE_FROM_WRIST', 'INDEX_FINGER_MCP_DISTANCE_FROM_WRIST', 'INDEX_FINGER_PIP_DISTANCE_FROM_WRIST', 'INDEX_FINGER_DIP_DISTANCE_FROM_WRIST', 'INDEX_FINGER_TIP_DISTANCE_FROM_WRIST', 'MIDDLE_FINGER_MCP_DISTANCE_FROM_WRIST', 'MIDDLE_FINGER_PIP_DISTANCE_FROM_WRIST', 'MIDDLE_FINGER_DIP_DISTANCE_FROM_WRIST', 'MIDDLE_FINGER_TIP_DISTANCE_FROM_WRIST', 'RING_FINGER_MCP_DISTANCE_FROM_WRIST', 'RING_FINGER_PIP_DISTANCE_FROM_WRIST', 'RING_FINGER_DIP_DISTANCE_FROM_WRIST', 'RING_FINGER_TIP_DISTANCE_FROM_WRIST', 'PINKY_MCP_DISTANCE_FROM_WRIST', 'PINKY_PIP_DISTANCE_FROM_WRIST', 'PINKY_DIP_DISTANCE_FROM_WRIST', 'PINKY_TIP_DISTANCE_FROM_WRIST', 'THUMB_CMC_ANGLE_FROM_WRIST', 'THUMB_MCP_ANGLE_FROM_WRIST', 'THUMB_IP_ANGLE_FROM_WRIST', 'THUMB_TIP_ANGLE_FROM_WRIST', 'INDEX_FINGER_MCP_ANGLE_FROM_WRIST', 'INDEX_FINGER_PIP_ANGLE_FROM_WRIST', 'INDEX_FINGER_DIP_ANGLE_FROM_WRIST', 'INDEX_FINGER_TIP_ANGLE_FROM_WRIST', 'MIDDLE_FINGER_MCP_ANGLE_FROM_WRIST', 'MIDDLE_FINGER_PIP_ANGLE_FROM_WRIST', 'MIDDLE_FINGER_DIP_ANGLE_FROM_WRIST', 'MIDDLE_FINGER_TIP_ANGLE_FROM_WRIST', 'RING_FINGER_MCP_ANGLE_FROM_WRIST', 'RING_FINGER_PIP_ANGLE_FROM_WRIST', 'RING_FINGER_DIP_ANGLE_FROM_WRIST', 'RING_FINGER_TIP_ANGLE_FROM_WRIST', 'PINKY_MCP_ANGLE_FROM_WRIST', 'PINKY_PIP_ANGLE_FROM_WRIST', 'PINKY_DIP_ANGLE_FROM_WRIST', 'PINKY_TIP_ANGLE_FROM_WRIST', 'label']\n"
     ]
    }
   ],
   "source": [
    "from helpers.csv_utils import create_csv\n",
    "\n",
    "\n",
    "columns = [\"LEFT_HAND\", \"RIGHT_HAND\"]\n",
    "columns += [name + \"_DISTANCE_FROM_WRIST\" for name in mp_names]\n",
    "columns += [name + \"_ANGLE_FROM_WRIST\" for name in mp_names]\n",
    "columns.append(\"label\")\n",
    "\n",
    "print(f\"dataset columns : {columns}\")\n",
    "\n",
    "create_csv(DATASET_FILENAME, columns)"
   ]
  },
  {
   "cell_type": "code",
   "execution_count": 112,
   "metadata": {},
   "outputs": [],
   "source": [
    "from helpers.csv_utils import write_csv\n",
    "from helpers.computations import compute_distances_angles_from_wrist\n",
    "from helpers.camera import open_image\n",
    "from helpers.mediapipe import draw_landmarks\n",
    "\n",
    "\n",
    "def process_image(image_path: str, label: str, holistics):\n",
    "    image = open_image(image_path)\n",
    "\n",
    "    # Get landmarks\n",
    "    hands, landmarks = get_landmarks(image, holistics)\n",
    "    data = []\n",
    "\n",
    "    if hands and landmarks:\n",
    "\n",
    "        if TEST_MODE:\n",
    "            image = draw_landmarks(image, landmarks, mp_holistic, mp_drawing)\n",
    "\n",
    "        data += hands\n",
    "        data += compute_distances_angles_from_wrist(landmarks.landmark)\n",
    "        data.append(label)\n",
    "\n",
    "        write_csv(DATASET_FILENAME, data)"
   ]
  },
  {
   "cell_type": "code",
   "execution_count": 113,
   "metadata": {},
   "outputs": [],
   "source": [
    "def process_folder(folder):\n",
    "    label = folder.split(\"/\")[-1]\n",
    "    print(f\"Processing folder {label}...\")\n",
    "\n",
    "    with mp_holistic.Holistic(\n",
    "        min_detection_confidence=MIN_DETECTION_CONFIDENCE,\n",
    "        model_complexity=MP_MODEL_COMPLEXITY,\n",
    "    ) as holistic:\n",
    "        for image_filename in os.listdir(folder):\n",
    "            if image_filename.endswith(\".jpg\"):\n",
    "                image_path = os.path.join(folder, image_filename)\n",
    "                process_image(image_path, label, holistic)\n",
    "\n",
    "    print(\"=====================================\")\n",
    "    print(f\"Folder {label} processed !\")"
   ]
  },
  {
   "cell_type": "code",
   "execution_count": 114,
   "metadata": {},
   "outputs": [
    {
     "name": "stdout",
     "output_type": "stream",
     "text": [
      "Processing folder like...\n",
      "Processing folder victory...\n",
      "Processing folder point_up...\n",
      "Processing folder closed...\n",
      "Processing folder victory_inverted...\n",
      "Processing folder hagrid...\n",
      "Processing folder dislike...\n",
      "Processing folder rock...\n"
     ]
    },
    {
     "name": "stderr",
     "output_type": "stream",
     "text": [
      "WARNING: All log messages before absl::InitializeLog() is called are written to STDERR\n",
      "I0000 00:00:1707068779.215222       1 gl_context.cc:344] GL version: 2.1 (2.1 Metal - 88), renderer: Apple M1 Pro\n",
      "WARNING: All log messages before absl::InitializeLog() is called are written to STDERR\n",
      "I0000 00:00:1707068779.215951       1 gl_context.cc:344] GL version: 2.1 (2.1 Metal - 88), renderer: Apple M1 Pro\n",
      "WARNING: All log messages before absl::InitializeLog() is called are written to STDERR\n",
      "I0000 00:00:1707068779.223528       1 gl_context.cc:344] GL version: 2.1 (2.1 Metal - 88), renderer: Apple M1 Pro\n",
      "WARNING: All log messages before absl::InitializeLog() is called are written to STDERR\n",
      "I0000 00:00:1707068779.224453       1 gl_context.cc:344] GL version: 2.1 (2.1 Metal - 88), renderer: Apple M1 Pro\n",
      "WARNING: All log messages before absl::InitializeLog() is called are written to STDERR\n",
      "I0000 00:00:1707068779.224701       1 gl_context.cc:344] GL version: 2.1 (2.1 Metal - 88), renderer: Apple M1 Pro\n",
      "WARNING: All log messages before absl::InitializeLog() is called are written to STDERR\n",
      "I0000 00:00:1707068779.225495       1 gl_context.cc:344] GL version: 2.1 (2.1 Metal - 88), renderer: Apple M1 Pro\n",
      "WARNING: All log messages before absl::InitializeLog() is called are written to STDERR\n",
      "I0000 00:00:1707068779.229201       1 gl_context.cc:344] GL version: 2.1 (2.1 Metal - 88), renderer: Apple M1 Pro\n",
      "WARNING: All log messages before absl::InitializeLog() is called are written to STDERR\n",
      "I0000 00:00:1707068779.261502       1 gl_context.cc:344] GL version: 2.1 (2.1 Metal - 88), renderer: Apple M1 Pro\n",
      "INFO: Created TensorFlow Lite XNNPACK delegate for CPU.\n",
      "INFO: Created TensorFlow Lite XNNPACK delegate for CPU.\n",
      "INFO: Created TensorFlow Lite XNNPACK delegate for CPU.\n",
      "INFO: Created TensorFlow Lite XNNPACK delegate for CPU.\n",
      "INFO: Created TensorFlow Lite XNNPACK delegate for CPU.\n",
      "INFO: Created TensorFlow Lite XNNPACK delegate for CPU.\n",
      "INFO: Created TensorFlow Lite XNNPACK delegate for CPU.\n",
      "INFO: Created TensorFlow Lite XNNPACK delegate for CPU.\n"
     ]
    },
    {
     "name": "stdout",
     "output_type": "stream",
     "text": [
      "=====================================\n",
      "Folder hagrid processed !\n",
      "Processing folder palm...\n"
     ]
    },
    {
     "name": "stderr",
     "output_type": "stream",
     "text": [
      "I0000 00:00:1707068780.747993       1 gl_context.cc:344] GL version: 2.1 (2.1 Metal - 88), renderer: Apple M1 Pro\n"
     ]
    },
    {
     "ename": "KeyboardInterrupt",
     "evalue": "",
     "output_type": "error",
     "traceback": [
      "\u001b[0;31m---------------------------------------------------------------------------\u001b[0m",
      "\u001b[0;31mKeyboardInterrupt\u001b[0m                         Traceback (most recent call last)",
      "Cell \u001b[0;32mIn[114], line 8\u001b[0m\n\u001b[1;32m      5\u001b[0m start_time \u001b[38;5;241m=\u001b[39m time\u001b[38;5;241m.\u001b[39mtime()\n\u001b[1;32m      6\u001b[0m current_subfolder \u001b[38;5;241m=\u001b[39m \u001b[38;5;124m\"\u001b[39m\u001b[38;5;124m\"\u001b[39m\n\u001b[0;32m----> 8\u001b[0m \u001b[43mParallel\u001b[49m\u001b[43m(\u001b[49m\u001b[43mn_jobs\u001b[49m\u001b[38;5;241;43m=\u001b[39;49m\u001b[38;5;241;43m-\u001b[39;49m\u001b[38;5;241;43m1\u001b[39;49m\u001b[43m)\u001b[49m\u001b[43m(\u001b[49m\n\u001b[1;32m      9\u001b[0m \u001b[43m    \u001b[49m\u001b[43mdelayed\u001b[49m\u001b[43m(\u001b[49m\u001b[43mprocess_folder\u001b[49m\u001b[43m)\u001b[49m\u001b[43m(\u001b[49m\u001b[43mfolder\u001b[49m\u001b[43m)\u001b[49m\u001b[43m \u001b[49m\u001b[38;5;28;43;01mfor\u001b[39;49;00m\u001b[43m \u001b[49m\u001b[43mfolder\u001b[49m\u001b[43m,\u001b[49m\u001b[43m \u001b[49m\u001b[43m_\u001b[49m\u001b[43m,\u001b[49m\u001b[43m \u001b[49m\u001b[43m_\u001b[49m\u001b[43m \u001b[49m\u001b[38;5;129;43;01min\u001b[39;49;00m\u001b[43m \u001b[49m\u001b[43mos\u001b[49m\u001b[38;5;241;43m.\u001b[39;49m\u001b[43mwalk\u001b[49m\u001b[43m(\u001b[49m\u001b[43mDATASET_FOLDER_PATH\u001b[49m\u001b[43m)\u001b[49m\n\u001b[1;32m     10\u001b[0m \u001b[43m\u001b[49m\u001b[43m)\u001b[49m\n\u001b[1;32m     12\u001b[0m end_time \u001b[38;5;241m=\u001b[39m time\u001b[38;5;241m.\u001b[39mtime()\n\u001b[1;32m     14\u001b[0m \u001b[38;5;28mprint\u001b[39m(\u001b[38;5;124m\"\u001b[39m\u001b[38;5;124mDone\u001b[39m\u001b[38;5;124m\"\u001b[39m)\n",
      "File \u001b[0;32m~/miniconda3/envs/kinected/lib/python3.11/site-packages/joblib/parallel.py:1952\u001b[0m, in \u001b[0;36mParallel.__call__\u001b[0;34m(self, iterable)\u001b[0m\n\u001b[1;32m   1946\u001b[0m \u001b[38;5;66;03m# The first item from the output is blank, but it makes the interpreter\u001b[39;00m\n\u001b[1;32m   1947\u001b[0m \u001b[38;5;66;03m# progress until it enters the Try/Except block of the generator and\u001b[39;00m\n\u001b[1;32m   1948\u001b[0m \u001b[38;5;66;03m# reach the first `yield` statement. This starts the aynchronous\u001b[39;00m\n\u001b[1;32m   1949\u001b[0m \u001b[38;5;66;03m# dispatch of the tasks to the workers.\u001b[39;00m\n\u001b[1;32m   1950\u001b[0m \u001b[38;5;28mnext\u001b[39m(output)\n\u001b[0;32m-> 1952\u001b[0m \u001b[38;5;28;01mreturn\u001b[39;00m output \u001b[38;5;28;01mif\u001b[39;00m \u001b[38;5;28mself\u001b[39m\u001b[38;5;241m.\u001b[39mreturn_generator \u001b[38;5;28;01melse\u001b[39;00m \u001b[38;5;28;43mlist\u001b[39;49m\u001b[43m(\u001b[49m\u001b[43moutput\u001b[49m\u001b[43m)\u001b[49m\n",
      "File \u001b[0;32m~/miniconda3/envs/kinected/lib/python3.11/site-packages/joblib/parallel.py:1595\u001b[0m, in \u001b[0;36mParallel._get_outputs\u001b[0;34m(self, iterator, pre_dispatch)\u001b[0m\n\u001b[1;32m   1592\u001b[0m     \u001b[38;5;28;01myield\u001b[39;00m\n\u001b[1;32m   1594\u001b[0m     \u001b[38;5;28;01mwith\u001b[39;00m \u001b[38;5;28mself\u001b[39m\u001b[38;5;241m.\u001b[39m_backend\u001b[38;5;241m.\u001b[39mretrieval_context():\n\u001b[0;32m-> 1595\u001b[0m         \u001b[38;5;28;01myield from\u001b[39;00m \u001b[38;5;28mself\u001b[39m\u001b[38;5;241m.\u001b[39m_retrieve()\n\u001b[1;32m   1597\u001b[0m \u001b[38;5;28;01mexcept\u001b[39;00m \u001b[38;5;167;01mGeneratorExit\u001b[39;00m:\n\u001b[1;32m   1598\u001b[0m     \u001b[38;5;66;03m# The generator has been garbage collected before being fully\u001b[39;00m\n\u001b[1;32m   1599\u001b[0m     \u001b[38;5;66;03m# consumed. This aborts the remaining tasks if possible and warn\u001b[39;00m\n\u001b[1;32m   1600\u001b[0m     \u001b[38;5;66;03m# the user if necessary.\u001b[39;00m\n\u001b[1;32m   1601\u001b[0m     \u001b[38;5;28mself\u001b[39m\u001b[38;5;241m.\u001b[39m_exception \u001b[38;5;241m=\u001b[39m \u001b[38;5;28;01mTrue\u001b[39;00m\n",
      "File \u001b[0;32m~/miniconda3/envs/kinected/lib/python3.11/site-packages/joblib/parallel.py:1707\u001b[0m, in \u001b[0;36mParallel._retrieve\u001b[0;34m(self)\u001b[0m\n\u001b[1;32m   1702\u001b[0m \u001b[38;5;66;03m# If the next job is not ready for retrieval yet, we just wait for\u001b[39;00m\n\u001b[1;32m   1703\u001b[0m \u001b[38;5;66;03m# async callbacks to progress.\u001b[39;00m\n\u001b[1;32m   1704\u001b[0m \u001b[38;5;28;01mif\u001b[39;00m ((\u001b[38;5;28mlen\u001b[39m(\u001b[38;5;28mself\u001b[39m\u001b[38;5;241m.\u001b[39m_jobs) \u001b[38;5;241m==\u001b[39m \u001b[38;5;241m0\u001b[39m) \u001b[38;5;129;01mor\u001b[39;00m\n\u001b[1;32m   1705\u001b[0m     (\u001b[38;5;28mself\u001b[39m\u001b[38;5;241m.\u001b[39m_jobs[\u001b[38;5;241m0\u001b[39m]\u001b[38;5;241m.\u001b[39mget_status(\n\u001b[1;32m   1706\u001b[0m         timeout\u001b[38;5;241m=\u001b[39m\u001b[38;5;28mself\u001b[39m\u001b[38;5;241m.\u001b[39mtimeout) \u001b[38;5;241m==\u001b[39m TASK_PENDING)):\n\u001b[0;32m-> 1707\u001b[0m     time\u001b[38;5;241m.\u001b[39msleep(\u001b[38;5;241m0.01\u001b[39m)\n\u001b[1;32m   1708\u001b[0m     \u001b[38;5;28;01mcontinue\u001b[39;00m\n\u001b[1;32m   1710\u001b[0m \u001b[38;5;66;03m# We need to be careful: the job list can be filling up as\u001b[39;00m\n\u001b[1;32m   1711\u001b[0m \u001b[38;5;66;03m# we empty it and Python list are not thread-safe by\u001b[39;00m\n\u001b[1;32m   1712\u001b[0m \u001b[38;5;66;03m# default hence the use of the lock\u001b[39;00m\n",
      "\u001b[0;31mKeyboardInterrupt\u001b[0m: "
     ]
    }
   ],
   "source": [
    "from helpers.misc import get_timestamp\n",
    "\n",
    "\n",
    "if not TEST_MODE and __name__ == \"__main__\":\n",
    "    start_time = time.time()\n",
    "    current_subfolder = \"\"\n",
    "\n",
    "    Parallel(n_jobs=-1)(  # Use all available cores\n",
    "        delayed(process_folder)(folder) for folder, _, _ in os.walk(DATASET_FOLDER_PATH)\n",
    "    )\n",
    "\n",
    "    end_time = time.time()\n",
    "\n",
    "    print(\"Done\")\n",
    "    print(f\"Dataset generated in {get_timestamp(end_time - start_time)}\")"
   ]
  },
  {
   "cell_type": "markdown",
   "metadata": {},
   "source": [
    "## Dataset limitations\n",
    "\n",
    "If mediapipe made any wrong hand landmark prediction, the dataset may not be perfect...\n"
   ]
  }
 ],
 "metadata": {
  "kernelspec": {
   "display_name": "kinected",
   "language": "python",
   "name": "python3"
  },
  "language_info": {
   "codemirror_mode": {
    "name": "ipython",
    "version": 3
   },
   "file_extension": ".py",
   "mimetype": "text/x-python",
   "name": "python",
   "nbconvert_exporter": "python",
   "pygments_lexer": "ipython3",
   "version": "3.11.5"
  }
 },
 "nbformat": 4,
 "nbformat_minor": 2
}
